{
 "cells": [
  {
   "attachments": {},
   "cell_type": "markdown",
   "id": "3dc71d1e-b720-4f08-85a7-2299caa49ac2",
   "metadata": {},
   "source": [
    "# Journal Entry Test"
   ]
  },
  {
   "cell_type": "markdown",
   "id": "926cb63c",
   "metadata": {},
   "source": [
    "This is a template jupyter notebook to perform journal entry tests upon request of the financial audit team. \n",
    "\n",
    "## Instructions\n",
    "\n",
    "Make sure that you are not saving this repository on a network drive, as this may cause issues with the virtual environment because the resolved network path may differ from the path used to create the virtual environment. \n",
    "\n",
    "First of all, you need to download the journal entry test template from the [JET repository](https://github.com/tlex-web/journal-entry-tests.git) and save it to your local machine. To do so, run the following command:\n",
    "\n",
    "```bash\n",
    "git clone https://github.com/tlex-web/journal-entry-tests.git\n",
    "```\n",
    "\n",
    "You need to create a virtual environment for python using the `venv` module. To do so, open a command prompt and run the following command, assuming you are in the root folder of the JET repository and have at least Python 3.10 installed on your machine:\n",
    "\n",
    "```bash\n",
    "python.exe -m venv venv\n",
    "```\n",
    "\n",
    "Once the virtual environment is created, you need to activate it. To do so, run the following command:\n",
    "\n",
    "```bash\n",
    "\\venv\\scripts\\activate.bat\n",
    "```\n",
    "\n",
    "Once the virtual environment is activated, you need to install the dependencies. To do so, run the following command:\n",
    "\n",
    "```bash\n",
    "pip install -r requirements.txt\n",
    "```\n",
    "\n",
    "You can now run the notebook. To do so, run the following command:\n",
    "\n",
    "```bash\n",
    "jupyter-lab\n",
    "```\n",
    "\n",
    "Once the notebook is running, you can open the notebook by clicking on the `JET.ipynb` file in the file browser.\n",
    "\n",
    "**_or_** \n",
    "\n",
    "You can also open and run the notebook directly in Visual Studio Code. To do so, open the `JET.ipynb` file in Visual Studio Code and click on the `Run Cell` button in the top right corner of the notebook.\n",
    "\n",
    "\n",
    "## Input\n",
    "\n",
    "The following information is required to run the journal entry test:\n",
    "\n",
    "* **Journal Entry Test Date**: The date the journal entry test was performed.\n",
    "* **Journal Entry Test Performed By**: The name of the person who performed the journal entry test.\n",
    "* **Journal Entry Test Reviewed By**: The name of the person who reviewed the journal entry test.\n",
    "* **Journal Entry Test Reviewed Date**: The date the journal entry test was reviewed.\n",
    "* **General Ledger**: The general ledger of the company.\n",
    "* **Trial Balance**: The trial balance of the company.\n",
    "\n",
    "The `General Ledger` and `Trial Balance` files must be in CSV format. The `General Ledger` file must at least contain the following columns:\n",
    "\n",
    "* **Account**: The account number.\n",
    "* **Account Description**: The account description.\n",
    "* **Debit**: The debit amount.\n",
    "* **Credit**: The credit amount.\n",
    "* **Date**: The date of the transaction.\n",
    "* **Journal Entry**: The journal entry number.\n",
    "* **Journal Entry Description**: The journal entry description.\n",
    "\n",
    "The `Trial Balance` file must at least contain the following columns:\n",
    "\n",
    "* **Account**: The account number.\n",
    "* **Account Description**: The account description.\n",
    "* **Debit**: The debit amount.\n",
    "* **Credit**: The credit amount.\n",
    "\n",
    "The `General Ledger` and `Trial Balance` files must be saved in the `data` folder. The `General Ledger` file must be named `general_ledger.csv` and the `Trial Balance` file must be named `trial_balance.csv`.\n",
    "\n",
    "## Output\n",
    "\n",
    "The notebook is designed to automatically generate the following file structure:\n",
    "\n",
    "```\n",
    ".\n",
    "├── JET.ipynb\n",
    "├── JET.pdf\n",
    "├── JET.html\n",
    "├── /data/\n",
    "    ├── /data/general__ledger.csv\n",
    "    ├── /data/trial_balance.csv\n",
    "    ├── /data/data.csv\n",
    "├── /helpers/helpers.py\n",
    "└── /results/\n",
    "    ├── /JB0/results.xlsx | no_result.txt\n",
    "    ├── /JB1/results.xlsx | no_result.txt\n",
    "    ├── /JB2/results.xlsx | no_result.txt\n",
    "    ├── /JB3/results.xlsx | no_result.txt\n",
    "    ├── /JB4/results.xlsx | no_result.txt\n",
    "    ├── /JB5/results.xlsx | no_result.txt\n",
    "    ├── /JB6/results.xlsx | no_result.txt\n",
    "    ├── /JB7/results.xlsx | no_result.txt\n",
    "    ├── /JB8/results.xlsx | no_result.txt\n",
    "    ├── /JB9/results.xlsx | no_result.txt\n",
    "    └── /JB10/results.xlsx | no_result.txt\n",
    "``` \n",
    "\n",
    "The `JET.ipynb` notebook is the template notebook that you downloaded from the JET repository. The `JET.pdf` and `JET.html` files are copies of the notebook in PDF and HTML format. The `data` folder contains the data used to perform the journal entry test. The `results` folder contains the results of the journal entry test. The results are stored in Excel format. If no results are found for a journal entry test, a `no_result.txt` file is created in the corresponding journal entry test folder. The `helpers.py` file contains the helper functions used to perform the journal entry test.\n",
    "\n",
    "## Dependencies\n",
    "\n",
    "The following dependencies are required to run the journal entry test:\n",
    "\n",
    "* [Python 3.10](https://www.python.org/downloads/release/python-310/)\n",
    "* [Jupyter Notebook latests release](https://jupyter.org/)\n",
    "* [Pandas latests release](https://pandas.pydata.org/)\n",
    "* [Numpy latests release](http://www.numpy.org/)\n",
    "* [Plotly latests release](https://plotly.com/)\n",
    "* [Matplotlib latests release](https://matplotlib.org/)\n",
    "* [Seaborn latests release](https://seaborn.pydata.org/)\n",
    "* [XlsxWriter latests release](https://xlsxwriter.readthedocs.io/)\n",
    "\n",
    "Please note that the notebook is designed to automatically install the required dependencies if they are not already installed on your machine. In case the automatic installation fails, please install the dependencies manually using the `pip install` command to install the dependencies listed in the `requirements.txt` lock file."
   ]
  },
  {
   "attachments": {},
   "cell_type": "markdown",
   "id": "ec9b3670-bfe9-4fdf-8660-0678dd88363d",
   "metadata": {},
   "source": [
    "## Import and Sanitization"
   ]
  },
  {
   "cell_type": "code",
   "execution_count": 111,
   "id": "e34646d6-ae54-4772-be81-be80e1bde3be",
   "metadata": {},
   "outputs": [
    {
     "data": {
      "text/html": [
       "        <script type=\"text/javascript\">\n",
       "        window.PlotlyConfig = {MathJaxConfig: 'local'};\n",
       "        if (window.MathJax && window.MathJax.Hub && window.MathJax.Hub.Config) {window.MathJax.Hub.Config({SVG: {font: \"STIX-Web\"}});}\n",
       "        if (typeof require !== 'undefined') {\n",
       "        require.undef(\"plotly\");\n",
       "        requirejs.config({\n",
       "            paths: {\n",
       "                'plotly': ['https://cdn.plot.ly/plotly-2.24.1.min']\n",
       "            }\n",
       "        });\n",
       "        require(['plotly'], function(Plotly) {\n",
       "            window._Plotly = Plotly;\n",
       "        });\n",
       "        }\n",
       "        </script>\n",
       "        "
      ]
     },
     "metadata": {},
     "output_type": "display_data"
    }
   ],
   "source": [
    "# load required packages\n",
    "import pandas as pd\n",
    "import numpy as np\n",
    "import matplotlib.pyplot as plt\n",
    "import plotly.express as px\n",
    "import plotly.graph_objects as go\n",
    "import plotly.subplots as sp\n",
    "import plotly.offline\n",
    "import seaborn as sns\n",
    "import missingno as msno\n",
    "\n",
    "import os\n",
    "import json\n",
    "\n",
    "# offline plot setting\n",
    "plotly.offline.init_notebook_mode(connected=True)"
   ]
  },
  {
   "cell_type": "code",
   "execution_count": 112,
   "id": "b415fa96",
   "metadata": {},
   "outputs": [],
   "source": [
    "# load internal libraries\n",
    "from helpers.helpers import get_holidays"
   ]
  },
  {
   "cell_type": "code",
   "execution_count": 113,
   "id": "9b876913",
   "metadata": {},
   "outputs": [],
   "source": [
    "# create data folder if not exists\n",
    "if not os.path.exists('data'):\n",
    "    os.makedirs('data')\n",
    "\n",
    "with os.scandir('data') as entries:\n",
    "    if not any(entries):\n",
    "        with open('place GL and TB csv files here.txt', 'w') as f:\n",
    "            f.write('')\n",
    "\n",
    "# create results folder and all subfolders for the JET tests if they do not yet exists\n",
    "if not os.path.exists('results'):\n",
    "    os.makedirs('results')\n",
    "\n",
    "for i in range(0, 11):\n",
    "    if not os.path.exists('results/JB' + str(i)):\n",
    "        os.makedirs('results/JB' + str(i))"
   ]
  },
  {
   "cell_type": "code",
   "execution_count": 114,
   "id": "25c808fb",
   "metadata": {},
   "outputs": [],
   "source": [
    "# constants\n",
    "class bcolors:\n",
    "    HEADER = '\\033[95m'\n",
    "    OKBLUE = '\\033[94m'\n",
    "    OKCYAN = '\\033[96m'\n",
    "    OKGREEN = '\\033[92m'\n",
    "    WARNING = '\\033[93m'\n",
    "    FAIL = '\\033[91m'\n",
    "    ENDC = '\\033[0m'\n",
    "    BOLD = '\\033[1m'\n",
    "    UNDERLINE = '\\033[4m'"
   ]
  },
  {
   "cell_type": "code",
   "execution_count": 115,
   "id": "dbf1d673",
   "metadata": {},
   "outputs": [],
   "source": [
    "# global variables\n",
    "jet_execution_date = '2021-12-31'\n",
    "jet_execution_person = 'John Doe'\n",
    "jet_execution_review_date = '2022-01-01'\n",
    "jet_execution_reviewer = 'Jane Doe'\n",
    "\n",
    "# notebook variables\n",
    "relative_path = './data/'\n",
    "filename_gl = relative_path + 'general_ledger.csv' # Please update if you want to use a different file\n",
    "filename_tb = relative_path + 'trial_balance.csv' # Please update if you want to use a different file"
   ]
  },
  {
   "cell_type": "markdown",
   "id": "6b134b24",
   "metadata": {},
   "source": [
    "Please remember to change the text encoding to `UTF-8` when importing the `General Ledger` and `Trial Balance` files. This is to ensure that the files are imported correctly. \n",
    "You can do so by opening the files in a text editor such as [Notepad++](https://notepad-plus-plus.org/downloads/) or the [Notepad](https://apps.microsoft.com/store/detail/windows-notepad/9MSMLRH6LZF3) and changing the encoding to `UTF-8` in the `Encoding` menu while saving the files."
   ]
  },
  {
   "cell_type": "code",
   "execution_count": 116,
   "id": "c24501b7-b9bc-4769-bba3-bcaad5f38818",
   "metadata": {},
   "outputs": [
    {
     "data": {
      "text/html": [
       "<div>\n",
       "<style scoped>\n",
       "    .dataframe tbody tr th:only-of-type {\n",
       "        vertical-align: middle;\n",
       "    }\n",
       "\n",
       "    .dataframe tbody tr th {\n",
       "        vertical-align: top;\n",
       "    }\n",
       "\n",
       "    .dataframe thead th {\n",
       "        text-align: right;\n",
       "    }\n",
       "</style>\n",
       "<table border=\"1\" class=\"dataframe\">\n",
       "  <thead>\n",
       "    <tr style=\"text-align: right;\">\n",
       "      <th></th>\n",
       "      <th>Buch'nr.</th>\n",
       "      <th>Zeilenr.</th>\n",
       "      <th>Belegdat.</th>\n",
       "      <th>Belegnr.</th>\n",
       "      <th>Sollkto.</th>\n",
       "      <th>S'betrag EUR</th>\n",
       "      <th>S'betrag EUR.1</th>\n",
       "      <th>Habenkto.</th>\n",
       "      <th>H'betrag EUR</th>\n",
       "      <th>Buch'text</th>\n",
       "      <th>Währung</th>\n",
       "      <th>Benutzer</th>\n",
       "      <th>Buch'datum</th>\n",
       "      <th>Belegherkunft</th>\n",
       "    </tr>\n",
       "  </thead>\n",
       "  <tbody>\n",
       "    <tr>\n",
       "      <th>0</th>\n",
       "      <td>483476</td>\n",
       "      <td>1</td>\n",
       "      <td>01.01.2021</td>\n",
       "      <td>R02289401 2022</td>\n",
       "      <td>4360.0</td>\n",
       "      <td>51.86</td>\n",
       "      <td>51.86</td>\n",
       "      <td>NaN</td>\n",
       "      <td>NaN</td>\n",
       "      <td>lalux - Leudelange</td>\n",
       "      <td>EUR</td>\n",
       "      <td>hess</td>\n",
       "      <td>01/01/2022</td>\n",
       "      <td>stapelbuchen</td>\n",
       "    </tr>\n",
       "    <tr>\n",
       "      <th>1</th>\n",
       "      <td>483476</td>\n",
       "      <td>2</td>\n",
       "      <td>01.01.2021</td>\n",
       "      <td>R02289401 2022</td>\n",
       "      <td>NaN</td>\n",
       "      <td>NaN</td>\n",
       "      <td>NaN</td>\n",
       "      <td>72072.0</td>\n",
       "      <td>51.86</td>\n",
       "      <td>lalux - Leudelange</td>\n",
       "      <td>EUR</td>\n",
       "      <td>hess</td>\n",
       "      <td>02/01/2022</td>\n",
       "      <td>stapelbuchen</td>\n",
       "    </tr>\n",
       "    <tr>\n",
       "      <th>2</th>\n",
       "      <td>483476</td>\n",
       "      <td>3</td>\n",
       "      <td>01.01.2021</td>\n",
       "      <td>R02289401 2022</td>\n",
       "      <td>NaN</td>\n",
       "      <td>NaN</td>\n",
       "      <td>NaN</td>\n",
       "      <td>1600.0</td>\n",
       "      <td>51.86</td>\n",
       "      <td>lalux - Leudelange</td>\n",
       "      <td>EUR</td>\n",
       "      <td>hess</td>\n",
       "      <td>03/01/2022</td>\n",
       "      <td>stapelbuchen</td>\n",
       "    </tr>\n",
       "    <tr>\n",
       "      <th>3</th>\n",
       "      <td>483931</td>\n",
       "      <td>1</td>\n",
       "      <td>06.06.2021</td>\n",
       "      <td>3022100219105-01</td>\n",
       "      <td>4138.0</td>\n",
       "      <td>1533.08</td>\n",
       "      <td>1533.08</td>\n",
       "      <td>NaN</td>\n",
       "      <td>NaN</td>\n",
       "      <td>BG RCI - Heidelberg</td>\n",
       "      <td>EUR</td>\n",
       "      <td>hess</td>\n",
       "      <td>04/01/2022</td>\n",
       "      <td>stapelbuchen</td>\n",
       "    </tr>\n",
       "    <tr>\n",
       "      <th>4</th>\n",
       "      <td>483931</td>\n",
       "      <td>2</td>\n",
       "      <td>06.06.2021</td>\n",
       "      <td>3022100219105-01</td>\n",
       "      <td>NaN</td>\n",
       "      <td>NaN</td>\n",
       "      <td>NaN</td>\n",
       "      <td>71781.0</td>\n",
       "      <td>1533.08</td>\n",
       "      <td>BG RCI - Heidelberg</td>\n",
       "      <td>EUR</td>\n",
       "      <td>hess</td>\n",
       "      <td>05/01/2022</td>\n",
       "      <td>stapelbuchen</td>\n",
       "    </tr>\n",
       "  </tbody>\n",
       "</table>\n",
       "</div>"
      ],
      "text/plain": [
       "   Buch'nr.  Zeilenr.   Belegdat.          Belegnr.  Sollkto.  S'betrag EUR  \\\n",
       "0    483476         1  01.01.2021    R02289401 2022    4360.0         51.86   \n",
       "1    483476         2  01.01.2021    R02289401 2022       NaN           NaN   \n",
       "2    483476         3  01.01.2021    R02289401 2022       NaN           NaN   \n",
       "3    483931         1  06.06.2021  3022100219105-01    4138.0       1533.08   \n",
       "4    483931         2  06.06.2021  3022100219105-01       NaN           NaN   \n",
       "\n",
       "   S'betrag EUR.1  Habenkto.  H'betrag EUR            Buch'text Währung  \\\n",
       "0           51.86        NaN           NaN   lalux - Leudelange     EUR   \n",
       "1             NaN    72072.0         51.86   lalux - Leudelange     EUR   \n",
       "2             NaN     1600.0         51.86   lalux - Leudelange     EUR   \n",
       "3         1533.08        NaN           NaN  BG RCI - Heidelberg     EUR   \n",
       "4             NaN    71781.0       1533.08  BG RCI - Heidelberg     EUR   \n",
       "\n",
       "  Benutzer  Buch'datum Belegherkunft  \n",
       "0     hess  01/01/2022  stapelbuchen  \n",
       "1     hess  02/01/2022  stapelbuchen  \n",
       "2     hess  03/01/2022  stapelbuchen  \n",
       "3     hess  04/01/2022  stapelbuchen  \n",
       "4     hess  05/01/2022  stapelbuchen  "
      ]
     },
     "execution_count": 116,
     "metadata": {},
     "output_type": "execute_result"
    }
   ],
   "source": [
    "# data import \n",
    "# set the appropriate decimal and separator characters\n",
    "df_gl = pd.read_csv(filename_gl, sep = \";\", decimal = \",\")\n",
    "df_tb = pd.read_csv(filename_tb, sep = \";\", decimal = \",\")\n",
    "\n",
    "# check if all columns are correctly imported and the floating point numbers are correctly interpreted\n",
    "df_gl.head()"
   ]
  },
  {
   "cell_type": "code",
   "execution_count": 117,
   "id": "b200eb09-53a0-4b6d-95e8-24a51942489d",
   "metadata": {},
   "outputs": [
    {
     "data": {
      "text/plain": [
       "(Buch'nr.            int64\n",
       " Zeilenr.            int64\n",
       " Belegdat.          object\n",
       " Belegnr.           object\n",
       " Sollkto.          float64\n",
       " S'betrag EUR      float64\n",
       " S'betrag EUR.1    float64\n",
       " Habenkto.         float64\n",
       " H'betrag EUR      float64\n",
       " Buch'text          object\n",
       " Währung            object\n",
       " Benutzer           object\n",
       " Buch'datum         object\n",
       " Belegherkunft      object\n",
       " dtype: object,\n",
       " Nr.              int64\n",
       " Bezeichnung     object\n",
       " Soll           float64\n",
       " Haben          float64\n",
       " Soll2          float64\n",
       " Haben3         float64\n",
       " Soll4          float64\n",
       " Haben5         float64\n",
       " Soll6          float64\n",
       " Haben7         float64\n",
       " dtype: object)"
      ]
     },
     "execution_count": 117,
     "metadata": {},
     "output_type": "execute_result"
    }
   ],
   "source": [
    "# check data types \n",
    "df_gl.dtypes, df_tb.dtypes"
   ]
  },
  {
   "cell_type": "code",
   "execution_count": 118,
   "id": "508f2d79-6535-43e7-baa7-25071c77faa4",
   "metadata": {},
   "outputs": [
    {
     "data": {
      "text/plain": [
       "(booking_nr         category\n",
       " line_nr               int64\n",
       " document_date        object\n",
       " document_nr          object\n",
       " debit_account      category\n",
       " debit_amount        float64\n",
       " s'betrag eur.1      float64\n",
       " credit_account     category\n",
       " credit_amount       float64\n",
       " description          object\n",
       " currency             object\n",
       " user                 object\n",
       " booking_date         object\n",
       " document_source      object\n",
       " dtype: object,\n",
       " kontonummer         category\n",
       " kontobezeichnung      object\n",
       " soll_ob              float64\n",
       " haben_ob             float64\n",
       " soll_periode_13      float64\n",
       " haben_periode_13     float64\n",
       " soll_periode_12      float64\n",
       " haben_periode_12     float64\n",
       " soll_saldo           float64\n",
       " haben_saldo          float64\n",
       " dtype: object)"
      ]
     },
     "execution_count": 118,
     "metadata": {},
     "output_type": "execute_result"
    }
   ],
   "source": [
    "# sanitize data \n",
    "# change column names and data types in place \n",
    "# do so for both dataframes and all columns that need to be changed\n",
    "\n",
    "def sanitize_gl(df: pd.DataFrame) -> pd.DataFrame:\n",
    "\n",
    "    # lowercase column names\n",
    "    df.columns = df.columns.str.lower()\n",
    "\n",
    "    # rename columns\n",
    "    df = df.rename(columns={\n",
    "    \"buch'nr.\": \"booking_nr\",\n",
    "    \"buch'datum\": \"booking_date\",\n",
    "    \"belegherkunft\": \"document_source\",\n",
    "    \"benutzer\": \"user\",\n",
    "    \"zeilenr.\": \"line_nr\",\n",
    "    \"belegdat.\": \"document_date\",\n",
    "    \"belegnr.\": \"document_nr\",\n",
    "    \"betrag\": \"amount\",\n",
    "    \"währung\": \"currency\",\n",
    "    \"buch'text\": \"description\",\n",
    "    \"sollkto.\": \"debit_account\",\n",
    "    \"habenkto.\": \"credit_account\",\n",
    "    \"s'betrag eur\": \"debit_amount\",\n",
    "    \"h'betrag eur\": \"credit_amount\",\n",
    "    })\n",
    "\n",
    "    # cast data types \n",
    "\n",
    "    # numbers \n",
    "    df[\"booking_nr\"] = df[\"booking_nr\"].astype(\"Int64\") # remove the trailling commas\n",
    "    df[\"booking_nr\"] = df[\"booking_nr\"].astype('category')\n",
    "    \n",
    "    # dates\n",
    "    df[\"document_date\"] = pd.to_datetime(df[\"document_date\"], format=\"mixed\", errors=\"coerce\")\n",
    "\n",
    "    # strings \n",
    "    df[\"document_date\"] = df[\"document_date\"].astype(str)\n",
    "    df[\"description\"] = df[\"description\"].astype(str)\n",
    "    df[\"currency\"] = df[\"currency\"].astype(str)\n",
    "\n",
    "    # category\n",
    "    df[\"credit_account\"] = df[\"credit_account\"].astype(\"Int64\") # remove the trailling commas\n",
    "    df[\"credit_account\"] = df[\"credit_account\"].astype(\"category\")\n",
    "    df[\"debit_account\"] = df[\"debit_account\"].astype(\"Int64\")\n",
    "    df[\"debit_account\"] = df[\"debit_account\"].astype(\"category\")\n",
    "    \n",
    "    return df\n",
    "\n",
    "def sanitize_tb(df: pd.DataFrame) -> pd.DataFrame:\n",
    "\n",
    "    # lowercase column names\n",
    "    df.columns = df.columns.str.lower()\n",
    "\n",
    "    # rename columns\n",
    "    df = df.rename(columns={\n",
    "    \"nr.\": \"kontonummer\",\n",
    "    \"bezeichnung\": \"kontobezeichnung\",\n",
    "    \"soll\": \"soll_ob\",\n",
    "    \"haben\": \"haben_ob\",\n",
    "    \"soll2\": \"soll_periode_13\",\n",
    "    \"haben3\": \"haben_periode_13\",\n",
    "    \"soll4\": \"soll_periode_12\",\n",
    "    \"haben5\": \"haben_periode_12\",\n",
    "    \"soll6\": \"soll_saldo\",\n",
    "    \"haben7\": \"haben_saldo\"})\n",
    "\n",
    "    # cast data types \n",
    "    df[\"kontobezeichnung\"] = df[\"kontobezeichnung\"].astype(str)\n",
    "\n",
    "    # category\n",
    "    df[\"kontonummer\"] = df[\"kontonummer\"].astype(\"Int64\") # remove the trailing commas\n",
    "    df[\"kontonummer\"] = df[\"kontonummer\"].astype(\"category\")\n",
    "    \n",
    "    \n",
    "    return df\n",
    "\n",
    "\n",
    "# change df in place\n",
    "df_gl = sanitize_gl(df_gl)\n",
    "df_tb = sanitize_tb(df_tb)\n",
    "\n",
    "df_gl.dtypes, df_tb.dtypes"
   ]
  },
  {
   "cell_type": "code",
   "execution_count": 119,
   "id": "135b4eec-f348-43f0-914d-1382d6b1cc26",
   "metadata": {},
   "outputs": [],
   "source": [
    "# remove redundant information \n",
    "del df_gl[\"s'betrag eur.1\"]"
   ]
  },
  {
   "cell_type": "code",
   "execution_count": 120,
   "id": "d3ab1bc5",
   "metadata": {},
   "outputs": [],
   "source": [
    "# in case you need to join the general ledger with the header file, please uncomment the following lines\n",
    "# join the header file with the general ledger file to populate the GL with the missing information from the header file and keep all the information from the GL file\n",
    "\n",
    "# df_gl_ = pd.merge(df_gl, df_header, on = \"index\", how = \"outer\", suffixes = ('_left', '_right'))\n",
    "\n",
    "# df_gl_.to_excel('data/general_ledger_complete.xlsx', index=False, sheet_name='GL')\n",
    "\n",
    "# len(df_gl), len(df_gl_), df_gl_.head()"
   ]
  },
  {
   "cell_type": "code",
   "execution_count": 121,
   "id": "9f6f1971",
   "metadata": {},
   "outputs": [],
   "source": [
    "# export column names as a dictionary to quickly access the column names\n",
    "dict_columns_gl = dict(zip(df_gl.columns, range(len(df_gl.columns))))\n",
    "dict_columns_tb = dict(zip(df_tb.columns, range(len(df_tb.columns))))\n",
    "\n",
    "with open('dict_columns_gl.json', 'w') as fp:\n",
    "    json.dump(dict_columns_gl, fp)\n",
    "\n",
    "with open('dict_columns_tb.json', 'w') as fp:\n",
    "    json.dump(dict_columns_tb, fp)"
   ]
  },
  {
   "attachments": {},
   "cell_type": "markdown",
   "id": "67a51ff0-2b0b-4031-be33-cdf405540978",
   "metadata": {},
   "source": [
    "## Missing values"
   ]
  },
  {
   "cell_type": "markdown",
   "id": "60678540",
   "metadata": {},
   "source": [
    "__investigate missing values__\n",
    "\n",
    "check if there are any missing values in the dataframes and explain why they are missing\n",
    "\n",
    "e.g. missing values in the general ledger file are due to the fact that the header file is missing information for the respective booking and the debit and credit amounts for each booking are stored in separate rows.\n",
    "\n",
    "e.g. missing values in the trial balance file are due to the fact that the account is not used in the respective period"
   ]
  },
  {
   "cell_type": "code",
   "execution_count": 122,
   "id": "ad5b55de-53a4-48fe-a0a4-927c007159a3",
   "metadata": {},
   "outputs": [
    {
     "data": {
      "application/vnd.plotly.v1+json": {
       "config": {
        "plotlyServerURL": "https://plot.ly"
       },
       "data": [
        {
         "marker": {
          "color": "rgba(18, 63, 90, 0.95)",
          "line": {
           "color": "rgba(18, 63, 90, 1.0)",
           "width": 1
          }
         },
         "name": "Relative amount of missing values (%)",
         "orientation": "h",
         "type": "bar",
         "x": [
          49.01339455325891,
          49.01339455325891,
          50.98660544674109,
          50.98660544674109
         ],
         "xaxis": "x",
         "y": [
          "credit_account",
          "credit_amount",
          "debit_account",
          "debit_amount"
         ],
         "yaxis": "y"
        },
        {
         "line": {
          "color": "rgb(0, 68, 27)"
         },
         "mode": "lines+markers",
         "name": "Absolute values of missing values",
         "type": "scatter",
         "x": [
          60633,
          60633,
          63074,
          63074
         ],
         "xaxis": "x2",
         "y": [
          "credit_account",
          "credit_amount",
          "debit_account",
          "debit_amount"
         ],
         "yaxis": "y2"
        }
       ],
       "layout": {
        "annotations": [
         {
          "font": {
           "color": "rgb(0, 68, 27)",
           "family": "Arial",
           "size": 12
          },
          "showarrow": false,
          "text": "60,633.0",
          "x": 60133,
          "xref": "x2",
          "y": "credit_account",
          "yref": "y2"
         },
         {
          "font": {
           "color": "rgb(18, 63, 90)",
           "family": "Arial",
           "size": 12
          },
          "showarrow": false,
          "text": "49.01%",
          "x": 49.76,
          "xref": "x",
          "y": "credit_account",
          "yref": "y"
         },
         {
          "font": {
           "color": "rgb(0, 68, 27)",
           "family": "Arial",
           "size": 12
          },
          "showarrow": false,
          "text": "60,633.0",
          "x": 60133,
          "xref": "x2",
          "y": "credit_amount",
          "yref": "y2"
         },
         {
          "font": {
           "color": "rgb(18, 63, 90)",
           "family": "Arial",
           "size": 12
          },
          "showarrow": false,
          "text": "49.01%",
          "x": 49.76,
          "xref": "x",
          "y": "credit_amount",
          "yref": "y"
         },
         {
          "font": {
           "color": "rgb(0, 68, 27)",
           "family": "Arial",
           "size": 12
          },
          "showarrow": false,
          "text": "63,074.0",
          "x": 63574,
          "xref": "x2",
          "y": "debit_account",
          "yref": "y2"
         },
         {
          "font": {
           "color": "rgb(18, 63, 90)",
           "family": "Arial",
           "size": 12
          },
          "showarrow": false,
          "text": "50.99%",
          "x": 51.74,
          "xref": "x",
          "y": "debit_account",
          "yref": "y"
         },
         {
          "font": {
           "color": "rgb(0, 68, 27)",
           "family": "Arial",
           "size": 12
          },
          "showarrow": false,
          "text": "63,074.0",
          "x": 63574,
          "xref": "x2",
          "y": "debit_amount",
          "yref": "y2"
         },
         {
          "font": {
           "color": "rgb(18, 63, 90)",
           "family": "Arial",
           "size": 12
          },
          "showarrow": false,
          "text": "50.99%",
          "x": 51.74,
          "xref": "x",
          "y": "debit_amount",
          "yref": "y"
         }
        ],
        "legend": {
         "font": {
          "size": 10
         },
         "x": 0.029,
         "y": 1.038
        },
        "margin": {
         "b": 70,
         "l": 100,
         "r": 20,
         "t": 70
        },
        "paper_bgcolor": "rgb(248, 248, 255)",
        "plot_bgcolor": "rgb(248, 248, 255)",
        "template": {
         "data": {
          "bar": [
           {
            "error_x": {
             "color": "#2a3f5f"
            },
            "error_y": {
             "color": "#2a3f5f"
            },
            "marker": {
             "line": {
              "color": "#E5ECF6",
              "width": 0.5
             },
             "pattern": {
              "fillmode": "overlay",
              "size": 10,
              "solidity": 0.2
             }
            },
            "type": "bar"
           }
          ],
          "barpolar": [
           {
            "marker": {
             "line": {
              "color": "#E5ECF6",
              "width": 0.5
             },
             "pattern": {
              "fillmode": "overlay",
              "size": 10,
              "solidity": 0.2
             }
            },
            "type": "barpolar"
           }
          ],
          "carpet": [
           {
            "aaxis": {
             "endlinecolor": "#2a3f5f",
             "gridcolor": "white",
             "linecolor": "white",
             "minorgridcolor": "white",
             "startlinecolor": "#2a3f5f"
            },
            "baxis": {
             "endlinecolor": "#2a3f5f",
             "gridcolor": "white",
             "linecolor": "white",
             "minorgridcolor": "white",
             "startlinecolor": "#2a3f5f"
            },
            "type": "carpet"
           }
          ],
          "choropleth": [
           {
            "colorbar": {
             "outlinewidth": 0,
             "ticks": ""
            },
            "type": "choropleth"
           }
          ],
          "contour": [
           {
            "colorbar": {
             "outlinewidth": 0,
             "ticks": ""
            },
            "colorscale": [
             [
              0,
              "#0d0887"
             ],
             [
              0.1111111111111111,
              "#46039f"
             ],
             [
              0.2222222222222222,
              "#7201a8"
             ],
             [
              0.3333333333333333,
              "#9c179e"
             ],
             [
              0.4444444444444444,
              "#bd3786"
             ],
             [
              0.5555555555555556,
              "#d8576b"
             ],
             [
              0.6666666666666666,
              "#ed7953"
             ],
             [
              0.7777777777777778,
              "#fb9f3a"
             ],
             [
              0.8888888888888888,
              "#fdca26"
             ],
             [
              1,
              "#f0f921"
             ]
            ],
            "type": "contour"
           }
          ],
          "contourcarpet": [
           {
            "colorbar": {
             "outlinewidth": 0,
             "ticks": ""
            },
            "type": "contourcarpet"
           }
          ],
          "heatmap": [
           {
            "colorbar": {
             "outlinewidth": 0,
             "ticks": ""
            },
            "colorscale": [
             [
              0,
              "#0d0887"
             ],
             [
              0.1111111111111111,
              "#46039f"
             ],
             [
              0.2222222222222222,
              "#7201a8"
             ],
             [
              0.3333333333333333,
              "#9c179e"
             ],
             [
              0.4444444444444444,
              "#bd3786"
             ],
             [
              0.5555555555555556,
              "#d8576b"
             ],
             [
              0.6666666666666666,
              "#ed7953"
             ],
             [
              0.7777777777777778,
              "#fb9f3a"
             ],
             [
              0.8888888888888888,
              "#fdca26"
             ],
             [
              1,
              "#f0f921"
             ]
            ],
            "type": "heatmap"
           }
          ],
          "heatmapgl": [
           {
            "colorbar": {
             "outlinewidth": 0,
             "ticks": ""
            },
            "colorscale": [
             [
              0,
              "#0d0887"
             ],
             [
              0.1111111111111111,
              "#46039f"
             ],
             [
              0.2222222222222222,
              "#7201a8"
             ],
             [
              0.3333333333333333,
              "#9c179e"
             ],
             [
              0.4444444444444444,
              "#bd3786"
             ],
             [
              0.5555555555555556,
              "#d8576b"
             ],
             [
              0.6666666666666666,
              "#ed7953"
             ],
             [
              0.7777777777777778,
              "#fb9f3a"
             ],
             [
              0.8888888888888888,
              "#fdca26"
             ],
             [
              1,
              "#f0f921"
             ]
            ],
            "type": "heatmapgl"
           }
          ],
          "histogram": [
           {
            "marker": {
             "pattern": {
              "fillmode": "overlay",
              "size": 10,
              "solidity": 0.2
             }
            },
            "type": "histogram"
           }
          ],
          "histogram2d": [
           {
            "colorbar": {
             "outlinewidth": 0,
             "ticks": ""
            },
            "colorscale": [
             [
              0,
              "#0d0887"
             ],
             [
              0.1111111111111111,
              "#46039f"
             ],
             [
              0.2222222222222222,
              "#7201a8"
             ],
             [
              0.3333333333333333,
              "#9c179e"
             ],
             [
              0.4444444444444444,
              "#bd3786"
             ],
             [
              0.5555555555555556,
              "#d8576b"
             ],
             [
              0.6666666666666666,
              "#ed7953"
             ],
             [
              0.7777777777777778,
              "#fb9f3a"
             ],
             [
              0.8888888888888888,
              "#fdca26"
             ],
             [
              1,
              "#f0f921"
             ]
            ],
            "type": "histogram2d"
           }
          ],
          "histogram2dcontour": [
           {
            "colorbar": {
             "outlinewidth": 0,
             "ticks": ""
            },
            "colorscale": [
             [
              0,
              "#0d0887"
             ],
             [
              0.1111111111111111,
              "#46039f"
             ],
             [
              0.2222222222222222,
              "#7201a8"
             ],
             [
              0.3333333333333333,
              "#9c179e"
             ],
             [
              0.4444444444444444,
              "#bd3786"
             ],
             [
              0.5555555555555556,
              "#d8576b"
             ],
             [
              0.6666666666666666,
              "#ed7953"
             ],
             [
              0.7777777777777778,
              "#fb9f3a"
             ],
             [
              0.8888888888888888,
              "#fdca26"
             ],
             [
              1,
              "#f0f921"
             ]
            ],
            "type": "histogram2dcontour"
           }
          ],
          "mesh3d": [
           {
            "colorbar": {
             "outlinewidth": 0,
             "ticks": ""
            },
            "type": "mesh3d"
           }
          ],
          "parcoords": [
           {
            "line": {
             "colorbar": {
              "outlinewidth": 0,
              "ticks": ""
             }
            },
            "type": "parcoords"
           }
          ],
          "pie": [
           {
            "automargin": true,
            "type": "pie"
           }
          ],
          "scatter": [
           {
            "fillpattern": {
             "fillmode": "overlay",
             "size": 10,
             "solidity": 0.2
            },
            "type": "scatter"
           }
          ],
          "scatter3d": [
           {
            "line": {
             "colorbar": {
              "outlinewidth": 0,
              "ticks": ""
             }
            },
            "marker": {
             "colorbar": {
              "outlinewidth": 0,
              "ticks": ""
             }
            },
            "type": "scatter3d"
           }
          ],
          "scattercarpet": [
           {
            "marker": {
             "colorbar": {
              "outlinewidth": 0,
              "ticks": ""
             }
            },
            "type": "scattercarpet"
           }
          ],
          "scattergeo": [
           {
            "marker": {
             "colorbar": {
              "outlinewidth": 0,
              "ticks": ""
             }
            },
            "type": "scattergeo"
           }
          ],
          "scattergl": [
           {
            "marker": {
             "colorbar": {
              "outlinewidth": 0,
              "ticks": ""
             }
            },
            "type": "scattergl"
           }
          ],
          "scattermapbox": [
           {
            "marker": {
             "colorbar": {
              "outlinewidth": 0,
              "ticks": ""
             }
            },
            "type": "scattermapbox"
           }
          ],
          "scatterpolar": [
           {
            "marker": {
             "colorbar": {
              "outlinewidth": 0,
              "ticks": ""
             }
            },
            "type": "scatterpolar"
           }
          ],
          "scatterpolargl": [
           {
            "marker": {
             "colorbar": {
              "outlinewidth": 0,
              "ticks": ""
             }
            },
            "type": "scatterpolargl"
           }
          ],
          "scatterternary": [
           {
            "marker": {
             "colorbar": {
              "outlinewidth": 0,
              "ticks": ""
             }
            },
            "type": "scatterternary"
           }
          ],
          "surface": [
           {
            "colorbar": {
             "outlinewidth": 0,
             "ticks": ""
            },
            "colorscale": [
             [
              0,
              "#0d0887"
             ],
             [
              0.1111111111111111,
              "#46039f"
             ],
             [
              0.2222222222222222,
              "#7201a8"
             ],
             [
              0.3333333333333333,
              "#9c179e"
             ],
             [
              0.4444444444444444,
              "#bd3786"
             ],
             [
              0.5555555555555556,
              "#d8576b"
             ],
             [
              0.6666666666666666,
              "#ed7953"
             ],
             [
              0.7777777777777778,
              "#fb9f3a"
             ],
             [
              0.8888888888888888,
              "#fdca26"
             ],
             [
              1,
              "#f0f921"
             ]
            ],
            "type": "surface"
           }
          ],
          "table": [
           {
            "cells": {
             "fill": {
              "color": "#EBF0F8"
             },
             "line": {
              "color": "white"
             }
            },
            "header": {
             "fill": {
              "color": "#C8D4E3"
             },
             "line": {
              "color": "white"
             }
            },
            "type": "table"
           }
          ]
         },
         "layout": {
          "annotationdefaults": {
           "arrowcolor": "#2a3f5f",
           "arrowhead": 0,
           "arrowwidth": 1
          },
          "autotypenumbers": "strict",
          "coloraxis": {
           "colorbar": {
            "outlinewidth": 0,
            "ticks": ""
           }
          },
          "colorscale": {
           "diverging": [
            [
             0,
             "#8e0152"
            ],
            [
             0.1,
             "#c51b7d"
            ],
            [
             0.2,
             "#de77ae"
            ],
            [
             0.3,
             "#f1b6da"
            ],
            [
             0.4,
             "#fde0ef"
            ],
            [
             0.5,
             "#f7f7f7"
            ],
            [
             0.6,
             "#e6f5d0"
            ],
            [
             0.7,
             "#b8e186"
            ],
            [
             0.8,
             "#7fbc41"
            ],
            [
             0.9,
             "#4d9221"
            ],
            [
             1,
             "#276419"
            ]
           ],
           "sequential": [
            [
             0,
             "#0d0887"
            ],
            [
             0.1111111111111111,
             "#46039f"
            ],
            [
             0.2222222222222222,
             "#7201a8"
            ],
            [
             0.3333333333333333,
             "#9c179e"
            ],
            [
             0.4444444444444444,
             "#bd3786"
            ],
            [
             0.5555555555555556,
             "#d8576b"
            ],
            [
             0.6666666666666666,
             "#ed7953"
            ],
            [
             0.7777777777777778,
             "#fb9f3a"
            ],
            [
             0.8888888888888888,
             "#fdca26"
            ],
            [
             1,
             "#f0f921"
            ]
           ],
           "sequentialminus": [
            [
             0,
             "#0d0887"
            ],
            [
             0.1111111111111111,
             "#46039f"
            ],
            [
             0.2222222222222222,
             "#7201a8"
            ],
            [
             0.3333333333333333,
             "#9c179e"
            ],
            [
             0.4444444444444444,
             "#bd3786"
            ],
            [
             0.5555555555555556,
             "#d8576b"
            ],
            [
             0.6666666666666666,
             "#ed7953"
            ],
            [
             0.7777777777777778,
             "#fb9f3a"
            ],
            [
             0.8888888888888888,
             "#fdca26"
            ],
            [
             1,
             "#f0f921"
            ]
           ]
          },
          "colorway": [
           "#636efa",
           "#EF553B",
           "#00cc96",
           "#ab63fa",
           "#FFA15A",
           "#19d3f3",
           "#FF6692",
           "#B6E880",
           "#FF97FF",
           "#FECB52"
          ],
          "font": {
           "color": "#2a3f5f"
          },
          "geo": {
           "bgcolor": "white",
           "lakecolor": "white",
           "landcolor": "#E5ECF6",
           "showlakes": true,
           "showland": true,
           "subunitcolor": "white"
          },
          "hoverlabel": {
           "align": "left"
          },
          "hovermode": "closest",
          "mapbox": {
           "style": "light"
          },
          "paper_bgcolor": "white",
          "plot_bgcolor": "#E5ECF6",
          "polar": {
           "angularaxis": {
            "gridcolor": "white",
            "linecolor": "white",
            "ticks": ""
           },
           "bgcolor": "#E5ECF6",
           "radialaxis": {
            "gridcolor": "white",
            "linecolor": "white",
            "ticks": ""
           }
          },
          "scene": {
           "xaxis": {
            "backgroundcolor": "#E5ECF6",
            "gridcolor": "white",
            "gridwidth": 2,
            "linecolor": "white",
            "showbackground": true,
            "ticks": "",
            "zerolinecolor": "white"
           },
           "yaxis": {
            "backgroundcolor": "#E5ECF6",
            "gridcolor": "white",
            "gridwidth": 2,
            "linecolor": "white",
            "showbackground": true,
            "ticks": "",
            "zerolinecolor": "white"
           },
           "zaxis": {
            "backgroundcolor": "#E5ECF6",
            "gridcolor": "white",
            "gridwidth": 2,
            "linecolor": "white",
            "showbackground": true,
            "ticks": "",
            "zerolinecolor": "white"
           }
          },
          "shapedefaults": {
           "line": {
            "color": "#2a3f5f"
           }
          },
          "ternary": {
           "aaxis": {
            "gridcolor": "white",
            "linecolor": "white",
            "ticks": ""
           },
           "baxis": {
            "gridcolor": "white",
            "linecolor": "white",
            "ticks": ""
           },
           "bgcolor": "#E5ECF6",
           "caxis": {
            "gridcolor": "white",
            "linecolor": "white",
            "ticks": ""
           }
          },
          "title": {
           "x": 0.05
          },
          "xaxis": {
           "automargin": true,
           "gridcolor": "white",
           "linecolor": "white",
           "ticks": "",
           "title": {
            "standoff": 15
           },
           "zerolinecolor": "white",
           "zerolinewidth": 2
          },
          "yaxis": {
           "automargin": true,
           "gridcolor": "white",
           "linecolor": "white",
           "ticks": "",
           "title": {
            "standoff": 15
           },
           "zerolinecolor": "white",
           "zerolinewidth": 2
          }
         }
        },
        "title": {
         "text": "Absolute and relative amount of missing values per variable"
        },
        "xaxis": {
         "anchor": "y",
         "domain": [
          0,
          0.42
         ],
         "showgrid": true,
         "showline": false,
         "showticklabels": true,
         "zeroline": false
        },
        "xaxis2": {
         "anchor": "y2",
         "domain": [
          0.47,
          1
         ],
         "dtick": 2000,
         "showgrid": true,
         "showline": false,
         "showticklabels": true,
         "zeroline": false
        },
        "yaxis": {
         "anchor": "x",
         "domain": [
          0,
          0.85
         ],
         "showgrid": false,
         "showline": false,
         "showticklabels": true
        },
        "yaxis2": {
         "anchor": "x2",
         "domain": [
          0,
          0.85
         ],
         "linecolor": "rgba(102, 102, 102, 0.8)",
         "linewidth": 2,
         "showgrid": false,
         "showline": false,
         "showticklabels": false
        }
       }
      },
      "text/html": [
       "<div>                            <div id=\"05d3f932-2f28-489e-996e-7caa74a9dc05\" class=\"plotly-graph-div\" style=\"height:525px; width:100%;\"></div>            <script type=\"text/javascript\">                require([\"plotly\"], function(Plotly) {                    window.PLOTLYENV=window.PLOTLYENV || {};                                    if (document.getElementById(\"05d3f932-2f28-489e-996e-7caa74a9dc05\")) {                    Plotly.newPlot(                        \"05d3f932-2f28-489e-996e-7caa74a9dc05\",                        [{\"marker\":{\"color\":\"rgba(18, 63, 90, 0.95)\",\"line\":{\"color\":\"rgba(18, 63, 90, 1.0)\",\"width\":1}},\"name\":\"Relative amount of missing values (%)\",\"orientation\":\"h\",\"x\":[49.01339455325891,49.01339455325891,50.98660544674109,50.98660544674109],\"y\":[\"credit_account\",\"credit_amount\",\"debit_account\",\"debit_amount\"],\"type\":\"bar\",\"xaxis\":\"x\",\"yaxis\":\"y\"},{\"line\":{\"color\":\"rgb(0, 68, 27)\"},\"mode\":\"lines+markers\",\"name\":\"Absolute values of missing values\",\"x\":[60633,60633,63074,63074],\"y\":[\"credit_account\",\"credit_amount\",\"debit_account\",\"debit_amount\"],\"type\":\"scatter\",\"xaxis\":\"x2\",\"yaxis\":\"y2\"}],                        {\"template\":{\"data\":{\"histogram2dcontour\":[{\"type\":\"histogram2dcontour\",\"colorbar\":{\"outlinewidth\":0,\"ticks\":\"\"},\"colorscale\":[[0.0,\"#0d0887\"],[0.1111111111111111,\"#46039f\"],[0.2222222222222222,\"#7201a8\"],[0.3333333333333333,\"#9c179e\"],[0.4444444444444444,\"#bd3786\"],[0.5555555555555556,\"#d8576b\"],[0.6666666666666666,\"#ed7953\"],[0.7777777777777778,\"#fb9f3a\"],[0.8888888888888888,\"#fdca26\"],[1.0,\"#f0f921\"]]}],\"choropleth\":[{\"type\":\"choropleth\",\"colorbar\":{\"outlinewidth\":0,\"ticks\":\"\"}}],\"histogram2d\":[{\"type\":\"histogram2d\",\"colorbar\":{\"outlinewidth\":0,\"ticks\":\"\"},\"colorscale\":[[0.0,\"#0d0887\"],[0.1111111111111111,\"#46039f\"],[0.2222222222222222,\"#7201a8\"],[0.3333333333333333,\"#9c179e\"],[0.4444444444444444,\"#bd3786\"],[0.5555555555555556,\"#d8576b\"],[0.6666666666666666,\"#ed7953\"],[0.7777777777777778,\"#fb9f3a\"],[0.8888888888888888,\"#fdca26\"],[1.0,\"#f0f921\"]]}],\"heatmap\":[{\"type\":\"heatmap\",\"colorbar\":{\"outlinewidth\":0,\"ticks\":\"\"},\"colorscale\":[[0.0,\"#0d0887\"],[0.1111111111111111,\"#46039f\"],[0.2222222222222222,\"#7201a8\"],[0.3333333333333333,\"#9c179e\"],[0.4444444444444444,\"#bd3786\"],[0.5555555555555556,\"#d8576b\"],[0.6666666666666666,\"#ed7953\"],[0.7777777777777778,\"#fb9f3a\"],[0.8888888888888888,\"#fdca26\"],[1.0,\"#f0f921\"]]}],\"heatmapgl\":[{\"type\":\"heatmapgl\",\"colorbar\":{\"outlinewidth\":0,\"ticks\":\"\"},\"colorscale\":[[0.0,\"#0d0887\"],[0.1111111111111111,\"#46039f\"],[0.2222222222222222,\"#7201a8\"],[0.3333333333333333,\"#9c179e\"],[0.4444444444444444,\"#bd3786\"],[0.5555555555555556,\"#d8576b\"],[0.6666666666666666,\"#ed7953\"],[0.7777777777777778,\"#fb9f3a\"],[0.8888888888888888,\"#fdca26\"],[1.0,\"#f0f921\"]]}],\"contourcarpet\":[{\"type\":\"contourcarpet\",\"colorbar\":{\"outlinewidth\":0,\"ticks\":\"\"}}],\"contour\":[{\"type\":\"contour\",\"colorbar\":{\"outlinewidth\":0,\"ticks\":\"\"},\"colorscale\":[[0.0,\"#0d0887\"],[0.1111111111111111,\"#46039f\"],[0.2222222222222222,\"#7201a8\"],[0.3333333333333333,\"#9c179e\"],[0.4444444444444444,\"#bd3786\"],[0.5555555555555556,\"#d8576b\"],[0.6666666666666666,\"#ed7953\"],[0.7777777777777778,\"#fb9f3a\"],[0.8888888888888888,\"#fdca26\"],[1.0,\"#f0f921\"]]}],\"surface\":[{\"type\":\"surface\",\"colorbar\":{\"outlinewidth\":0,\"ticks\":\"\"},\"colorscale\":[[0.0,\"#0d0887\"],[0.1111111111111111,\"#46039f\"],[0.2222222222222222,\"#7201a8\"],[0.3333333333333333,\"#9c179e\"],[0.4444444444444444,\"#bd3786\"],[0.5555555555555556,\"#d8576b\"],[0.6666666666666666,\"#ed7953\"],[0.7777777777777778,\"#fb9f3a\"],[0.8888888888888888,\"#fdca26\"],[1.0,\"#f0f921\"]]}],\"mesh3d\":[{\"type\":\"mesh3d\",\"colorbar\":{\"outlinewidth\":0,\"ticks\":\"\"}}],\"scatter\":[{\"fillpattern\":{\"fillmode\":\"overlay\",\"size\":10,\"solidity\":0.2},\"type\":\"scatter\"}],\"parcoords\":[{\"type\":\"parcoords\",\"line\":{\"colorbar\":{\"outlinewidth\":0,\"ticks\":\"\"}}}],\"scatterpolargl\":[{\"type\":\"scatterpolargl\",\"marker\":{\"colorbar\":{\"outlinewidth\":0,\"ticks\":\"\"}}}],\"bar\":[{\"error_x\":{\"color\":\"#2a3f5f\"},\"error_y\":{\"color\":\"#2a3f5f\"},\"marker\":{\"line\":{\"color\":\"#E5ECF6\",\"width\":0.5},\"pattern\":{\"fillmode\":\"overlay\",\"size\":10,\"solidity\":0.2}},\"type\":\"bar\"}],\"scattergeo\":[{\"type\":\"scattergeo\",\"marker\":{\"colorbar\":{\"outlinewidth\":0,\"ticks\":\"\"}}}],\"scatterpolar\":[{\"type\":\"scatterpolar\",\"marker\":{\"colorbar\":{\"outlinewidth\":0,\"ticks\":\"\"}}}],\"histogram\":[{\"marker\":{\"pattern\":{\"fillmode\":\"overlay\",\"size\":10,\"solidity\":0.2}},\"type\":\"histogram\"}],\"scattergl\":[{\"type\":\"scattergl\",\"marker\":{\"colorbar\":{\"outlinewidth\":0,\"ticks\":\"\"}}}],\"scatter3d\":[{\"type\":\"scatter3d\",\"line\":{\"colorbar\":{\"outlinewidth\":0,\"ticks\":\"\"}},\"marker\":{\"colorbar\":{\"outlinewidth\":0,\"ticks\":\"\"}}}],\"scattermapbox\":[{\"type\":\"scattermapbox\",\"marker\":{\"colorbar\":{\"outlinewidth\":0,\"ticks\":\"\"}}}],\"scatterternary\":[{\"type\":\"scatterternary\",\"marker\":{\"colorbar\":{\"outlinewidth\":0,\"ticks\":\"\"}}}],\"scattercarpet\":[{\"type\":\"scattercarpet\",\"marker\":{\"colorbar\":{\"outlinewidth\":0,\"ticks\":\"\"}}}],\"carpet\":[{\"aaxis\":{\"endlinecolor\":\"#2a3f5f\",\"gridcolor\":\"white\",\"linecolor\":\"white\",\"minorgridcolor\":\"white\",\"startlinecolor\":\"#2a3f5f\"},\"baxis\":{\"endlinecolor\":\"#2a3f5f\",\"gridcolor\":\"white\",\"linecolor\":\"white\",\"minorgridcolor\":\"white\",\"startlinecolor\":\"#2a3f5f\"},\"type\":\"carpet\"}],\"table\":[{\"cells\":{\"fill\":{\"color\":\"#EBF0F8\"},\"line\":{\"color\":\"white\"}},\"header\":{\"fill\":{\"color\":\"#C8D4E3\"},\"line\":{\"color\":\"white\"}},\"type\":\"table\"}],\"barpolar\":[{\"marker\":{\"line\":{\"color\":\"#E5ECF6\",\"width\":0.5},\"pattern\":{\"fillmode\":\"overlay\",\"size\":10,\"solidity\":0.2}},\"type\":\"barpolar\"}],\"pie\":[{\"automargin\":true,\"type\":\"pie\"}]},\"layout\":{\"autotypenumbers\":\"strict\",\"colorway\":[\"#636efa\",\"#EF553B\",\"#00cc96\",\"#ab63fa\",\"#FFA15A\",\"#19d3f3\",\"#FF6692\",\"#B6E880\",\"#FF97FF\",\"#FECB52\"],\"font\":{\"color\":\"#2a3f5f\"},\"hovermode\":\"closest\",\"hoverlabel\":{\"align\":\"left\"},\"paper_bgcolor\":\"white\",\"plot_bgcolor\":\"#E5ECF6\",\"polar\":{\"bgcolor\":\"#E5ECF6\",\"angularaxis\":{\"gridcolor\":\"white\",\"linecolor\":\"white\",\"ticks\":\"\"},\"radialaxis\":{\"gridcolor\":\"white\",\"linecolor\":\"white\",\"ticks\":\"\"}},\"ternary\":{\"bgcolor\":\"#E5ECF6\",\"aaxis\":{\"gridcolor\":\"white\",\"linecolor\":\"white\",\"ticks\":\"\"},\"baxis\":{\"gridcolor\":\"white\",\"linecolor\":\"white\",\"ticks\":\"\"},\"caxis\":{\"gridcolor\":\"white\",\"linecolor\":\"white\",\"ticks\":\"\"}},\"coloraxis\":{\"colorbar\":{\"outlinewidth\":0,\"ticks\":\"\"}},\"colorscale\":{\"sequential\":[[0.0,\"#0d0887\"],[0.1111111111111111,\"#46039f\"],[0.2222222222222222,\"#7201a8\"],[0.3333333333333333,\"#9c179e\"],[0.4444444444444444,\"#bd3786\"],[0.5555555555555556,\"#d8576b\"],[0.6666666666666666,\"#ed7953\"],[0.7777777777777778,\"#fb9f3a\"],[0.8888888888888888,\"#fdca26\"],[1.0,\"#f0f921\"]],\"sequentialminus\":[[0.0,\"#0d0887\"],[0.1111111111111111,\"#46039f\"],[0.2222222222222222,\"#7201a8\"],[0.3333333333333333,\"#9c179e\"],[0.4444444444444444,\"#bd3786\"],[0.5555555555555556,\"#d8576b\"],[0.6666666666666666,\"#ed7953\"],[0.7777777777777778,\"#fb9f3a\"],[0.8888888888888888,\"#fdca26\"],[1.0,\"#f0f921\"]],\"diverging\":[[0,\"#8e0152\"],[0.1,\"#c51b7d\"],[0.2,\"#de77ae\"],[0.3,\"#f1b6da\"],[0.4,\"#fde0ef\"],[0.5,\"#f7f7f7\"],[0.6,\"#e6f5d0\"],[0.7,\"#b8e186\"],[0.8,\"#7fbc41\"],[0.9,\"#4d9221\"],[1,\"#276419\"]]},\"xaxis\":{\"gridcolor\":\"white\",\"linecolor\":\"white\",\"ticks\":\"\",\"title\":{\"standoff\":15},\"zerolinecolor\":\"white\",\"automargin\":true,\"zerolinewidth\":2},\"yaxis\":{\"gridcolor\":\"white\",\"linecolor\":\"white\",\"ticks\":\"\",\"title\":{\"standoff\":15},\"zerolinecolor\":\"white\",\"automargin\":true,\"zerolinewidth\":2},\"scene\":{\"xaxis\":{\"backgroundcolor\":\"#E5ECF6\",\"gridcolor\":\"white\",\"linecolor\":\"white\",\"showbackground\":true,\"ticks\":\"\",\"zerolinecolor\":\"white\",\"gridwidth\":2},\"yaxis\":{\"backgroundcolor\":\"#E5ECF6\",\"gridcolor\":\"white\",\"linecolor\":\"white\",\"showbackground\":true,\"ticks\":\"\",\"zerolinecolor\":\"white\",\"gridwidth\":2},\"zaxis\":{\"backgroundcolor\":\"#E5ECF6\",\"gridcolor\":\"white\",\"linecolor\":\"white\",\"showbackground\":true,\"ticks\":\"\",\"zerolinecolor\":\"white\",\"gridwidth\":2}},\"shapedefaults\":{\"line\":{\"color\":\"#2a3f5f\"}},\"annotationdefaults\":{\"arrowcolor\":\"#2a3f5f\",\"arrowhead\":0,\"arrowwidth\":1},\"geo\":{\"bgcolor\":\"white\",\"landcolor\":\"#E5ECF6\",\"subunitcolor\":\"white\",\"showland\":true,\"showlakes\":true,\"lakecolor\":\"white\"},\"title\":{\"x\":0.05},\"mapbox\":{\"style\":\"light\"}}},\"xaxis\":{\"anchor\":\"y\",\"domain\":[0,0.42],\"zeroline\":false,\"showline\":false,\"showticklabels\":true,\"showgrid\":true},\"yaxis\":{\"anchor\":\"x\",\"domain\":[0,0.85],\"showgrid\":false,\"showline\":false,\"showticklabels\":true},\"xaxis2\":{\"anchor\":\"y2\",\"domain\":[0.47,1],\"zeroline\":false,\"showline\":false,\"showticklabels\":true,\"showgrid\":true,\"dtick\":2000},\"yaxis2\":{\"anchor\":\"x2\",\"domain\":[0,0.85],\"showgrid\":false,\"showline\":false,\"showticklabels\":false,\"linecolor\":\"rgba(102, 102, 102, 0.8)\",\"linewidth\":2},\"legend\":{\"font\":{\"size\":10},\"x\":0.029,\"y\":1.038},\"margin\":{\"l\":100,\"r\":20,\"t\":70,\"b\":70},\"title\":{\"text\":\"Absolute and relative amount of missing values per variable\"},\"paper_bgcolor\":\"rgb(248, 248, 255)\",\"plot_bgcolor\":\"rgb(248, 248, 255)\",\"annotations\":[{\"font\":{\"color\":\"rgb(0, 68, 27)\",\"family\":\"Arial\",\"size\":12},\"showarrow\":false,\"text\":\"60,633.0\",\"x\":60133.0,\"xref\":\"x2\",\"y\":\"credit_account\",\"yref\":\"y2\"},{\"font\":{\"color\":\"rgb(18, 63, 90)\",\"family\":\"Arial\",\"size\":12},\"showarrow\":false,\"text\":\"49.01%\",\"x\":49.76,\"xref\":\"x\",\"y\":\"credit_account\",\"yref\":\"y\"},{\"font\":{\"color\":\"rgb(0, 68, 27)\",\"family\":\"Arial\",\"size\":12},\"showarrow\":false,\"text\":\"60,633.0\",\"x\":60133.0,\"xref\":\"x2\",\"y\":\"credit_amount\",\"yref\":\"y2\"},{\"font\":{\"color\":\"rgb(18, 63, 90)\",\"family\":\"Arial\",\"size\":12},\"showarrow\":false,\"text\":\"49.01%\",\"x\":49.76,\"xref\":\"x\",\"y\":\"credit_amount\",\"yref\":\"y\"},{\"font\":{\"color\":\"rgb(0, 68, 27)\",\"family\":\"Arial\",\"size\":12},\"showarrow\":false,\"text\":\"63,074.0\",\"x\":63574.0,\"xref\":\"x2\",\"y\":\"debit_account\",\"yref\":\"y2\"},{\"font\":{\"color\":\"rgb(18, 63, 90)\",\"family\":\"Arial\",\"size\":12},\"showarrow\":false,\"text\":\"50.99%\",\"x\":51.74,\"xref\":\"x\",\"y\":\"debit_account\",\"yref\":\"y\"},{\"font\":{\"color\":\"rgb(0, 68, 27)\",\"family\":\"Arial\",\"size\":12},\"showarrow\":false,\"text\":\"63,074.0\",\"x\":63574.0,\"xref\":\"x2\",\"y\":\"debit_amount\",\"yref\":\"y2\"},{\"font\":{\"color\":\"rgb(18, 63, 90)\",\"family\":\"Arial\",\"size\":12},\"showarrow\":false,\"text\":\"50.99%\",\"x\":51.74,\"xref\":\"x\",\"y\":\"debit_amount\",\"yref\":\"y\"}]},                        {\"responsive\": true}                    ).then(function(){\n",
       "                            \n",
       "var gd = document.getElementById('05d3f932-2f28-489e-996e-7caa74a9dc05');\n",
       "var x = new MutationObserver(function (mutations, observer) {{\n",
       "        var display = window.getComputedStyle(gd).display;\n",
       "        if (!display || display === 'none') {{\n",
       "            console.log([gd, 'removed!']);\n",
       "            Plotly.purge(gd);\n",
       "            observer.disconnect();\n",
       "        }}\n",
       "}});\n",
       "\n",
       "// Listen for the removal of the full notebook cells\n",
       "var notebookContainer = gd.closest('#notebook-container');\n",
       "if (notebookContainer) {{\n",
       "    x.observe(notebookContainer, {childList: true});\n",
       "}}\n",
       "\n",
       "// Listen for the clearing of the current output cell\n",
       "var outputEl = gd.closest('.output');\n",
       "if (outputEl) {{\n",
       "    x.observe(outputEl, {childList: true});\n",
       "}}\n",
       "\n",
       "                        })                };                });            </script>        </div>"
      ]
     },
     "metadata": {},
     "output_type": "display_data"
    }
   ],
   "source": [
    "# Count Missing Values per Variable und in DataFrame überführen\n",
    "y_count_mv = pd.DataFrame(df_gl.isnull().sum())\n",
    "y_count_mv.columns = ['count']\n",
    "y_count_mv.index.names = ['Name']\n",
    "y_count_mv['Name'] = y_count_mv.index\n",
    "y_count_mv = y_count_mv[y_count_mv['count'] != 0]\n",
    "y_count_mv.sort_values(by=['count'], inplace=True, ascending=True)\n",
    "\n",
    "\n",
    "missing_values = pd.DataFrame(y_count_mv['count'] / len(df_gl) * 100)\n",
    "missing_values.columns = ['count']\n",
    "missing_values.index.names = ['Name']\n",
    "missing_values.sort_values(by=['count'], inplace=True, ascending=True)\n",
    "\n",
    "x = y_count_mv['Name']\n",
    "\n",
    "# Creating two subplots\n",
    "fig = sp.make_subplots(rows=1, cols=2, specs=[[{}, {}]], shared_xaxes=True,\n",
    "                    shared_yaxes=False, vertical_spacing=0.001)\n",
    "\n",
    "fig.append_trace(go.Bar(\n",
    "    x=missing_values['count'],\n",
    "    y=x,\n",
    "    marker=dict(\n",
    "        color='rgba(18, 63, 90, 0.95)',\n",
    "        line=dict(\n",
    "            color='rgba(18, 63, 90, 1.0)',\n",
    "            width=1),\n",
    "    ),\n",
    "    name='Relative amount of missing values (%)',\n",
    "    orientation='h',\n",
    "), 1, 1)\n",
    "\n",
    "fig.append_trace(go.Scatter(\n",
    "    x=y_count_mv['count'], y=x,\n",
    "    mode='lines+markers',\n",
    "    line_color='rgb(0, 68, 27)',\n",
    "    name='Absolute values of missing values',\n",
    "), 1, 2)\n",
    "\n",
    "fig.update_layout(\n",
    "    title='Absolute and relative amount of missing values per variable',\n",
    "    yaxis=dict(\n",
    "        showgrid=False,\n",
    "        showline=False,\n",
    "        showticklabels=True,\n",
    "        domain=[0, 0.85],\n",
    "    ),\n",
    "    yaxis2=dict(\n",
    "        showgrid=False,\n",
    "        showline=False,\n",
    "        showticklabels=False,\n",
    "        linecolor='rgba(102, 102, 102, 0.8)',\n",
    "        linewidth=2,\n",
    "        domain=[0, 0.85],\n",
    "    ),\n",
    "    xaxis=dict(\n",
    "        zeroline=False,\n",
    "        showline=False,\n",
    "        showticklabels=True,\n",
    "        showgrid=True,\n",
    "        domain=[0, 0.42],\n",
    "    ),\n",
    "    xaxis2=dict(\n",
    "        zeroline=False,\n",
    "        showline=False,\n",
    "        showticklabels=True,\n",
    "        showgrid=True,\n",
    "        domain=[0.47, 1],\n",
    "        dtick=2000,\n",
    "    ),\n",
    "    legend=dict(x=0.029, y=1.038, font_size=10),\n",
    "    margin=dict(l=100, r=20, t=70, b=70),\n",
    "    paper_bgcolor='rgb(248, 248, 255)',\n",
    "    plot_bgcolor='rgb(248, 248, 255)',\n",
    ")\n",
    "\n",
    "annotations = []\n",
    "\n",
    "y_s = np.round(missing_values['count'], decimals=2)\n",
    "y_nw = np.rint(y_count_mv['count'])\n",
    "\n",
    "# add labels\n",
    "for ydn, yd, xd in zip(y_nw, y_s, x):\n",
    "    annotations.append(dict(xref='x2', yref='y2',\n",
    "                            y=xd, x=ydn + 500 if ydn == max(y_nw) else ydn -500, # move the label to the left side if it is the maximum value\n",
    "                            text='{:,}'.format(ydn),\n",
    "                            font=dict(family='Arial', size=12,\n",
    "                                      color='rgb(0, 68, 27)'),\n",
    "                            showarrow=False))\n",
    "    annotations.append(dict(xref='x1', yref='y1',\n",
    "                            y=xd, x=yd + 0.75,\n",
    "                            text=str(yd) + '%',\n",
    "                            font=dict(family='Arial', size=12,\n",
    "                                      color='rgb(18, 63, 90)'),\n",
    "                            showarrow=False))\n",
    "\n",
    "fig.update_layout(annotations=annotations)\n",
    "\n",
    "fig.show()"
   ]
  },
  {
   "cell_type": "code",
   "execution_count": 123,
   "id": "cb692fef",
   "metadata": {},
   "outputs": [
    {
     "data": {
      "text/plain": [
       "<Axes: >"
      ]
     },
     "execution_count": 123,
     "metadata": {},
     "output_type": "execute_result"
    },
    {
     "data": {
      "image/png": "[encoded data removed]",
      "text/plain": [
       "<Figure size 1000x300 with 2 Axes>"
      ]
     },
     "metadata": {},
     "output_type": "display_data"
    }
   ],
   "source": [
    "msno.matrix(df_gl, figsize=(10, 3), fontsize=10, color=(0.2, 0.4, 0.6))"
   ]
  },
  {
   "cell_type": "code",
   "execution_count": 124,
   "id": "dcbd1d73",
   "metadata": {},
   "outputs": [
    {
     "data": {
      "text/plain": [
       "<Axes: xlabel='Name', ylabel='Name'>"
      ]
     },
     "execution_count": 124,
     "metadata": {},
     "output_type": "execute_result"
    },
    {
     "data": {
      "image/png": "[encoded data removed]",
      "text/plain": [
       "<Figure size 1000x500 with 2 Axes>"
      ]
     },
     "metadata": {},
     "output_type": "display_data"
    }
   ],
   "source": [
    "msno.heatmap(df_gl, figsize=(10, 5), fontsize=12, cmap=\"RdYlGn\")"
   ]
  },
  {
   "cell_type": "markdown",
   "id": "cab85555",
   "metadata": {},
   "source": [
    "Since the debit and credit amounts for each booking are stored in separate rows, the debit account and amount is exactly negative correlated with the credit account and amount. So the presence of missing values can be explained. "
   ]
  },
  {
   "attachments": {},
   "cell_type": "markdown",
   "id": "657a1d42",
   "metadata": {},
   "source": [
    "## JB 0: reconciliation of line item control totals"
   ]
  },
  {
   "cell_type": "markdown",
   "id": "26f1c31e",
   "metadata": {},
   "source": [
    "Reconciliation of the control totals (total amount and line item count) of the Journal Entry Data file(s) provided by the engagement team during the import process and the data imported and used for journal entry analysis. For each Journal Entry Data file, the report also displays the effective and entry date ranges. This report also displays a reconciliation of the control totals (beginning and ending balances and line item count) provided during the import process for the Trial Balance Data file(s), when applicable, to the data imported and used for journal entry analysis."
   ]
  },
  {
   "attachments": {},
   "cell_type": "markdown",
   "id": "1bcb7028-8ef7-4c2a-9cd5-75858390fbff",
   "metadata": {},
   "source": [
    "### Account numbers "
   ]
  },
  {
   "cell_type": "code",
   "execution_count": 125,
   "id": "c784f10c-8a62-4c29-a28d-70551b026064",
   "metadata": {},
   "outputs": [
    {
     "data": {
      "text/plain": [
       "(               proportion\n",
       " debit_account            \n",
       " 1600                 0.14\n",
       " 1400                 0.10\n",
       " 8726                 0.07\n",
       " 1563                 0.07\n",
       " 1200                 0.06\n",
       " 1763                 0.03\n",
       " 1210                 0.03\n",
       " 1581                 0.03\n",
       " 3425                 0.02\n",
       " 4983                 0.02,\n",
       "                 proportion\n",
       " credit_account            \n",
       " 1600                  0.14\n",
       " 1400                  0.14\n",
       " 8125                  0.09\n",
       " 1210                  0.08\n",
       " 1763                  0.06\n",
       " 1200                  0.05\n",
       " 1563                  0.03\n",
       " 3725                  0.03\n",
       " 1762                  0.02\n",
       " 1220                  0.02)"
      ]
     },
     "execution_count": 125,
     "metadata": {},
     "output_type": "execute_result"
    }
   ],
   "source": [
    "# check which accounts are used most often\n",
    "df_debit_acc = round(df_gl[\"debit_account\"].value_counts(normalize = True).to_frame(),2) \n",
    "df_credit_acc = round(df_gl[\"credit_account\"].value_counts(normalize = True).to_frame(),2)\n",
    "\n",
    "df_debit_acc.head(10), df_credit_acc.head(10)"
   ]
  },
  {
   "attachments": {},
   "cell_type": "markdown",
   "id": "7f76311e-4591-43ea-a1f3-bdfc0352898a",
   "metadata": {},
   "source": [
    "There are 1342 debit accounts and 1222 credit accounts present in the GL."
   ]
  },
  {
   "cell_type": "code",
   "execution_count": 126,
   "id": "7fa6e0bb-b510-450d-929c-3279293c5fad",
   "metadata": {},
   "outputs": [],
   "source": [
    "# save indices for all NAs to get the respective amounts \n",
    "index_debit_na = df_gl.index[pd.isna(df_gl[\"debit_account\"]) == False]\n",
    "index_credit_na = df_gl.index[pd.isna(df_gl[\"credit_account\"]) == False]\n",
    "\n",
    "amounts_debit = df_gl[\"debit_amount\"].loc[index_debit_na].to_frame(\"debit_amount\")\n",
    "amounts_debit.insert(1, \"debit_account\", df_gl[\"debit_account\"].loc[index_debit_na], True)\n",
    "amounts_credit = df_gl[\"credit_amount\"].loc[index_credit_na].to_frame(\"credit_amount\")\n",
    "amounts_credit.insert(1, \"credit_account\", df_gl[\"credit_account\"].loc[index_credit_na], True)\n",
    "\n",
    "# length equals the length of the original variable, so I assume there is no error here\n",
    "amounts_debit = amounts_debit.groupby(\"debit_account\")[\"debit_amount\"].sum().to_frame()\n",
    "amounts_credit = amounts_credit.groupby(\"credit_account\")[\"credit_amount\"].sum().to_frame()\n",
    "amounts_debit = amounts_debit.reset_index()\n",
    "amounts_credit = amounts_credit.reset_index()"
   ]
  },
  {
   "cell_type": "code",
   "execution_count": 127,
   "id": "cf6e8643-aed4-48ea-8fb4-946d16f38172",
   "metadata": {},
   "outputs": [
    {
     "data": {
      "text/plain": [
       "(554834924.85, 552962013.6799998)"
      ]
     },
     "execution_count": 127,
     "metadata": {},
     "output_type": "execute_result"
    }
   ],
   "source": [
    "# print the total amount of debit and credit\n",
    "amounts_debit[\"debit_amount\"].sum(), amounts_credit[\"credit_amount\"].sum()"
   ]
  },
  {
   "attachments": {},
   "cell_type": "markdown",
   "id": "bdf91b65-6db5-46db-9929-04e66806d3d3",
   "metadata": {},
   "source": [
    "### Debit and Credit "
   ]
  },
  {
   "attachments": {},
   "cell_type": "markdown",
   "id": "a054dad7",
   "metadata": {},
   "source": [
    "### Debit"
   ]
  },
  {
   "cell_type": "code",
   "execution_count": 128,
   "id": "1d1824e2-039d-43fb-9be7-db0cd30822ad",
   "metadata": {},
   "outputs": [
    {
     "data": {
      "text/plain": [
       "554834924.85"
      ]
     },
     "execution_count": 128,
     "metadata": {},
     "output_type": "execute_result"
    }
   ],
   "source": [
    "gl_sum_debit = round(df_gl[\"debit_amount\"].dropna().sum(), 2)\n",
    "gl_sum_debit"
   ]
  },
  {
   "cell_type": "code",
   "execution_count": 129,
   "id": "cfa13214",
   "metadata": {},
   "outputs": [
    {
     "data": {
      "text/plain": [
       "456475611.45"
      ]
     },
     "execution_count": 129,
     "metadata": {},
     "output_type": "execute_result"
    }
   ],
   "source": [
    "tb_sum_debit = round(df_tb[\"soll_periode_12\"].dropna().sum() + df_tb[\"soll_ob\"].dropna().sum() + df_tb[\"soll_periode_13\"].dropna().sum(), 2)\n",
    "tb_sum_debit"
   ]
  },
  {
   "attachments": {},
   "cell_type": "markdown",
   "id": "975382e7",
   "metadata": {},
   "source": [
    "### Credit"
   ]
  },
  {
   "cell_type": "code",
   "execution_count": 130,
   "id": "fbbe5308-87dd-4929-b7b7-44b82e8b1673",
   "metadata": {},
   "outputs": [
    {
     "data": {
      "text/plain": [
       "552962013.6800001"
      ]
     },
     "execution_count": 130,
     "metadata": {},
     "output_type": "execute_result"
    }
   ],
   "source": [
    "gl_sum_credit = df_gl[\"credit_amount\"].dropna().sum()\n",
    "gl_sum_credit"
   ]
  },
  {
   "cell_type": "code",
   "execution_count": 131,
   "id": "ca12cf24",
   "metadata": {},
   "outputs": [
    {
     "data": {
      "text/plain": [
       "456475611.45"
      ]
     },
     "execution_count": 131,
     "metadata": {},
     "output_type": "execute_result"
    }
   ],
   "source": [
    "tb_sum_credit = round(df_tb[\"haben_periode_12\"].dropna().sum() + df_tb[\"haben_ob\"].dropna().sum() + df_tb[\"haben_periode_13\"].dropna().sum(), 2)\n",
    "tb_sum_credit"
   ]
  },
  {
   "attachments": {},
   "cell_type": "markdown",
   "id": "42097797",
   "metadata": {},
   "source": [
    "### Difference in the GL"
   ]
  },
  {
   "cell_type": "code",
   "execution_count": 132,
   "id": "16ed038f-36c5-4b59-963a-b4706f757e61",
   "metadata": {},
   "outputs": [
    {
     "data": {
      "text/plain": [
       "1872911.169999957"
      ]
     },
     "execution_count": 132,
     "metadata": {},
     "output_type": "execute_result"
    }
   ],
   "source": [
    "gl_diff_debit_credit = gl_sum_debit - gl_sum_credit\n",
    "gl_diff_debit_credit"
   ]
  },
  {
   "cell_type": "markdown",
   "id": "badf4e70",
   "metadata": {},
   "source": [
    "### Difference in the TB"
   ]
  },
  {
   "cell_type": "code",
   "execution_count": 133,
   "id": "69f221e3",
   "metadata": {},
   "outputs": [
    {
     "data": {
      "text/plain": [
       "0.0"
      ]
     },
     "execution_count": 133,
     "metadata": {},
     "output_type": "execute_result"
    }
   ],
   "source": [
    "tb_diff_debit_credit = tb_sum_debit - tb_sum_credit\n",
    "tb_diff_debit_credit"
   ]
  },
  {
   "cell_type": "code",
   "execution_count": 134,
   "id": "76760143",
   "metadata": {},
   "outputs": [],
   "source": [
    "# create report of the reconciliation\n",
    "report = pd.DataFrame({\"GL\": [gl_sum_debit, gl_sum_credit, gl_diff_debit_credit], \"TB\": [tb_sum_debit, tb_sum_credit, tb_diff_debit_credit]}, index = [\"Debit\", \"Credit\", \"Difference\"])\n",
    "\n",
    "if gl_diff_debit_credit == 0 and tb_diff_debit_credit == 0:\n",
    "    with open('No differences found.txt', 'w') as f:\n",
    "        f.write('No differences found')\n",
    "else:\n",
    "    report.to_excel('results/JB0/reconciliation_results.xlsx', sheet_name='report', index = True, header=True, float_format=\"%.2f\", engine='xlsxwriter')"
   ]
  },
  {
   "attachments": {},
   "cell_type": "markdown",
   "id": "c6521039",
   "metadata": {},
   "source": [
    "## JB 1: journal entries do not balance to zero"
   ]
  },
  {
   "cell_type": "markdown",
   "id": "782aae7a",
   "metadata": {},
   "source": [
    "This report contains both a summary and a detailed listing of journal entries that do not balance to zero (i.e. debits do not equal credits) for the current, subsequent, and prior periods."
   ]
  },
  {
   "attachments": {},
   "cell_type": "markdown",
   "id": "d8f1ad4b-8e35-4c98-9a4e-a28458412656",
   "metadata": {},
   "source": [
    "### Compare GL and TB"
   ]
  },
  {
   "cell_type": "code",
   "execution_count": 135,
   "id": "c7eb5021-43d5-446d-a988-a235f21703fd",
   "metadata": {},
   "outputs": [],
   "source": [
    "# merge the debit and credit sums into one dataframe\n",
    "df_gl_sums = pd.concat([amounts_debit, amounts_credit], ignore_index=True, sort=False)"
   ]
  },
  {
   "cell_type": "code",
   "execution_count": 136,
   "id": "3ecdb75d-4a26-4a5e-88d8-920e0ea9263f",
   "metadata": {},
   "outputs": [
    {
     "name": "stdout",
     "output_type": "stream",
     "text": [
      "(178, 4) (292, 4)\n"
     ]
    }
   ],
   "source": [
    "# save two separate dataframes for credit and debit accounts with the corresponding TB accounts\n",
    "df_credit_gl_tb = df_gl_sums[df_gl_sums[\"credit_account\"].isin(df_tb[\"kontonummer\"])]\n",
    "df_debit_gl_tb = df_gl_sums[df_gl_sums[\"debit_account\"].isin(df_tb[\"kontonummer\"])]\n",
    "\n",
    "print(df_credit_gl_tb.shape, df_debit_gl_tb.shape)"
   ]
  },
  {
   "cell_type": "code",
   "execution_count": 137,
   "id": "d62188f9",
   "metadata": {},
   "outputs": [
    {
     "name": "stdout",
     "output_type": "stream",
     "text": [
      "Account: 23 GL: 14495.0 TB: 14495.0 \u001b[92mOK\u001b[0m\n",
      "Account: 25 GL: 8159.2 TB: 8159.2 \u001b[92mOK\u001b[0m\n",
      "Account: 26 GL: 26646.0 TB: 26646.0 \u001b[92mOK\u001b[0m\n",
      "Account: 27 GL: 1231.25 TB: 1231.25 \u001b[92mOK\u001b[0m\n",
      "Account: 30 GL: 24000.0 TB: 24000.0 \u001b[92mOK\u001b[0m\n",
      "Account: 35 GL: 60000.0 TB: 60000.0 \u001b[92mOK\u001b[0m\n",
      "Account: 85 GL: 10649.0 TB: 10649.0 \u001b[92mOK\u001b[0m\n",
      "Account: 175 GL: 23203.13 TB: 23203.13 \u001b[92mOK\u001b[0m\n",
      "Account: 180 GL: 39200.0 TB: 39200.0 \u001b[92mOK\u001b[0m\n",
      "Account: 187 GL: 46977.0 TB: 46977.0 \u001b[92mOK\u001b[0m\n",
      "Account: 188 GL: 91790.0 TB: 91790.0 \u001b[92mOK\u001b[0m\n",
      "Account: 190 GL: 50143.0 TB: 50143.0 \u001b[92mOK\u001b[0m\n",
      "Account: 191 GL: 68655.0 TB: 68655.0 \u001b[92mOK\u001b[0m\n",
      "Account: 215 GL: 16412.79 TB: 16412.79 \u001b[92mOK\u001b[0m\n",
      "Account: 216 GL: 75308.88 TB: 75308.88 \u001b[92mOK\u001b[0m\n",
      "Account: 284 GL: 133278.0 TB: 133278.0 \u001b[92mOK\u001b[0m\n",
      "Account: 325 GL: 84941.35 TB: 84941.35 \u001b[92mOK\u001b[0m\n",
      "Account: 380 GL: 9273.99 TB: 9273.99 \u001b[92mOK\u001b[0m\n",
      "Account: 385 GL: 6535.0 TB: 6535.0 \u001b[92mOK\u001b[0m\n",
      "Account: 400 GL: 62119.9 TB: 62119.9 \u001b[92mOK\u001b[0m\n",
      "Account: 403 GL: 61806.49 TB: 61806.49 \u001b[92mOK\u001b[0m\n",
      "Account: 405 GL: 676088.57 TB: 676088.57 \u001b[92mOK\u001b[0m\n",
      "Account: 408 GL: 4329.0 TB: 4329.0 \u001b[92mOK\u001b[0m\n",
      "Account: 411 GL: 59944.9 TB: 59944.9 \u001b[92mOK\u001b[0m\n",
      "Account: 414 GL: 8125.0 TB: 8125.0 \u001b[92mOK\u001b[0m\n",
      "Account: 415 GL: 175102.59 TB: 175102.59 \u001b[92mOK\u001b[0m\n",
      "Account: 423 GL: 5998.0 TB: 5998.0 \u001b[92mOK\u001b[0m\n",
      "Account: 425 GL: 10188.85 TB: 10188.85 \u001b[92mOK\u001b[0m\n",
      "Account: 480 GL: 21683.0 TB: 21683.0 \u001b[92mOK\u001b[0m\n",
      "Account: 483 GL: 26432.59 TB: 26432.59 \u001b[92mOK\u001b[0m\n",
      "Account: 524 GL: 112858.7 TB: 112858.7 \u001b[92mOK\u001b[0m\n",
      "Account: 527 GL: 39240.11 TB: 39240.11 \u001b[92mOK\u001b[0m\n",
      "Account: 528 GL: 7563.72 TB: 7563.72 \u001b[92mOK\u001b[0m\n",
      "Account: 529 GL: 56613.1 TB: 56613.1 \u001b[92mOK\u001b[0m\n",
      "Account: 662 GL: 140.09 TB: 140.09 \u001b[92mOK\u001b[0m\n",
      "Account: 664 GL: 809.83 TB: 809.83 \u001b[92mOK\u001b[0m\n",
      "Account: 665 GL: 0.02 TB: 0.02 \u001b[92mOK\u001b[0m\n",
      "Account: 666 GL: 329.92 TB: 329.92 \u001b[92mOK\u001b[0m\n",
      "Account: 667 GL: 1355.56 TB: 1355.56 \u001b[92mOK\u001b[0m\n",
      "Account: 668 GL: 9114.72 TB: 9114.72 \u001b[92mOK\u001b[0m\n",
      "Account: 670 GL: 2119.91 TB: 2119.91 \u001b[92mOK\u001b[0m\n",
      "Account: 671 GL: 2253.2 TB: 2253.2 \u001b[92mOK\u001b[0m\n",
      "Account: 672 GL: 7624999.32 TB: 7624999.32 \u001b[92mOK\u001b[0m\n",
      "Account: 673 GL: 12887.14 TB: 12887.14 \u001b[92mOK\u001b[0m\n",
      "Account: 674 GL: 4312.03 TB: 4312.03 \u001b[92mOK\u001b[0m\n",
      "Account: 675 GL: 4674998.7 TB: 4674998.7 \u001b[92mOK\u001b[0m\n",
      "Account: 676 GL: 6700.43 TB: 6700.43 \u001b[92mOK\u001b[0m\n",
      "Account: 677 GL: 1521011.42 TB: 1521011.42 \u001b[92mOK\u001b[0m\n",
      "Account: 678 GL: 7356.29 TB: 7356.29 \u001b[92mOK\u001b[0m\n",
      "Account: 950 GL: 10869.56 TB: 10869.56 \u001b[92mOK\u001b[0m\n",
      "Account: 972 GL: 87437.16 TB: 87437.16 \u001b[92mOK\u001b[0m\n",
      "Account: 973 GL: 239700.21 TB: 239700.21 \u001b[92mOK\u001b[0m\n",
      "Account: 980 GL: 130185.16 TB: 130185.16 \u001b[92mOK\u001b[0m\n",
      "Account: 1000 GL: 34213.62 TB: 34213.62 \u001b[92mOK\u001b[0m\n",
      "Account: 1200 GL: 35451039.72 TB: 35451039.72 \u001b[92mOK\u001b[0m\n",
      "Account: 1202 GL: 2254942.89 TB: 2254942.89 \u001b[92mOK\u001b[0m\n",
      "Account: 1203 GL: 28111.19 TB: 28111.19 \u001b[92mOK\u001b[0m\n",
      "Account: 1210 GL: 34458908.88 TB: 34458908.88 \u001b[92mOK\u001b[0m\n",
      "Account: 1212 GL: 1825.17 TB: 1825.17 \u001b[92mOK\u001b[0m\n",
      "Account: 1213 GL: 5.04 TB: 5.04 \u001b[92mOK\u001b[0m\n",
      "Account: 1220 GL: 19045916.43 TB: 19045916.43 \u001b[92mOK\u001b[0m\n",
      "Account: 1224 GL: 5437986.37 TB: 5437986.37 \u001b[92mOK\u001b[0m\n",
      "Account: 1226 GL: 221.0 TB: 221.0 \u001b[92mOK\u001b[0m\n",
      "Account: 1360 GL: 5770776.75 TB: 5770776.75 \u001b[92mOK\u001b[0m\n",
      "Account: 1400 GL: 53413905.1 TB: 53413905.1 \u001b[92mOK\u001b[0m\n",
      "Account: 1401 GL: 33523.3 TB: 33523.3 \u001b[92mOK\u001b[0m\n",
      "Account: 1411 GL: 95197.47 TB: 95197.47 \u001b[92mOK\u001b[0m\n",
      "Account: 1412 GL: 50784.71 TB: 50784.71 \u001b[92mOK\u001b[0m\n",
      "Account: 1471 GL: 7240096.74 TB: 7240096.74 \u001b[92mOK\u001b[0m\n",
      "Account: 1472 GL: 2489521.25 TB: 2489521.25 \u001b[92mOK\u001b[0m\n",
      "Account: 1473 GL: 3605298.86 TB: 3605298.86 \u001b[92mOK\u001b[0m\n",
      "Account: 1474 GL: 662385.95 TB: 662385.95 \u001b[92mOK\u001b[0m\n",
      "Account: 1475 GL: 5893572.94 TB: 5893572.94 \u001b[92mOK\u001b[0m\n",
      "Account: 1476 GL: 10419592.65 TB: 10419592.65 \u001b[92mOK\u001b[0m\n",
      "Account: 1500 GL: 359778.78 TB: 359778.78 \u001b[92mOK\u001b[0m\n",
      "Account: 1510 GL: 793609.95 TB: 793609.95 \u001b[92mOK\u001b[0m\n",
      "Account: 1513 GL: 74297.8 TB: 74297.8 \u001b[92mOK\u001b[0m\n",
      "Account: 1532 GL: 12000.0 TB: 12000.0 \u001b[92mOK\u001b[0m\n",
      "Account: 1535 GL: 700.0 TB: 700.0 \u001b[92mOK\u001b[0m\n",
      "Account: 1536 GL: 3000.0 TB: 3000.0 \u001b[92mOK\u001b[0m\n",
      "Account: 1539 GL: 1800.0 TB: 1800.0 \u001b[92mOK\u001b[0m\n",
      "Account: 1548 GL: 111925.0 TB: 111925.0 \u001b[92mOK\u001b[0m\n",
      "Account: 1549 GL: 135522.98 TB: 135522.98 \u001b[92mOK\u001b[0m\n",
      "Account: 1561 GL: 370713.33 TB: 370713.33 \u001b[92mOK\u001b[0m\n",
      "Account: 1562 GL: 5526.83 TB: 5526.83 \u001b[92mOK\u001b[0m\n",
      "Account: 1563 GL: 113277.3 TB: 113277.3 \u001b[92mOK\u001b[0m\n",
      "Account: 1567 GL: 4813.99 TB: 4813.99 \u001b[92mOK\u001b[0m\n",
      "Account: 1574 GL: 11727.62 TB: 11727.62 \u001b[92mOK\u001b[0m\n",
      "Account: 1581 GL: 19923.37 TB: 19923.37 \u001b[92mOK\u001b[0m\n",
      "Account: 1590 GL: 3226476.96 TB: 3226476.96 \u001b[92mOK\u001b[0m\n",
      "Account: 1591 GL: 301498.91 TB: 301498.91 \u001b[92mOK\u001b[0m\n",
      "Account: 1600 GL: 66527730.94 TB: 66527730.94 \u001b[92mOK\u001b[0m\n",
      "Account: 1610 GL: 843312.02 TB: 843312.02 \u001b[92mOK\u001b[0m\n",
      "Account: 1612 GL: 822664.69 TB: 822664.69 \u001b[92mOK\u001b[0m\n",
      "Account: 1700 GL: 12107.76 TB: 12107.76 \u001b[92mOK\u001b[0m\n",
      "Account: 1740 GL: 5442127.72 TB: 5442127.72 \u001b[92mOK\u001b[0m\n",
      "Account: 1741 GL: 629638.52 TB: 629638.52 \u001b[92mOK\u001b[0m\n",
      "Account: 1742 GL: 1614200.14 TB: 1614200.14 \u001b[92mOK\u001b[0m\n",
      "Account: 1743 GL: 252063.71 TB: 252063.71 \u001b[92mOK\u001b[0m\n",
      "Account: 1755 GL: 7699619.83 TB: 7699619.83 \u001b[92mOK\u001b[0m\n",
      "Account: 1761 GL: 2950194.82 TB: 2950194.82 \u001b[92mOK\u001b[0m\n",
      "Account: 1762 GL: 599308.84 TB: 599308.84 \u001b[92mOK\u001b[0m\n",
      "Account: 1763 GL: 7238160.9 TB: 7238160.9 \u001b[92mOK\u001b[0m\n",
      "Account: 1764 GL: 662.72 TB: 662.72 \u001b[92mOK\u001b[0m\n",
      "Account: 1765 GL: 113869.62 TB: 113869.62 \u001b[92mOK\u001b[0m\n",
      "Account: 1767 GL: 578573.46 TB: 578573.46 \u001b[92mOK\u001b[0m\n",
      "Account: 1774 GL: 50905.8 TB: 50905.8 \u001b[92mOK\u001b[0m\n",
      "Account: 1776 GL: 32205.03 TB: 32205.03 \u001b[92mOK\u001b[0m\n",
      "Account: 1778 GL: 93594.14 TB: 93594.14 \u001b[92mOK\u001b[0m\n",
      "Account: 1780 GL: 597710.46 TB: 597710.46 \u001b[92mOK\u001b[0m\n",
      "Account: 1782 GL: 730194.01 TB: 730194.01 \u001b[92mOK\u001b[0m\n",
      "Account: 2200 GL: 63.15 TB: 63.15 \u001b[92mOK\u001b[0m\n",
      "Account: 2502 GL: 9572380.52 TB: 9572380.52 \u001b[92mOK\u001b[0m\n",
      "Account: 2509 GL: 586624.04 TB: 586624.04 \u001b[92mOK\u001b[0m\n",
      "Account: 2510 GL: 10919.89 TB: 10919.89 \u001b[92mOK\u001b[0m\n",
      "Account: 2650 GL: 300.82 TB: 300.82 \u001b[92mOK\u001b[0m\n",
      "Account: 2651 GL: 22524.66 TB: 22524.66 \u001b[92mOK\u001b[0m\n",
      "Account: 2660 GL: 343030.57 TB: 343030.57 \u001b[92mOK\u001b[0m\n",
      "Account: 2700 GL: 43878.09 TB: 43878.09 \u001b[92mOK\u001b[0m\n",
      "Account: 2701 GL: 8520.12 TB: 8520.12 \u001b[92mOK\u001b[0m\n",
      "Account: 2703 GL: 9737.4 TB: 9737.4 \u001b[92mOK\u001b[0m\n",
      "Account: 2711 GL: 11381.09 TB: 11381.09 \u001b[92mOK\u001b[0m\n",
      "Account: 2742 GL: 23659.1 TB: 23659.1 \u001b[92mOK\u001b[0m\n",
      "Account: 3201 GL: 994262.08 TB: 994262.08 \u001b[92mOK\u001b[0m\n",
      "Account: 3400 GL: 2180666.61 TB: 2180666.61 \u001b[92mOK\u001b[0m\n",
      "Account: 3425 GL: 92097.42 TB: 92097.42 \u001b[92mOK\u001b[0m\n",
      "Account: 3709 GL: 2273.0 TB: 2273.0 \u001b[92mOK\u001b[0m\n",
      "Account: 3724 GL: 735.74 TB: 735.74 \u001b[92mOK\u001b[0m\n",
      "Account: 3725 GL: 236155.3 TB: 236155.3 \u001b[92mOK\u001b[0m\n",
      "Account: 3735 GL: 11599.41 TB: 11599.41 \u001b[92mOK\u001b[0m\n",
      "Account: 3736 GL: 35850.17 TB: 35850.17 \u001b[92mOK\u001b[0m\n",
      "Account: 3742 GL: 30325.01 TB: 30325.01 \u001b[92mOK\u001b[0m\n",
      "Account: 3743 GL: 3334.83 TB: 3334.83 \u001b[92mOK\u001b[0m\n",
      "Account: 3803 GL: 15758.21 TB: 15758.21 \u001b[92mOK\u001b[0m\n",
      "Account: 3960 GL: 5257533.91 TB: 5257533.91 \u001b[92mOK\u001b[0m\n",
      "Account: 3961 GL: 380878.23 TB: 380878.23 \u001b[92mOK\u001b[0m\n",
      "Account: 3980 GL: 994262.08 TB: 994262.08 \u001b[92mOK\u001b[0m\n",
      "Account: 3981 GL: 203833.72 TB: 203833.72 \u001b[92mOK\u001b[0m\n",
      "Account: 4100 GL: 297560.93 TB: 297560.93 \u001b[92mOK\u001b[0m\n",
      "Account: 4106 GL: 15134.94 TB: 15134.94 \u001b[92mOK\u001b[0m\n",
      "Account: 4112 GL: 0.0 TB: 0.0 \u001b[92mOK\u001b[0m\n",
      "Account: 4126 GL: 130000.0 TB: 130000.0 \u001b[92mOK\u001b[0m\n",
      "Account: 4130 GL: 318.57 TB: 318.57 \u001b[92mOK\u001b[0m\n",
      "Account: 4131 GL: 242.0 TB: 242.0 \u001b[92mOK\u001b[0m\n",
      "Account: 4360 GL: 19394.8 TB: 19394.8 \u001b[92mOK\u001b[0m\n",
      "Account: 4510 GL: 393.0 TB: 393.0 \u001b[92mOK\u001b[0m\n",
      "Account: 4530 GL: 0.01 TB: 0.01 \u001b[92mOK\u001b[0m\n",
      "Account: 4654 GL: 27.5 TB: 27.5 \u001b[92mOK\u001b[0m\n",
      "Account: 4673 GL: 33524.14 TB: 33524.14 \u001b[92mOK\u001b[0m\n",
      "Account: 4733 GL: 21391.48 TB: 21391.48 \u001b[92mOK\u001b[0m\n",
      "Account: 4790 GL: 2789.26 TB: 2789.26 \u001b[92mOK\u001b[0m\n",
      "Account: 4808 GL: 26064.15 TB: 26064.15 \u001b[92mOK\u001b[0m\n",
      "Account: 4809 GL: 42059.48 TB: 42059.48 \u001b[92mOK\u001b[0m\n",
      "Account: 4933 GL: 3402.0 TB: 3402.0 \u001b[92mOK\u001b[0m\n",
      "Account: 4958 GL: 38377.5 TB: 38377.5 \u001b[92mOK\u001b[0m\n",
      "Account: 4970 GL: 98.91 TB: 98.91 \u001b[92mOK\u001b[0m\n",
      "Account: 4979 GL: 29.4 TB: 29.4 \u001b[92mOK\u001b[0m\n",
      "Account: 4983 GL: 76358.2 TB: 76358.2 \u001b[92mOK\u001b[0m\n",
      "Account: 4984 GL: 82.34 TB: 82.34 \u001b[92mOK\u001b[0m\n",
      "Account: 4986 GL: 1030.0 TB: 1030.0 \u001b[92mOK\u001b[0m\n",
      "Account: 4991 GL: 2548.83 TB: 2548.83 \u001b[92mOK\u001b[0m\n",
      "Account: 8120 GL: 12102827.76 TB: 12102827.76 \u001b[92mOK\u001b[0m\n",
      "Account: 8121 GL: 571648.0 TB: 571648.0 \u001b[92mOK\u001b[0m\n",
      "Account: 8125 GL: 58137504.66 TB: 58137504.66 \u001b[92mOK\u001b[0m\n",
      "Account: 8126 GL: 1536775.46 TB: 1536775.46 \u001b[92mOK\u001b[0m\n",
      "Account: 8300 GL: 22092.72 TB: 22092.72 \u001b[92mOK\u001b[0m\n",
      "Account: 8400 GL: 577847.04 TB: 577847.04 \u001b[92mOK\u001b[0m\n",
      "Account: 8420 GL: 492600.4 TB: 492600.4 \u001b[92mOK\u001b[0m\n",
      "Account: 8440 GL: 188540.0 TB: 188540.0 \u001b[92mOK\u001b[0m\n",
      "Account: 8441 GL: 161025.12 TB: 161025.12 \u001b[92mOK\u001b[0m\n",
      "Account: 8700 GL: 234408.78 TB: 234408.78 \u001b[92mOK\u001b[0m\n",
      "Account: 8726 GL: 64.47 TB: 64.47 \u001b[92mOK\u001b[0m\n",
      "Account: 8738 GL: 523758.67 TB: 523758.67 \u001b[92mOK\u001b[0m\n",
      "Account: 8822 GL: 59815.24 TB: 59815.24 \u001b[92mOK\u001b[0m\n",
      "Account: 8824 GL: 36523.0 TB: 36523.0 \u001b[92mOK\u001b[0m\n",
      "Account: 8829 GL: 50800.0 TB: 50800.0 \u001b[92mOK\u001b[0m\n",
      "Account: 8924 GL: 41174.51 TB: 41174.51 \u001b[92mOK\u001b[0m\n",
      "Account: 8970 GL: 126941.03 TB: 126941.03 \u001b[92mOK\u001b[0m\n"
     ]
    }
   ],
   "source": [
    "# compare the sums of the GL and the TB for each credit account and save the difference \n",
    "\n",
    "acc_with_diff_credit = []\n",
    "sum_diff_credit = 0\n",
    "\n",
    "for acc in df_credit_gl_tb[\"credit_account\"]:\n",
    "    sum_gl = round(df_credit_gl_tb[\"credit_amount\"].loc[df_credit_gl_tb.index[df_credit_gl_tb[\"credit_account\"] == acc]].sum(), 2)\n",
    "    sum_tb = round(df_tb[\"haben_periode_12\"].loc[df_tb.index[df_tb[\"kontonummer\"] == acc]].sum(), 2)\n",
    "    if sum_gl != sum_tb:\n",
    "        acc_with_diff_credit.append(acc)\n",
    "        sum_diff_credit += sum_gl - sum_tb\n",
    "        print(f\"Account: {acc} GL: {sum_gl} TB: {sum_tb} {bcolors.FAIL}NOT OK{bcolors.ENDC}\")\n",
    "    else:\n",
    "        print(f\"Account: {acc} GL: {sum_gl} TB: {sum_tb} {bcolors.OKGREEN}OK{bcolors.ENDC}\")\n",
    "\n",
    "pd.DataFrame(acc_with_diff_credit).to_excel('./results/JB1/credit_diff_gl_tb.xlsx', sheet_name='GL vs TB' ,index=False, header=True, float_format=\"%.2f\", engine='xlsxwriter')"
   ]
  },
  {
   "cell_type": "code",
   "execution_count": 138,
   "id": "2000887e",
   "metadata": {},
   "outputs": [
    {
     "name": "stdout",
     "output_type": "stream",
     "text": [
      "Account: 22 GL: 14495.0 TB: 14495.0 \u001b[92mOK\u001b[0m\n",
      "Account: 23 GL: 22620.0 TB: 22620.0 \u001b[92mOK\u001b[0m\n",
      "Account: 25 GL: 8159.2 TB: 8159.2 \u001b[92mOK\u001b[0m\n",
      "Account: 26 GL: 8125.0 TB: 8125.0 \u001b[92mOK\u001b[0m\n",
      "Account: 27 GL: 61176.15 TB: 61176.15 \u001b[92mOK\u001b[0m\n",
      "Account: 176 GL: 20737.13 TB: 20737.13 \u001b[92mOK\u001b[0m\n",
      "Account: 180 GL: 39200.0 TB: 39200.0 \u001b[92mOK\u001b[0m\n",
      "Account: 210 GL: 54051.7 TB: 54051.7 \u001b[92mOK\u001b[0m\n",
      "Account: 280 GL: 206000.0 TB: 206000.0 \u001b[92mOK\u001b[0m\n",
      "Account: 291 GL: 245721.14 TB: 245721.14 \u001b[92mOK\u001b[0m\n",
      "Account: 320 GL: 4627.35 TB: 4627.35 \u001b[92mOK\u001b[0m\n",
      "Account: 354 GL: 10000.0 TB: 10000.0 \u001b[92mOK\u001b[0m\n",
      "Account: 381 GL: 24500.0 TB: 24500.0 \u001b[92mOK\u001b[0m\n",
      "Account: 384 GL: 5725.0 TB: 5725.0 \u001b[92mOK\u001b[0m\n",
      "Account: 400 GL: 91896.33 TB: 91896.33 \u001b[92mOK\u001b[0m\n",
      "Account: 403 GL: 745421.87 TB: 745421.87 \u001b[92mOK\u001b[0m\n",
      "Account: 408 GL: 4329.0 TB: 4329.0 \u001b[92mOK\u001b[0m\n",
      "Account: 411 GL: 319108.38 TB: 319108.38 \u001b[92mOK\u001b[0m\n",
      "Account: 412 GL: 10490.55 TB: 10490.55 \u001b[92mOK\u001b[0m\n",
      "Account: 414 GL: 8125.0 TB: 8125.0 \u001b[92mOK\u001b[0m\n",
      "Account: 415 GL: 13289.58 TB: 13289.58 \u001b[92mOK\u001b[0m\n",
      "Account: 416 GL: 4329.0 TB: 4329.0 \u001b[92mOK\u001b[0m\n",
      "Account: 423 GL: 32177.85 TB: 32177.85 \u001b[92mOK\u001b[0m\n",
      "Account: 480 GL: 4276.8 TB: 4276.8 \u001b[92mOK\u001b[0m\n",
      "Account: 483 GL: 43838.79 TB: 43838.79 \u001b[92mOK\u001b[0m\n",
      "Account: 514 GL: 28750.0 TB: 28750.0 \u001b[92mOK\u001b[0m\n",
      "Account: 529 GL: 41376.51 TB: 41376.51 \u001b[92mOK\u001b[0m\n",
      "Account: 532 GL: 528.4 TB: 528.4 \u001b[92mOK\u001b[0m\n",
      "Account: 662 GL: 19914.33 TB: 19914.33 \u001b[92mOK\u001b[0m\n",
      "Account: 664 GL: 68336.97 TB: 68336.97 \u001b[92mOK\u001b[0m\n",
      "Account: 665 GL: 25050.01 TB: 25050.01 \u001b[92mOK\u001b[0m\n",
      "Account: 666 GL: 18644.22 TB: 18644.22 \u001b[92mOK\u001b[0m\n",
      "Account: 667 GL: 39732.92 TB: 39732.92 \u001b[92mOK\u001b[0m\n",
      "Account: 668 GL: 170737.92 TB: 170737.92 \u001b[92mOK\u001b[0m\n",
      "Account: 670 GL: 51553.56 TB: 51553.56 \u001b[92mOK\u001b[0m\n",
      "Account: 671 GL: 54843.12 TB: 54843.12 \u001b[92mOK\u001b[0m\n",
      "Account: 672 GL: 7874999.4 TB: 7874999.4 \u001b[92mOK\u001b[0m\n",
      "Account: 673 GL: 176286.48 TB: 176286.48 \u001b[92mOK\u001b[0m\n",
      "Account: 674 GL: 55114.32 TB: 55114.32 \u001b[92mOK\u001b[0m\n",
      "Account: 675 GL: 4796427.3 TB: 4796427.3 \u001b[92mOK\u001b[0m\n",
      "Account: 676 GL: 74373.0 TB: 74373.0 \u001b[92mOK\u001b[0m\n",
      "Account: 677 GL: 16093.2 TB: 16093.2 \u001b[92mOK\u001b[0m\n",
      "Account: 973 GL: 523758.67 TB: 523758.67 \u001b[92mOK\u001b[0m\n",
      "Account: 975 GL: 130000.0 TB: 130000.0 \u001b[92mOK\u001b[0m\n",
      "Account: 977 GL: 38377.5 TB: 38377.5 \u001b[92mOK\u001b[0m\n",
      "Account: 980 GL: 93480.24 TB: 93480.24 \u001b[92mOK\u001b[0m\n",
      "Account: 998 GL: 3815.93 TB: 3815.93 \u001b[92mOK\u001b[0m\n",
      "Account: 1000 GL: 32030.36 TB: 32030.36 \u001b[92mOK\u001b[0m\n",
      "Account: 1200 GL: 35883373.31 TB: 35883373.31 \u001b[92mOK\u001b[0m\n",
      "Account: 1202 GL: 277522.88 TB: 277522.88 \u001b[92mOK\u001b[0m\n",
      "Account: 1203 GL: 15592.23 TB: 15592.23 \u001b[92mOK\u001b[0m\n",
      "Account: 1210 GL: 34947796.26 TB: 34947796.26 \u001b[92mOK\u001b[0m\n",
      "Account: 1212 GL: 25.47 TB: 25.47 \u001b[92mOK\u001b[0m\n",
      "Account: 1213 GL: 20.37 TB: 20.37 \u001b[92mOK\u001b[0m\n",
      "Account: 1220 GL: 19664297.78 TB: 19664297.78 \u001b[92mOK\u001b[0m\n",
      "Account: 1224 GL: 2339030.34 TB: 2339030.34 \u001b[92mOK\u001b[0m\n",
      "Account: 1360 GL: 5770776.75 TB: 5770776.75 \u001b[92mOK\u001b[0m\n",
      "Account: 1400 GL: 53076626.03 TB: 53076626.03 \u001b[92mOK\u001b[0m\n",
      "Account: 1411 GL: 42061.01 TB: 42061.01 \u001b[92mOK\u001b[0m\n",
      "Account: 1412 GL: 192347.77 TB: 192347.77 \u001b[92mOK\u001b[0m\n",
      "Account: 1471 GL: 7271936.38 TB: 7271936.38 \u001b[92mOK\u001b[0m\n",
      "Account: 1472 GL: 2422485.25 TB: 2422485.25 \u001b[92mOK\u001b[0m\n",
      "Account: 1473 GL: 3364655.13 TB: 3364655.13 \u001b[92mOK\u001b[0m\n",
      "Account: 1474 GL: 716873.46 TB: 716873.46 \u001b[92mOK\u001b[0m\n",
      "Account: 1475 GL: 6239934.4 TB: 6239934.4 \u001b[92mOK\u001b[0m\n",
      "Account: 1476 GL: 10522174.95 TB: 10522174.95 \u001b[92mOK\u001b[0m\n",
      "Account: 1477 GL: 700.0 TB: 700.0 \u001b[92mOK\u001b[0m\n",
      "Account: 1478 GL: 923291.98 TB: 923291.98 \u001b[92mOK\u001b[0m\n",
      "Account: 1500 GL: 250.0 TB: 250.0 \u001b[92mOK\u001b[0m\n",
      "Account: 1510 GL: 0.0 TB: 0.0 \u001b[92mOK\u001b[0m\n",
      "Account: 1513 GL: 52384.0 TB: 52384.0 \u001b[92mOK\u001b[0m\n",
      "Account: 1532 GL: 25202.02 TB: 25202.02 \u001b[92mOK\u001b[0m\n",
      "Account: 1536 GL: 52.36 TB: 52.36 \u001b[92mOK\u001b[0m\n",
      "Account: 1539 GL: 46.44 TB: 46.44 \u001b[92mOK\u001b[0m\n",
      "Account: 1548 GL: 0.0 TB: 0.0 \u001b[92mOK\u001b[0m\n",
      "Account: 1549 GL: 0.0 TB: 0.0 \u001b[92mOK\u001b[0m\n",
      "Account: 1561 GL: 2950194.82 TB: 2950194.82 \u001b[92mOK\u001b[0m\n",
      "Account: 1562 GL: 599308.84 TB: 599308.84 \u001b[92mOK\u001b[0m\n",
      "Account: 1563 GL: 7238160.9 TB: 7238160.9 \u001b[92mOK\u001b[0m\n",
      "Account: 1565 GL: 17496.83 TB: 17496.83 \u001b[92mOK\u001b[0m\n",
      "Account: 1567 GL: 578573.46 TB: 578573.46 \u001b[92mOK\u001b[0m\n",
      "Account: 1574 GL: 767731.62 TB: 767731.62 \u001b[92mOK\u001b[0m\n",
      "Account: 1576 GL: 114.71 TB: 114.71 \u001b[92mOK\u001b[0m\n",
      "Account: 1577 GL: 95549.58 TB: 95549.58 \u001b[92mOK\u001b[0m\n",
      "Account: 1578 GL: 922.45 TB: 922.45 \u001b[92mOK\u001b[0m\n",
      "Account: 1579 GL: 924.77 TB: 924.77 \u001b[92mOK\u001b[0m\n",
      "Account: 1581 GL: 603536.79 TB: 603536.79 \u001b[92mOK\u001b[0m\n",
      "Account: 1582 GL: 163.24 TB: 163.24 \u001b[92mOK\u001b[0m\n",
      "Account: 1590 GL: 3226476.96 TB: 3226476.96 \u001b[92mOK\u001b[0m\n",
      "Account: 1591 GL: 301498.91 TB: 301498.91 \u001b[92mOK\u001b[0m\n",
      "Account: 1600 GL: 67588412.03 TB: 67588412.03 \u001b[92mOK\u001b[0m\n",
      "Account: 1601 GL: 580796.43 TB: 580796.43 \u001b[92mOK\u001b[0m\n",
      "Account: 1610 GL: 841238.01 TB: 841238.01 \u001b[92mOK\u001b[0m\n",
      "Account: 1612 GL: 994262.08 TB: 994262.08 \u001b[92mOK\u001b[0m\n",
      "Account: 1700 GL: 55448.15 TB: 55448.15 \u001b[92mOK\u001b[0m\n",
      "Account: 1740 GL: 5406084.75 TB: 5406084.75 \u001b[92mOK\u001b[0m\n",
      "Account: 1741 GL: 655771.96 TB: 655771.96 \u001b[92mOK\u001b[0m\n",
      "Account: 1742 GL: 1533737.83 TB: 1533737.83 \u001b[92mOK\u001b[0m\n",
      "Account: 1743 GL: 347821.23 TB: 347821.23 \u001b[92mOK\u001b[0m\n",
      "Account: 1755 GL: 7699619.83 TB: 7699619.83 \u001b[92mOK\u001b[0m\n",
      "Account: 1761 GL: 370713.33 TB: 370713.33 \u001b[92mOK\u001b[0m\n",
      "Account: 1762 GL: 5526.83 TB: 5526.83 \u001b[92mOK\u001b[0m\n",
      "Account: 1763 GL: 113277.3 TB: 113277.3 \u001b[92mOK\u001b[0m\n",
      "Account: 1764 GL: 55.85 TB: 55.85 \u001b[92mOK\u001b[0m\n",
      "Account: 1765 GL: 8594.36 TB: 8594.36 \u001b[92mOK\u001b[0m\n",
      "Account: 1767 GL: 4813.99 TB: 4813.99 \u001b[92mOK\u001b[0m\n",
      "Account: 1778 GL: 2454.5 TB: 2454.5 \u001b[92mOK\u001b[0m\n",
      "Account: 1782 GL: 914.69 TB: 914.69 \u001b[92mOK\u001b[0m\n",
      "Account: 1784 GL: 54943.99 TB: 54943.99 \u001b[92mOK\u001b[0m\n",
      "Account: 2110 GL: 7247.83 TB: 7247.83 \u001b[92mOK\u001b[0m\n",
      "Account: 2120 GL: 68366.89 TB: 68366.89 \u001b[92mOK\u001b[0m\n",
      "Account: 2150 GL: 444774.83 TB: 444774.83 \u001b[92mOK\u001b[0m\n",
      "Account: 2200 GL: 111925.0 TB: 111925.0 \u001b[92mOK\u001b[0m\n",
      "Account: 2203 GL: 7338.58 TB: 7338.58 \u001b[92mOK\u001b[0m\n",
      "Account: 2204 GL: 5458.55 TB: 5458.55 \u001b[92mOK\u001b[0m\n",
      "Account: 2308 GL: 11000.0 TB: 11000.0 \u001b[92mOK\u001b[0m\n",
      "Account: 2315 GL: 72990.47 TB: 72990.47 \u001b[92mOK\u001b[0m\n",
      "Account: 2375 GL: 2128.2 TB: 2128.2 \u001b[92mOK\u001b[0m\n",
      "Account: 2501 GL: 9572380.52 TB: 9572380.52 \u001b[92mOK\u001b[0m\n",
      "Account: 2510 GL: 597543.93 TB: 597543.93 \u001b[92mOK\u001b[0m\n",
      "Account: 2651 GL: 1000.16 TB: 1000.16 \u001b[92mOK\u001b[0m\n",
      "Account: 2700 GL: 0.0 TB: 0.0 \u001b[92mOK\u001b[0m\n",
      "Account: 2742 GL: 7597.56 TB: 7597.56 \u001b[92mOK\u001b[0m\n",
      "Account: 3100 GL: 97669.8 TB: 97669.8 \u001b[92mOK\u001b[0m\n",
      "Account: 3201 GL: 822664.69 TB: 822664.69 \u001b[92mOK\u001b[0m\n",
      "Account: 3400 GL: 17354087.46 TB: 17354087.46 \u001b[92mOK\u001b[0m\n",
      "Account: 3410 GL: 676105.55 TB: 676105.55 \u001b[92mOK\u001b[0m\n",
      "Account: 3415 GL: 3944009.65 TB: 3944009.65 \u001b[92mOK\u001b[0m\n",
      "Account: 3425 GL: 27720296.41 TB: 27720296.41 \u001b[92mOK\u001b[0m\n",
      "Account: 3426 GL: 2181774.25 TB: 2181774.25 \u001b[92mOK\u001b[0m\n",
      "Account: 3709 GL: 2273.0 TB: 2273.0 \u001b[92mOK\u001b[0m\n",
      "Account: 3724 GL: 30.9 TB: 30.9 \u001b[92mOK\u001b[0m\n",
      "Account: 3725 GL: 1190.53 TB: 1190.53 \u001b[92mOK\u001b[0m\n",
      "Account: 3736 GL: 232.2 TB: 232.2 \u001b[92mOK\u001b[0m\n",
      "Account: 3742 GL: 3695.55 TB: 3695.55 \u001b[92mOK\u001b[0m\n",
      "Account: 3743 GL: 478.0 TB: 478.0 \u001b[92mOK\u001b[0m\n",
      "Account: 3800 GL: 245361.97 TB: 245361.97 \u001b[92mOK\u001b[0m\n",
      "Account: 3802 GL: 341508.13 TB: 341508.13 \u001b[92mOK\u001b[0m\n",
      "Account: 3803 GL: 1322757.16 TB: 1322757.16 \u001b[92mOK\u001b[0m\n",
      "Account: 3960 GL: 994262.08 TB: 994262.08 \u001b[92mOK\u001b[0m\n",
      "Account: 3980 GL: 5257533.91 TB: 5257533.91 \u001b[92mOK\u001b[0m\n",
      "Account: 3981 GL: 507819.26 TB: 507819.26 \u001b[92mOK\u001b[0m\n",
      "Account: 4100 GL: 6603664.51 TB: 6603664.51 \u001b[92mOK\u001b[0m\n",
      "Account: 4101 GL: 73287.12 TB: 73287.12 \u001b[92mOK\u001b[0m\n",
      "Account: 4103 GL: 150662.64 TB: 150662.64 \u001b[92mOK\u001b[0m\n",
      "Account: 4106 GL: 599443.25 TB: 599443.25 \u001b[92mOK\u001b[0m\n",
      "Account: 4108 GL: 185215.05 TB: 185215.05 \u001b[92mOK\u001b[0m\n",
      "Account: 4111 GL: 340.0 TB: 340.0 \u001b[92mOK\u001b[0m\n",
      "Account: 4112 GL: 28083.82 TB: 28083.82 \u001b[92mOK\u001b[0m\n",
      "Account: 4115 GL: 207840.33 TB: 207840.33 \u001b[92mOK\u001b[0m\n",
      "Account: 4120 GL: 2280.0 TB: 2280.0 \u001b[92mOK\u001b[0m\n",
      "Account: 4122 GL: 1960.0 TB: 1960.0 \u001b[92mOK\u001b[0m\n",
      "Account: 4123 GL: 27955.27 TB: 27955.27 \u001b[92mOK\u001b[0m\n",
      "Account: 4130 GL: 881013.99 TB: 881013.99 \u001b[92mOK\u001b[0m\n",
      "Account: 4131 GL: 81491.0 TB: 81491.0 \u001b[92mOK\u001b[0m\n",
      "Account: 4134 GL: 185538.63 TB: 185538.63 \u001b[92mOK\u001b[0m\n",
      "Account: 4138 GL: 4119.83 TB: 4119.83 \u001b[92mOK\u001b[0m\n",
      "Account: 4193 GL: 10869.56 TB: 10869.56 \u001b[92mOK\u001b[0m\n",
      "Account: 4200 GL: 18351.93 TB: 18351.93 \u001b[92mOK\u001b[0m\n",
      "Account: 4210 GL: 38558.08 TB: 38558.08 \u001b[92mOK\u001b[0m\n",
      "Account: 4240 GL: 1194368.77 TB: 1194368.77 \u001b[92mOK\u001b[0m\n",
      "Account: 4241 GL: -7575.45 TB: -7575.45 \u001b[92mOK\u001b[0m\n",
      "Account: 4242 GL: 17556.0 TB: 17556.0 \u001b[92mOK\u001b[0m\n",
      "Account: 4252 GL: 51522.17 TB: 51522.17 \u001b[92mOK\u001b[0m\n",
      "Account: 4260 GL: 35208.1 TB: 35208.1 \u001b[92mOK\u001b[0m\n",
      "Account: 4262 GL: 9278.7 TB: 9278.7 \u001b[92mOK\u001b[0m\n",
      "Account: 4263 GL: 44968.81 TB: 44968.81 \u001b[92mOK\u001b[0m\n",
      "Account: 4281 GL: -476.18 TB: -476.18 \u001b[92mOK\u001b[0m\n",
      "Account: 4320 GL: 126914.6 TB: 126914.6 \u001b[92mOK\u001b[0m\n",
      "Account: 4360 GL: 311458.54 TB: 311458.54 \u001b[92mOK\u001b[0m\n",
      "Account: 4361 GL: 10990.68 TB: 10990.68 \u001b[92mOK\u001b[0m\n",
      "Account: 4380 GL: 44331.52 TB: 44331.52 \u001b[92mOK\u001b[0m\n",
      "Account: 4510 GL: 4213.0 TB: 4213.0 \u001b[92mOK\u001b[0m\n",
      "Account: 4520 GL: 34548.88 TB: 34548.88 \u001b[92mOK\u001b[0m\n",
      "Account: 4530 GL: 201970.8 TB: 201970.8 \u001b[92mOK\u001b[0m\n",
      "Account: 4531 GL: 127595.73 TB: 127595.73 \u001b[92mOK\u001b[0m\n",
      "Account: 4532 GL: 15186.03 TB: 15186.03 \u001b[92mOK\u001b[0m\n",
      "Account: 4533 GL: 37481.62 TB: 37481.62 \u001b[92mOK\u001b[0m\n",
      "Account: 4540 GL: 4745.87 TB: 4745.87 \u001b[92mOK\u001b[0m\n",
      "Account: 4541 GL: 3887.56 TB: 3887.56 \u001b[92mOK\u001b[0m\n",
      "Account: 4542 GL: 8126.17 TB: 8126.17 \u001b[92mOK\u001b[0m\n",
      "Account: 4543 GL: 17812.65 TB: 17812.65 \u001b[92mOK\u001b[0m\n",
      "Account: 4550 GL: 1158.96 TB: 1158.96 \u001b[92mOK\u001b[0m\n",
      "Account: 4552 GL: 8811.85 TB: 8811.85 \u001b[92mOK\u001b[0m\n",
      "Account: 4560 GL: 10990.62 TB: 10990.62 \u001b[92mOK\u001b[0m\n",
      "Account: 4561 GL: 611.8 TB: 611.8 \u001b[92mOK\u001b[0m\n",
      "Account: 4563 GL: 4072.83 TB: 4072.83 \u001b[92mOK\u001b[0m\n",
      "Account: 4574 GL: 100.34 TB: 100.34 \u001b[92mOK\u001b[0m\n",
      "Account: 4580 GL: 563.63 TB: 563.63 \u001b[92mOK\u001b[0m\n",
      "Account: 4583 GL: 7.5 TB: 7.5 \u001b[92mOK\u001b[0m\n",
      "Account: 4584 GL: 201.5 TB: 201.5 \u001b[92mOK\u001b[0m\n",
      "Account: 4612 GL: 1755.38 TB: 1755.38 \u001b[92mOK\u001b[0m\n",
      "Account: 4613 GL: 10873.3 TB: 10873.3 \u001b[92mOK\u001b[0m\n",
      "Account: 4614 GL: 48985.5 TB: 48985.5 \u001b[92mOK\u001b[0m\n",
      "Account: 4631 GL: 7250.0 TB: 7250.0 \u001b[92mOK\u001b[0m\n",
      "Account: 4640 GL: 1848.65 TB: 1848.65 \u001b[92mOK\u001b[0m\n",
      "Account: 4642 GL: 31596.37 TB: 31596.37 \u001b[92mOK\u001b[0m\n",
      "Account: 4643 GL: 27089.95 TB: 27089.95 \u001b[92mOK\u001b[0m\n",
      "Account: 4644 GL: 13273.62 TB: 13273.62 \u001b[92mOK\u001b[0m\n",
      "Account: 4645 GL: 302.91 TB: 302.91 \u001b[92mOK\u001b[0m\n",
      "Account: 4650 GL: 4312.49 TB: 4312.49 \u001b[92mOK\u001b[0m\n",
      "Account: 4651 GL: 35.52 TB: 35.52 \u001b[92mOK\u001b[0m\n",
      "Account: 4652 GL: 42.69 TB: 42.69 \u001b[92mOK\u001b[0m\n",
      "Account: 4653 GL: 6.53 TB: 6.53 \u001b[92mOK\u001b[0m\n",
      "Account: 4654 GL: 3310.68 TB: 3310.68 \u001b[92mOK\u001b[0m\n",
      "Account: 4660 GL: 512.45 TB: 512.45 \u001b[92mOK\u001b[0m\n",
      "Account: 4664 GL: 504.0 TB: 504.0 \u001b[92mOK\u001b[0m\n",
      "Account: 4671 GL: 2774.61 TB: 2774.61 \u001b[92mOK\u001b[0m\n",
      "Account: 4673 GL: 400978.55 TB: 400978.55 \u001b[92mOK\u001b[0m\n",
      "Account: 4674 GL: 1287.28 TB: 1287.28 \u001b[92mOK\u001b[0m\n",
      "Account: 4675 GL: 13204.16 TB: 13204.16 \u001b[92mOK\u001b[0m\n",
      "Account: 4710 GL: 5040.0 TB: 5040.0 \u001b[92mOK\u001b[0m\n",
      "Account: 4713 GL: 1899779.85 TB: 1899779.85 \u001b[92mOK\u001b[0m\n",
      "Account: 4714 GL: 13525.2 TB: 13525.2 \u001b[92mOK\u001b[0m\n",
      "Account: 4717 GL: 7885.28 TB: 7885.28 \u001b[92mOK\u001b[0m\n",
      "Account: 4718 GL: 265219.14 TB: 265219.14 \u001b[92mOK\u001b[0m\n",
      "Account: 4730 GL: 1026955.21 TB: 1026955.21 \u001b[92mOK\u001b[0m\n",
      "Account: 4732 GL: 1361750.13 TB: 1361750.13 \u001b[92mOK\u001b[0m\n",
      "Account: 4733 GL: 914591.26 TB: 914591.26 \u001b[92mOK\u001b[0m\n",
      "Account: 4763 GL: 9034.51 TB: 9034.51 \u001b[92mOK\u001b[0m\n",
      "Account: 4764 GL: 1480.54 TB: 1480.54 \u001b[92mOK\u001b[0m\n",
      "Account: 4781 GL: 15541.79 TB: 15541.79 \u001b[92mOK\u001b[0m\n",
      "Account: 4782 GL: 576036.12 TB: 576036.12 \u001b[92mOK\u001b[0m\n",
      "Account: 4784 GL: 4500.0 TB: 4500.0 \u001b[92mOK\u001b[0m\n",
      "Account: 4790 GL: 37451.64 TB: 37451.64 \u001b[92mOK\u001b[0m\n",
      "Account: 4799 GL: 4929.79 TB: 4929.79 \u001b[92mOK\u001b[0m\n",
      "Account: 4800 GL: 252107.63 TB: 252107.63 \u001b[92mOK\u001b[0m\n",
      "Account: 4802 GL: 221.2 TB: 221.2 \u001b[92mOK\u001b[0m\n",
      "Account: 4803 GL: 189096.96 TB: 189096.96 \u001b[92mOK\u001b[0m\n",
      "Account: 4804 GL: 109371.57 TB: 109371.57 \u001b[92mOK\u001b[0m\n",
      "Account: 4805 GL: 1792.74 TB: 1792.74 \u001b[92mOK\u001b[0m\n",
      "Account: 4807 GL: 364692.39 TB: 364692.39 \u001b[92mOK\u001b[0m\n",
      "Account: 4808 GL: 282584.34 TB: 282584.34 \u001b[92mOK\u001b[0m\n",
      "Account: 4809 GL: 34741.63 TB: 34741.63 \u001b[92mOK\u001b[0m\n",
      "Account: 4816 GL: 34716.81 TB: 34716.81 \u001b[92mOK\u001b[0m\n",
      "Account: 4817 GL: 153062.43 TB: 153062.43 \u001b[92mOK\u001b[0m\n",
      "Account: 4822 GL: 102521.0 TB: 102521.0 \u001b[92mOK\u001b[0m\n",
      "Account: 4830 GL: 1422962.88 TB: 1422962.88 \u001b[92mOK\u001b[0m\n",
      "Account: 4900 GL: 10199.65 TB: 10199.65 \u001b[92mOK\u001b[0m\n",
      "Account: 4901 GL: 16714.98 TB: 16714.98 \u001b[92mOK\u001b[0m\n",
      "Account: 4910 GL: 6002.22 TB: 6002.22 \u001b[92mOK\u001b[0m\n",
      "Account: 4911 GL: 1183.53 TB: 1183.53 \u001b[92mOK\u001b[0m\n",
      "Account: 4920 GL: 24426.23 TB: 24426.23 \u001b[92mOK\u001b[0m\n",
      "Account: 4922 GL: 7252.47 TB: 7252.47 \u001b[92mOK\u001b[0m\n",
      "Account: 4923 GL: 13355.6 TB: 13355.6 \u001b[92mOK\u001b[0m\n",
      "Account: 4930 GL: 128.21 TB: 128.21 \u001b[92mOK\u001b[0m\n",
      "Account: 4932 GL: 273.33 TB: 273.33 \u001b[92mOK\u001b[0m\n",
      "Account: 4933 GL: 80786.52 TB: 80786.52 \u001b[92mOK\u001b[0m\n",
      "Account: 4934 GL: 407.65 TB: 407.65 \u001b[92mOK\u001b[0m\n",
      "Account: 4942 GL: 490.98 TB: 490.98 \u001b[92mOK\u001b[0m\n",
      "Account: 4943 GL: 209.09 TB: 209.09 \u001b[92mOK\u001b[0m\n",
      "Account: 4944 GL: 33.5 TB: 33.5 \u001b[92mOK\u001b[0m\n",
      "Account: 4951 GL: 30383.93 TB: 30383.93 \u001b[92mOK\u001b[0m\n",
      "Account: 4952 GL: 34959.2 TB: 34959.2 \u001b[92mOK\u001b[0m\n",
      "Account: 4953 GL: 35110.15 TB: 35110.15 \u001b[92mOK\u001b[0m\n",
      "Account: 4954 GL: 604.54 TB: 604.54 \u001b[92mOK\u001b[0m\n",
      "Account: 4957 GL: 102922.65 TB: 102922.65 \u001b[92mOK\u001b[0m\n",
      "Account: 4960 GL: 14178.0 TB: 14178.0 \u001b[92mOK\u001b[0m\n",
      "Account: 4962 GL: 1855.2 TB: 1855.2 \u001b[92mOK\u001b[0m\n",
      "Account: 4965 GL: 99082.16 TB: 99082.16 \u001b[92mOK\u001b[0m\n",
      "Account: 4967 GL: 4560.0 TB: 4560.0 \u001b[92mOK\u001b[0m\n",
      "Account: 4968 GL: 2880.02 TB: 2880.02 \u001b[92mOK\u001b[0m\n",
      "Account: 4969 GL: 74755.75 TB: 74755.75 \u001b[92mOK\u001b[0m\n",
      "Account: 4970 GL: 36940.54 TB: 36940.54 \u001b[92mOK\u001b[0m\n",
      "Account: 4971 GL: 840.0 TB: 840.0 \u001b[92mOK\u001b[0m\n",
      "Account: 4979 GL: 16504.92 TB: 16504.92 \u001b[92mOK\u001b[0m\n",
      "Account: 4980 GL: 86277.53 TB: 86277.53 \u001b[92mOK\u001b[0m\n",
      "Account: 4981 GL: 3610.97 TB: 3610.97 \u001b[92mOK\u001b[0m\n",
      "Account: 4982 GL: 53404.37 TB: 53404.37 \u001b[92mOK\u001b[0m\n",
      "Account: 4983 GL: 1073087.88 TB: 1073087.88 \u001b[92mOK\u001b[0m\n",
      "Account: 4984 GL: 14745.61 TB: 14745.61 \u001b[92mOK\u001b[0m\n",
      "Account: 4985 GL: 819.56 TB: 819.56 \u001b[92mOK\u001b[0m\n",
      "Account: 4986 GL: 148231.43 TB: 148231.43 \u001b[92mOK\u001b[0m\n",
      "Account: 4987 GL: 8741.19 TB: 8741.19 \u001b[92mOK\u001b[0m\n",
      "Account: 4988 GL: 90147.48 TB: 90147.48 \u001b[92mOK\u001b[0m\n",
      "Account: 4989 GL: 13066.67 TB: 13066.67 \u001b[92mOK\u001b[0m\n",
      "Account: 4991 GL: 34074.81 TB: 34074.81 \u001b[92mOK\u001b[0m\n",
      "Account: 4992 GL: 375.31 TB: 375.31 \u001b[92mOK\u001b[0m\n",
      "Account: 4993 GL: 2190.65 TB: 2190.65 \u001b[92mOK\u001b[0m\n",
      "Account: 8120 GL: 93167.69 TB: 93167.69 \u001b[92mOK\u001b[0m\n",
      "Account: 8125 GL: 412582.09 TB: 412582.09 \u001b[92mOK\u001b[0m\n",
      "Account: 8300 GL: 1861.79 TB: 1861.79 \u001b[92mOK\u001b[0m\n",
      "Account: 8400 GL: 50555.03 TB: 50555.03 \u001b[92mOK\u001b[0m\n",
      "Account: 8700 GL: 145982.18 TB: 145982.18 \u001b[92mOK\u001b[0m\n",
      "Account: 8705 GL: 13806.61 TB: 13806.61 \u001b[92mOK\u001b[0m\n",
      "Account: 8726 GL: 962117.48 TB: 962117.48 \u001b[92mOK\u001b[0m\n",
      "Account: 8737 GL: 12918.58 TB: 12918.58 \u001b[92mOK\u001b[0m\n",
      "Account: 8738 GL: 239700.21 TB: 239700.21 \u001b[92mOK\u001b[0m\n",
      "Account: 8739 GL: 87437.16 TB: 87437.16 \u001b[92mOK\u001b[0m\n",
      "Account: 8740 GL: 1283850.17 TB: 1283850.17 \u001b[92mOK\u001b[0m\n",
      "Account: 8741 GL: 15378.96 TB: 15378.96 \u001b[92mOK\u001b[0m\n",
      "Account: 8970 GL: 203833.72 TB: 203833.72 \u001b[92mOK\u001b[0m\n"
     ]
    }
   ],
   "source": [
    "# compare the sums of the GL and the TB for each debit account and save the difference\n",
    "\n",
    "acc_with_diff_debit = []\n",
    "sum_diff_debit = 0\n",
    "\n",
    "for acc in df_debit_gl_tb[\"debit_account\"]:\n",
    "    sum_gl = round(df_debit_gl_tb[\"debit_amount\"].loc[df_debit_gl_tb.index[df_debit_gl_tb[\"debit_account\"] == acc]].sum(), 2)\n",
    "    sum_tb = round(df_tb[\"soll_periode_12\"].loc[df_tb.index[df_tb[\"kontonummer\"] == acc]].sum(), 2)\n",
    "    if sum_gl != sum_tb:\n",
    "        acc_with_diff_debit.append(acc)\n",
    "        sum_diff_debit += sum_gl - sum_tb\n",
    "        print(f\"Account: {acc} GL: {sum_gl} TB: {sum_tb} {bcolors.FAIL}NOT OK{bcolors.ENDC}\")\n",
    "    else:\n",
    "        print(f\"Account: {acc} GL: {sum_gl} TB: {sum_tb} {bcolors.OKGREEN}OK{bcolors.ENDC}\")\n",
    "\n",
    "pd.DataFrame(acc_with_diff_debit).to_excel('./results/JB1/debit_diff_gl_tb.xlsx', sheet_name='GL vs TB' ,index=False, header=True, float_format=\"%.2f\", engine='xlsxwriter')"
   ]
  },
  {
   "cell_type": "code",
   "execution_count": 139,
   "id": "4f34138c",
   "metadata": {},
   "outputs": [
    {
     "name": "stdout",
     "output_type": "stream",
     "text": [
      "0 0\n"
     ]
    },
    {
     "data": {
      "image/png": "[encoded data removed]",
      "text/plain": [
       "<Figure size 640x480 with 1 Axes>"
      ]
     },
     "metadata": {},
     "output_type": "display_data"
    }
   ],
   "source": [
    "# the difference between the sum of debit and credit accounts in the GL and the TB is identical and therefore balanced between the GL and the TB\n",
    "\n",
    "print(np.abs(sum_diff_debit), np.abs(sum_diff_credit))\n",
    "\n",
    "plt.bar(x=[\"Credit\", \"Debit\"], height=[np.abs(sum_diff_credit), np.abs(sum_diff_debit)], color=[\"black\", \"gray\"], width=0.5, align=\"center\", edgecolor=\"black\")\n",
    "plt.title(\"Difference between debit and credit accounts\")\n",
    "plt.show()"
   ]
  },
  {
   "attachments": {},
   "cell_type": "markdown",
   "id": "2523ab59",
   "metadata": {},
   "source": [
    "### Compare all accounts in the GL"
   ]
  },
  {
   "cell_type": "code",
   "execution_count": 140,
   "id": "abb04b89",
   "metadata": {},
   "outputs": [],
   "source": [
    "# investigate the difference between the sum of debit and credit accounts for each account in the GL as debit - credit\n",
    "\n",
    "#df_gl_diff = df_gl_sums.loc[df_gl_sums.index[df_gl_sums[\"debit_account\"].astype(str) == df_gl_sums[\"credit_account\"].astype(str)]][\"sollbetrag_eur\"] == df_gl_sums.loc[df_gl_sums.index[df_gl_sums[\"debit_account\"].astype(str) == df_gl_sums[\"credit_account\"].astype(str)]][\"habenbetrag_eur\"]\n",
    "#df_gl_sums[\"diff\"] = df_gl_sums[\"diff\"].fillna(0)\n",
    "#df_gl_sums[\"diff\"] = df_gl_sums[\"diff\"].astype(int)\n",
    "#df_gl_sums = df_gl_sums.sort_values(by=[\"diff\"], ascending=False)\n",
    "#df_gl_diff"
   ]
  },
  {
   "cell_type": "code",
   "execution_count": 141,
   "id": "9642bd3d",
   "metadata": {},
   "outputs": [
    {
     "name": "stdout",
     "output_type": "stream",
     "text": [
      "Account: 22 Debit: 14495.0 Credit: 0.0 \u001b[91m Diff: 14495.0\u001b[0m\n",
      "Account: 23 Debit: 22620.0 Credit: 14495.0 \u001b[91m Diff: 8125.0\u001b[0m\n",
      "Account: 26 Debit: 8125.0 Credit: 26646.0 \u001b[91m Diff: -18521.0\u001b[0m\n",
      "Account: 27 Debit: 61176.15 Credit: 1231.25 \u001b[91m Diff: 59944.9\u001b[0m\n",
      "Account: 176 Debit: 20737.13 Credit: 0.0 \u001b[91m Diff: 20737.13\u001b[0m\n",
      "Account: 210 Debit: 54051.7 Credit: 0.0 \u001b[91m Diff: 54051.7\u001b[0m\n",
      "Account: 280 Debit: 206000.0 Credit: 0.0 \u001b[91m Diff: 206000.0\u001b[0m\n",
      "Account: 291 Debit: 245721.14 Credit: 0.0 \u001b[91m Diff: 245721.14\u001b[0m\n",
      "Account: 320 Debit: 4627.35 Credit: 0.0 \u001b[91m Diff: 4627.35\u001b[0m\n",
      "Account: 354 Debit: 10000.0 Credit: 0.0 \u001b[91m Diff: 10000.0\u001b[0m\n",
      "Account: 381 Debit: 24500.0 Credit: 0.0 \u001b[91m Diff: 24500.0\u001b[0m\n",
      "Account: 384 Debit: 5725.0 Credit: 0.0 \u001b[91m Diff: 5725.0\u001b[0m\n",
      "Account: 400 Debit: 91896.33 Credit: 62119.9 \u001b[91m Diff: 29776.43\u001b[0m\n",
      "Account: 403 Debit: 745421.87 Credit: 61806.49 \u001b[91m Diff: 683615.38\u001b[0m\n",
      "Account: 411 Debit: 319108.38 Credit: 59944.9 \u001b[91m Diff: 259163.48\u001b[0m\n",
      "Account: 412 Debit: 10490.55 Credit: 0.0 \u001b[91m Diff: 10490.55\u001b[0m\n",
      "Account: 415 Debit: 13289.58 Credit: 175102.59 \u001b[91m Diff: -161813.01\u001b[0m\n",
      "Account: 416 Debit: 4329.0 Credit: 0.0 \u001b[91m Diff: 4329.0\u001b[0m\n",
      "Account: 423 Debit: 32177.85 Credit: 5998.0 \u001b[91m Diff: 26179.85\u001b[0m\n",
      "Account: 480 Debit: 4276.8 Credit: 21683.0 \u001b[91m Diff: -17406.2\u001b[0m\n",
      "Account: 483 Debit: 43838.79 Credit: 26432.59 \u001b[91m Diff: 17406.2\u001b[0m\n",
      "Account: 514 Debit: 28750.0 Credit: 0.0 \u001b[91m Diff: 28750.0\u001b[0m\n",
      "Account: 529 Debit: 41376.51 Credit: 56613.1 \u001b[91m Diff: -15236.589999999997\u001b[0m\n",
      "Account: 532 Debit: 528.4 Credit: 0.0 \u001b[91m Diff: 528.4\u001b[0m\n",
      "Account: 662 Debit: 19914.33 Credit: 140.09 \u001b[91m Diff: 19774.24\u001b[0m\n",
      "Account: 664 Debit: 68336.97 Credit: 809.83 \u001b[91m Diff: 67527.14\u001b[0m\n",
      "Account: 665 Debit: 25050.01 Credit: 0.02 \u001b[91m Diff: 25049.989999999998\u001b[0m\n",
      "Account: 666 Debit: 18644.22 Credit: 329.92 \u001b[91m Diff: 18314.300000000003\u001b[0m\n",
      "Account: 667 Debit: 39732.92 Credit: 1355.56 \u001b[91m Diff: 38377.36\u001b[0m\n",
      "Account: 668 Debit: 170737.92 Credit: 9114.72 \u001b[91m Diff: 161623.2\u001b[0m\n",
      "Account: 670 Debit: 51553.56 Credit: 2119.91 \u001b[91m Diff: 49433.649999999994\u001b[0m\n",
      "Account: 671 Debit: 54843.12 Credit: 2253.2 \u001b[91m Diff: 52589.920000000006\u001b[0m\n",
      "Account: 672 Debit: 7874999.4 Credit: 7624999.32 \u001b[91m Diff: 250000.08000000007\u001b[0m\n",
      "Account: 673 Debit: 176286.48 Credit: 12887.14 \u001b[91m Diff: 163399.34000000003\u001b[0m\n",
      "Account: 674 Debit: 55114.32 Credit: 4312.03 \u001b[91m Diff: 50802.29\u001b[0m\n",
      "Account: 675 Debit: 4796427.3 Credit: 4674998.7 \u001b[91m Diff: 121428.59999999963\u001b[0m\n",
      "Account: 676 Debit: 74373.0 Credit: 6700.43 \u001b[91m Diff: 67672.57\u001b[0m\n",
      "Account: 677 Debit: 16093.2 Credit: 1521011.42 \u001b[91m Diff: -1504918.22\u001b[0m\n",
      "Account: 973 Debit: 523758.67 Credit: 239700.21 \u001b[91m Diff: 284058.45999999996\u001b[0m\n",
      "Account: 975 Debit: 130000.0 Credit: 0.0 \u001b[91m Diff: 130000.0\u001b[0m\n",
      "Account: 977 Debit: 38377.5 Credit: 0.0 \u001b[91m Diff: 38377.5\u001b[0m\n",
      "Account: 980 Debit: 93480.24 Credit: 130185.16 \u001b[91m Diff: -36704.92\u001b[0m\n",
      "Account: 998 Debit: 3815.93 Credit: 0.0 \u001b[91m Diff: 3815.93\u001b[0m\n",
      "Account: 1000 Debit: 32030.36 Credit: 34213.62 \u001b[91m Diff: -2183.260000000002\u001b[0m\n",
      "Account: 1200 Debit: 35883373.31 Credit: 35451039.72 \u001b[91m Diff: 432333.5900000036\u001b[0m\n",
      "Account: 1202 Debit: 277522.88 Credit: 2254942.89 \u001b[91m Diff: -1977420.0100000002\u001b[0m\n",
      "Account: 1203 Debit: 15592.23 Credit: 28111.19 \u001b[91m Diff: -12518.96\u001b[0m\n",
      "Account: 1210 Debit: 34947796.26 Credit: 34458908.88 \u001b[91m Diff: 488887.37999999523\u001b[0m\n",
      "Account: 1212 Debit: 25.47 Credit: 1825.17 \u001b[91m Diff: -1799.7\u001b[0m\n",
      "Account: 1213 Debit: 20.37 Credit: 5.04 \u001b[91m Diff: 15.330000000000002\u001b[0m\n",
      "Account: 1220 Debit: 19664297.78 Credit: 19045916.43 \u001b[91m Diff: 618381.3500000015\u001b[0m\n",
      "Account: 1224 Debit: 2339030.34 Credit: 5437986.37 \u001b[91m Diff: -3098956.0300000003\u001b[0m\n",
      "Account: 1400 Debit: 53076626.03 Credit: 53413905.1 \u001b[91m Diff: -337279.0700000003\u001b[0m\n",
      "Account: 1411 Debit: 42061.01 Credit: 95197.47 \u001b[91m Diff: -53136.46\u001b[0m\n",
      "Account: 1412 Debit: 192347.77 Credit: 50784.71 \u001b[91m Diff: 141563.06\u001b[0m\n",
      "Account: 1471 Debit: 7271936.38 Credit: 7240096.74 \u001b[91m Diff: 31839.639999999665\u001b[0m\n",
      "Account: 1472 Debit: 2422485.25 Credit: 2489521.25 \u001b[91m Diff: -67036.0\u001b[0m\n",
      "Account: 1473 Debit: 3364655.13 Credit: 3605298.86 \u001b[91m Diff: -240643.72999999998\u001b[0m\n",
      "Account: 1474 Debit: 716873.46 Credit: 662385.95 \u001b[91m Diff: 54487.51000000001\u001b[0m\n",
      "Account: 1475 Debit: 6239934.4 Credit: 5893572.94 \u001b[91m Diff: 346361.45999999996\u001b[0m\n",
      "Account: 1476 Debit: 10522174.95 Credit: 10419592.65 \u001b[91m Diff: 102582.29999999888\u001b[0m\n",
      "Account: 1477 Debit: 700.0 Credit: 0.0 \u001b[91m Diff: 700.0\u001b[0m\n",
      "Account: 1478 Debit: 923291.98 Credit: 0.0 \u001b[91m Diff: 923291.98\u001b[0m\n",
      "Account: 1500 Debit: 250.0 Credit: 359778.78 \u001b[91m Diff: -359528.78\u001b[0m\n",
      "Account: 1510 Debit: 0.0 Credit: 793609.95 \u001b[91m Diff: -793609.95\u001b[0m\n",
      "Account: 1513 Debit: 52384.0 Credit: 74297.8 \u001b[91m Diff: -21913.800000000003\u001b[0m\n",
      "Account: 1532 Debit: 25202.02 Credit: 12000.0 \u001b[91m Diff: 13202.02\u001b[0m\n",
      "Account: 1536 Debit: 52.36 Credit: 3000.0 \u001b[91m Diff: -2947.64\u001b[0m\n",
      "Account: 1539 Debit: 46.44 Credit: 1800.0 \u001b[91m Diff: -1753.56\u001b[0m\n",
      "Account: 1548 Debit: 0.0 Credit: 111925.0 \u001b[91m Diff: -111925.0\u001b[0m\n",
      "Account: 1549 Debit: 0.0 Credit: 135522.98 \u001b[91m Diff: -135522.98\u001b[0m\n",
      "Account: 1561 Debit: 2950194.82 Credit: 370713.33 \u001b[91m Diff: 2579481.4899999998\u001b[0m\n",
      "Account: 1562 Debit: 599308.84 Credit: 5526.83 \u001b[91m Diff: 593782.01\u001b[0m\n",
      "Account: 1563 Debit: 7238160.9 Credit: 113277.3 \u001b[91m Diff: 7124883.600000001\u001b[0m\n",
      "Account: 1565 Debit: 17496.83 Credit: 0.0 \u001b[91m Diff: 17496.83\u001b[0m\n",
      "Account: 1567 Debit: 578573.46 Credit: 4813.99 \u001b[91m Diff: 573759.47\u001b[0m\n",
      "Account: 1574 Debit: 767731.62 Credit: 11727.62 \u001b[91m Diff: 756004.0\u001b[0m\n",
      "Account: 1576 Debit: 114.71 Credit: 0.0 \u001b[91m Diff: 114.71\u001b[0m\n",
      "Account: 1577 Debit: 95549.58 Credit: 0.0 \u001b[91m Diff: 95549.58\u001b[0m\n",
      "Account: 1578 Debit: 922.45 Credit: 0.0 \u001b[91m Diff: 922.45\u001b[0m\n",
      "Account: 1579 Debit: 924.77 Credit: 0.0 \u001b[91m Diff: 924.77\u001b[0m\n",
      "Account: 1581 Debit: 603536.79 Credit: 19923.37 \u001b[91m Diff: 583613.42\u001b[0m\n",
      "Account: 1582 Debit: 163.24 Credit: 0.0 \u001b[91m Diff: 163.24\u001b[0m\n",
      "Account: 1600 Debit: 67588412.03 Credit: 66527730.94 \u001b[91m Diff: 1060681.0900000036\u001b[0m\n",
      "Account: 1601 Debit: 580796.43 Credit: 0.0 \u001b[91m Diff: 580796.43\u001b[0m\n",
      "Account: 1610 Debit: 841238.01 Credit: 843312.02 \u001b[91m Diff: -2074.0100000000093\u001b[0m\n",
      "Account: 1612 Debit: 994262.08 Credit: 822664.69 \u001b[91m Diff: 171597.39\u001b[0m\n",
      "Account: 1700 Debit: 55448.15 Credit: 12107.76 \u001b[91m Diff: 43340.39\u001b[0m\n",
      "Account: 1740 Debit: 5406084.75 Credit: 5442127.72 \u001b[91m Diff: -36042.96999999974\u001b[0m\n",
      "Account: 1741 Debit: 655771.96 Credit: 629638.52 \u001b[91m Diff: 26133.439999999944\u001b[0m\n",
      "Account: 1742 Debit: 1533737.83 Credit: 1614200.14 \u001b[91m Diff: -80462.30999999982\u001b[0m\n",
      "Account: 1743 Debit: 347821.23 Credit: 252063.71 \u001b[91m Diff: 95757.51999999999\u001b[0m\n",
      "Account: 1761 Debit: 370713.33 Credit: 2950194.82 \u001b[91m Diff: -2579481.4899999998\u001b[0m\n",
      "Account: 1762 Debit: 5526.83 Credit: 599308.84 \u001b[91m Diff: -593782.01\u001b[0m\n",
      "Account: 1763 Debit: 113277.3 Credit: 7238160.9 \u001b[91m Diff: -7124883.600000001\u001b[0m\n",
      "Account: 1764 Debit: 55.85 Credit: 662.72 \u001b[91m Diff: -606.87\u001b[0m\n",
      "Account: 1765 Debit: 8594.36 Credit: 113869.62 \u001b[91m Diff: -105275.26\u001b[0m\n",
      "Account: 1767 Debit: 4813.99 Credit: 578573.46 \u001b[91m Diff: -573759.47\u001b[0m\n",
      "Account: 1778 Debit: 2454.5 Credit: 93594.14 \u001b[91m Diff: -91139.64\u001b[0m\n",
      "Account: 1782 Debit: 914.69 Credit: 730194.01 \u001b[91m Diff: -729279.3200000001\u001b[0m\n",
      "Account: 1784 Debit: 54943.99 Credit: 0.0 \u001b[91m Diff: 54943.99\u001b[0m\n",
      "Account: 2110 Debit: 7247.83 Credit: 0.0 \u001b[91m Diff: 7247.83\u001b[0m\n",
      "Account: 2120 Debit: 68366.89 Credit: 0.0 \u001b[91m Diff: 68366.89\u001b[0m\n",
      "Account: 2150 Debit: 444774.83 Credit: 0.0 \u001b[91m Diff: 444774.83\u001b[0m\n",
      "Account: 2200 Debit: 111925.0 Credit: 63.15 \u001b[91m Diff: 111861.85\u001b[0m\n",
      "Account: 2203 Debit: 7338.58 Credit: 0.0 \u001b[91m Diff: 7338.58\u001b[0m\n",
      "Account: 2204 Debit: 5458.55 Credit: 0.0 \u001b[91m Diff: 5458.55\u001b[0m\n",
      "Account: 2308 Debit: 11000.0 Credit: 0.0 \u001b[91m Diff: 11000.0\u001b[0m\n",
      "Account: 2315 Debit: 72990.47 Credit: 0.0 \u001b[91m Diff: 72990.47\u001b[0m\n",
      "Account: 2375 Debit: 2128.2 Credit: 0.0 \u001b[91m Diff: 2128.2\u001b[0m\n",
      "Account: 2501 Debit: 9572380.52 Credit: 0.0 \u001b[91m Diff: 9572380.52\u001b[0m\n",
      "Account: 2510 Debit: 597543.93 Credit: 10919.89 \u001b[91m Diff: 586624.04\u001b[0m\n",
      "Account: 2651 Debit: 1000.16 Credit: 22524.66 \u001b[91m Diff: -21524.5\u001b[0m\n",
      "Account: 2700 Debit: 0.0 Credit: 43878.09 \u001b[91m Diff: -43878.09\u001b[0m\n",
      "Account: 2742 Debit: 7597.56 Credit: 23659.1 \u001b[91m Diff: -16061.539999999997\u001b[0m\n",
      "Account: 3100 Debit: 97669.8 Credit: 0.0 \u001b[91m Diff: 97669.8\u001b[0m\n",
      "Account: 3201 Debit: 822664.69 Credit: 994262.08 \u001b[91m Diff: -171597.39\u001b[0m\n",
      "Account: 3400 Debit: 17354087.46 Credit: 2180666.61 \u001b[91m Diff: 15173420.850000001\u001b[0m\n",
      "Account: 3410 Debit: 676105.55 Credit: 0.0 \u001b[91m Diff: 676105.55\u001b[0m\n",
      "Account: 3415 Debit: 3944009.65 Credit: 0.0 \u001b[91m Diff: 3944009.65\u001b[0m\n",
      "Account: 3425 Debit: 27720296.41 Credit: 92097.42 \u001b[91m Diff: 27628198.99\u001b[0m\n",
      "Account: 3426 Debit: 2181774.25 Credit: 0.0 \u001b[91m Diff: 2181774.25\u001b[0m\n",
      "Account: 3724 Debit: 30.9 Credit: 735.74 \u001b[91m Diff: -704.84\u001b[0m\n",
      "Account: 3725 Debit: 1190.53 Credit: 236155.3 \u001b[91m Diff: -234964.77\u001b[0m\n",
      "Account: 3736 Debit: 232.2 Credit: 35850.17 \u001b[91m Diff: -35617.97\u001b[0m\n",
      "Account: 3742 Debit: 3695.55 Credit: 30325.01 \u001b[91m Diff: -26629.46\u001b[0m\n",
      "Account: 3743 Debit: 478.0 Credit: 3334.83 \u001b[91m Diff: -2856.83\u001b[0m\n",
      "Account: 3800 Debit: 245361.97 Credit: 0.0 \u001b[91m Diff: 245361.97\u001b[0m\n",
      "Account: 3802 Debit: 341508.13 Credit: 0.0 \u001b[91m Diff: 341508.13\u001b[0m\n",
      "Account: 3803 Debit: 1322757.16 Credit: 15758.21 \u001b[91m Diff: 1306998.95\u001b[0m\n",
      "Account: 3960 Debit: 994262.08 Credit: 5257533.91 \u001b[91m Diff: -4263271.83\u001b[0m\n",
      "Account: 3980 Debit: 5257533.91 Credit: 994262.08 \u001b[91m Diff: 4263271.83\u001b[0m\n",
      "Account: 3981 Debit: 507819.26 Credit: 203833.72 \u001b[91m Diff: 303985.54000000004\u001b[0m\n",
      "Account: 4100 Debit: 6603664.51 Credit: 297560.93 \u001b[91m Diff: 6306103.58\u001b[0m\n",
      "Account: 4101 Debit: 73287.12 Credit: 0.0 \u001b[91m Diff: 73287.12\u001b[0m\n",
      "Account: 4103 Debit: 150662.64 Credit: 0.0 \u001b[91m Diff: 150662.64\u001b[0m\n",
      "Account: 4106 Debit: 599443.25 Credit: 15134.94 \u001b[91m Diff: 584308.31\u001b[0m\n",
      "Account: 4108 Debit: 185215.05 Credit: 0.0 \u001b[91m Diff: 185215.05\u001b[0m\n",
      "Account: 4111 Debit: 340.0 Credit: 0.0 \u001b[91m Diff: 340.0\u001b[0m\n",
      "Account: 4112 Debit: 28083.82 Credit: 0.0 \u001b[91m Diff: 28083.82\u001b[0m\n",
      "Account: 4115 Debit: 207840.33 Credit: 0.0 \u001b[91m Diff: 207840.33\u001b[0m\n",
      "Account: 4120 Debit: 2280.0 Credit: 0.0 \u001b[91m Diff: 2280.0\u001b[0m\n",
      "Account: 4122 Debit: 1960.0 Credit: 0.0 \u001b[91m Diff: 1960.0\u001b[0m\n",
      "Account: 4123 Debit: 27955.27 Credit: 0.0 \u001b[91m Diff: 27955.27\u001b[0m\n",
      "Account: 4130 Debit: 881013.99 Credit: 318.57 \u001b[91m Diff: 880695.42\u001b[0m\n",
      "Account: 4131 Debit: 81491.0 Credit: 242.0 \u001b[91m Diff: 81249.0\u001b[0m\n",
      "Account: 4134 Debit: 185538.63 Credit: 0.0 \u001b[91m Diff: 185538.63\u001b[0m\n",
      "Account: 4138 Debit: 4119.83 Credit: 0.0 \u001b[91m Diff: 4119.83\u001b[0m\n",
      "Account: 4193 Debit: 10869.56 Credit: 0.0 \u001b[91m Diff: 10869.56\u001b[0m\n",
      "Account: 4200 Debit: 18351.93 Credit: 0.0 \u001b[91m Diff: 18351.93\u001b[0m\n",
      "Account: 4210 Debit: 38558.08 Credit: 0.0 \u001b[91m Diff: 38558.08\u001b[0m\n",
      "Account: 4240 Debit: 1194368.77 Credit: 0.0 \u001b[91m Diff: 1194368.77\u001b[0m\n",
      "Account: 4241 Debit: -7575.45 Credit: 0.0 \u001b[91m Diff: -7575.45\u001b[0m\n",
      "Account: 4242 Debit: 17556.0 Credit: 0.0 \u001b[91m Diff: 17556.0\u001b[0m\n",
      "Account: 4252 Debit: 51522.17 Credit: 0.0 \u001b[91m Diff: 51522.17\u001b[0m\n",
      "Account: 4260 Debit: 35208.1 Credit: 0.0 \u001b[91m Diff: 35208.1\u001b[0m\n",
      "Account: 4262 Debit: 9278.7 Credit: 0.0 \u001b[91m Diff: 9278.7\u001b[0m\n",
      "Account: 4263 Debit: 44968.81 Credit: 0.0 \u001b[91m Diff: 44968.81\u001b[0m\n",
      "Account: 4281 Debit: -476.18 Credit: 0.0 \u001b[91m Diff: -476.18\u001b[0m\n",
      "Account: 4320 Debit: 126914.6 Credit: 0.0 \u001b[91m Diff: 126914.6\u001b[0m\n",
      "Account: 4360 Debit: 311458.54 Credit: 19394.8 \u001b[91m Diff: 292063.74\u001b[0m\n",
      "Account: 4361 Debit: 10990.68 Credit: 0.0 \u001b[91m Diff: 10990.68\u001b[0m\n",
      "Account: 4380 Debit: 44331.52 Credit: 0.0 \u001b[91m Diff: 44331.52\u001b[0m\n",
      "Account: 4510 Debit: 4213.0 Credit: 393.0 \u001b[91m Diff: 3820.0\u001b[0m\n",
      "Account: 4520 Debit: 34548.88 Credit: 0.0 \u001b[91m Diff: 34548.88\u001b[0m\n",
      "Account: 4530 Debit: 201970.8 Credit: 0.01 \u001b[91m Diff: 201970.78999999998\u001b[0m\n",
      "Account: 4531 Debit: 127595.73 Credit: 0.0 \u001b[91m Diff: 127595.73\u001b[0m\n",
      "Account: 4532 Debit: 15186.03 Credit: 0.0 \u001b[91m Diff: 15186.03\u001b[0m\n",
      "Account: 4533 Debit: 37481.62 Credit: 0.0 \u001b[91m Diff: 37481.62\u001b[0m\n",
      "Account: 4540 Debit: 4745.87 Credit: 0.0 \u001b[91m Diff: 4745.87\u001b[0m\n",
      "Account: 4541 Debit: 3887.56 Credit: 0.0 \u001b[91m Diff: 3887.56\u001b[0m\n",
      "Account: 4542 Debit: 8126.17 Credit: 0.0 \u001b[91m Diff: 8126.17\u001b[0m\n",
      "Account: 4543 Debit: 17812.65 Credit: 0.0 \u001b[91m Diff: 17812.65\u001b[0m\n",
      "Account: 4550 Debit: 1158.96 Credit: 0.0 \u001b[91m Diff: 1158.96\u001b[0m\n",
      "Account: 4552 Debit: 8811.85 Credit: 0.0 \u001b[91m Diff: 8811.85\u001b[0m\n",
      "Account: 4560 Debit: 10990.62 Credit: 0.0 \u001b[91m Diff: 10990.62\u001b[0m\n",
      "Account: 4561 Debit: 611.8 Credit: 0.0 \u001b[91m Diff: 611.8\u001b[0m\n",
      "Account: 4563 Debit: 4072.83 Credit: 0.0 \u001b[91m Diff: 4072.83\u001b[0m\n",
      "Account: 4574 Debit: 100.34 Credit: 0.0 \u001b[91m Diff: 100.34\u001b[0m\n",
      "Account: 4580 Debit: 563.63 Credit: 0.0 \u001b[91m Diff: 563.63\u001b[0m\n",
      "Account: 4583 Debit: 7.5 Credit: 0.0 \u001b[91m Diff: 7.5\u001b[0m\n",
      "Account: 4584 Debit: 201.5 Credit: 0.0 \u001b[91m Diff: 201.5\u001b[0m\n",
      "Account: 4612 Debit: 1755.38 Credit: 0.0 \u001b[91m Diff: 1755.38\u001b[0m\n",
      "Account: 4613 Debit: 10873.3 Credit: 0.0 \u001b[91m Diff: 10873.3\u001b[0m\n",
      "Account: 4614 Debit: 48985.5 Credit: 0.0 \u001b[91m Diff: 48985.5\u001b[0m\n",
      "Account: 4631 Debit: 7250.0 Credit: 0.0 \u001b[91m Diff: 7250.0\u001b[0m\n",
      "Account: 4640 Debit: 1848.65 Credit: 0.0 \u001b[91m Diff: 1848.65\u001b[0m\n",
      "Account: 4642 Debit: 31596.37 Credit: 0.0 \u001b[91m Diff: 31596.37\u001b[0m\n",
      "Account: 4643 Debit: 27089.95 Credit: 0.0 \u001b[91m Diff: 27089.95\u001b[0m\n",
      "Account: 4644 Debit: 13273.62 Credit: 0.0 \u001b[91m Diff: 13273.62\u001b[0m\n",
      "Account: 4645 Debit: 302.91 Credit: 0.0 \u001b[91m Diff: 302.91\u001b[0m\n",
      "Account: 4650 Debit: 4312.49 Credit: 0.0 \u001b[91m Diff: 4312.49\u001b[0m\n",
      "Account: 4651 Debit: 35.52 Credit: 0.0 \u001b[91m Diff: 35.52\u001b[0m\n",
      "Account: 4652 Debit: 42.69 Credit: 0.0 \u001b[91m Diff: 42.69\u001b[0m\n",
      "Account: 4653 Debit: 6.53 Credit: 0.0 \u001b[91m Diff: 6.53\u001b[0m\n",
      "Account: 4654 Debit: 3310.68 Credit: 27.5 \u001b[91m Diff: 3283.18\u001b[0m\n",
      "Account: 4660 Debit: 512.45 Credit: 0.0 \u001b[91m Diff: 512.45\u001b[0m\n",
      "Account: 4664 Debit: 504.0 Credit: 0.0 \u001b[91m Diff: 504.0\u001b[0m\n",
      "Account: 4671 Debit: 2774.61 Credit: 0.0 \u001b[91m Diff: 2774.61\u001b[0m\n",
      "Account: 4673 Debit: 400978.55 Credit: 33524.14 \u001b[91m Diff: 367454.41\u001b[0m\n",
      "Account: 4674 Debit: 1287.28 Credit: 0.0 \u001b[91m Diff: 1287.28\u001b[0m\n",
      "Account: 4675 Debit: 13204.16 Credit: 0.0 \u001b[91m Diff: 13204.16\u001b[0m\n",
      "Account: 4710 Debit: 5040.0 Credit: 0.0 \u001b[91m Diff: 5040.0\u001b[0m\n",
      "Account: 4713 Debit: 1899779.85 Credit: 0.0 \u001b[91m Diff: 1899779.85\u001b[0m\n",
      "Account: 4714 Debit: 13525.2 Credit: 0.0 \u001b[91m Diff: 13525.2\u001b[0m\n",
      "Account: 4717 Debit: 7885.28 Credit: 0.0 \u001b[91m Diff: 7885.28\u001b[0m\n",
      "Account: 4718 Debit: 265219.14 Credit: 0.0 \u001b[91m Diff: 265219.14\u001b[0m\n",
      "Account: 4730 Debit: 1026955.21 Credit: 0.0 \u001b[91m Diff: 1026955.21\u001b[0m\n",
      "Account: 4732 Debit: 1361750.13 Credit: 0.0 \u001b[91m Diff: 1361750.13\u001b[0m\n",
      "Account: 4733 Debit: 914591.26 Credit: 21391.48 \u001b[91m Diff: 893199.78\u001b[0m\n",
      "Account: 4763 Debit: 9034.51 Credit: 0.0 \u001b[91m Diff: 9034.51\u001b[0m\n",
      "Account: 4764 Debit: 1480.54 Credit: 0.0 \u001b[91m Diff: 1480.54\u001b[0m\n",
      "Account: 4781 Debit: 15541.79 Credit: 0.0 \u001b[91m Diff: 15541.79\u001b[0m\n",
      "Account: 4782 Debit: 576036.12 Credit: 0.0 \u001b[91m Diff: 576036.12\u001b[0m\n",
      "Account: 4784 Debit: 4500.0 Credit: 0.0 \u001b[91m Diff: 4500.0\u001b[0m\n",
      "Account: 4790 Debit: 37451.64 Credit: 2789.26 \u001b[91m Diff: 34662.38\u001b[0m\n",
      "Account: 4799 Debit: 4929.79 Credit: 0.0 \u001b[91m Diff: 4929.79\u001b[0m\n",
      "Account: 4800 Debit: 252107.63 Credit: 0.0 \u001b[91m Diff: 252107.63\u001b[0m\n",
      "Account: 4802 Debit: 221.2 Credit: 0.0 \u001b[91m Diff: 221.2\u001b[0m\n",
      "Account: 4803 Debit: 189096.96 Credit: 0.0 \u001b[91m Diff: 189096.96\u001b[0m\n",
      "Account: 4804 Debit: 109371.57 Credit: 0.0 \u001b[91m Diff: 109371.57\u001b[0m\n",
      "Account: 4805 Debit: 1792.74 Credit: 0.0 \u001b[91m Diff: 1792.74\u001b[0m\n",
      "Account: 4807 Debit: 364692.39 Credit: 0.0 \u001b[91m Diff: 364692.39\u001b[0m\n",
      "Account: 4808 Debit: 282584.34 Credit: 26064.15 \u001b[91m Diff: 256520.19000000003\u001b[0m\n",
      "Account: 4809 Debit: 34741.63 Credit: 42059.48 \u001b[91m Diff: -7317.850000000006\u001b[0m\n",
      "Account: 4816 Debit: 34716.81 Credit: 0.0 \u001b[91m Diff: 34716.81\u001b[0m\n",
      "Account: 4817 Debit: 153062.43 Credit: 0.0 \u001b[91m Diff: 153062.43\u001b[0m\n",
      "Account: 4822 Debit: 102521.0 Credit: 0.0 \u001b[91m Diff: 102521.0\u001b[0m\n",
      "Account: 4830 Debit: 1422962.88 Credit: 0.0 \u001b[91m Diff: 1422962.88\u001b[0m\n",
      "Account: 4900 Debit: 10199.65 Credit: 0.0 \u001b[91m Diff: 10199.65\u001b[0m\n",
      "Account: 4901 Debit: 16714.98 Credit: 0.0 \u001b[91m Diff: 16714.98\u001b[0m\n",
      "Account: 4910 Debit: 6002.22 Credit: 0.0 \u001b[91m Diff: 6002.22\u001b[0m\n",
      "Account: 4911 Debit: 1183.53 Credit: 0.0 \u001b[91m Diff: 1183.53\u001b[0m\n",
      "Account: 4920 Debit: 24426.23 Credit: 0.0 \u001b[91m Diff: 24426.23\u001b[0m\n",
      "Account: 4922 Debit: 7252.47 Credit: 0.0 \u001b[91m Diff: 7252.47\u001b[0m\n",
      "Account: 4923 Debit: 13355.6 Credit: 0.0 \u001b[91m Diff: 13355.6\u001b[0m\n",
      "Account: 4930 Debit: 128.21 Credit: 0.0 \u001b[91m Diff: 128.21\u001b[0m\n",
      "Account: 4932 Debit: 273.33 Credit: 0.0 \u001b[91m Diff: 273.33\u001b[0m\n",
      "Account: 4933 Debit: 80786.52 Credit: 3402.0 \u001b[91m Diff: 77384.52\u001b[0m\n",
      "Account: 4934 Debit: 407.65 Credit: 0.0 \u001b[91m Diff: 407.65\u001b[0m\n",
      "Account: 4942 Debit: 490.98 Credit: 0.0 \u001b[91m Diff: 490.98\u001b[0m\n",
      "Account: 4943 Debit: 209.09 Credit: 0.0 \u001b[91m Diff: 209.09\u001b[0m\n",
      "Account: 4944 Debit: 33.5 Credit: 0.0 \u001b[91m Diff: 33.5\u001b[0m\n",
      "Account: 4951 Debit: 30383.93 Credit: 0.0 \u001b[91m Diff: 30383.93\u001b[0m\n",
      "Account: 4952 Debit: 34959.2 Credit: 0.0 \u001b[91m Diff: 34959.2\u001b[0m\n",
      "Account: 4953 Debit: 35110.15 Credit: 0.0 \u001b[91m Diff: 35110.15\u001b[0m\n",
      "Account: 4954 Debit: 604.54 Credit: 0.0 \u001b[91m Diff: 604.54\u001b[0m\n",
      "Account: 4957 Debit: 102922.65 Credit: 0.0 \u001b[91m Diff: 102922.65\u001b[0m\n",
      "Account: 4960 Debit: 14178.0 Credit: 0.0 \u001b[91m Diff: 14178.0\u001b[0m\n",
      "Account: 4962 Debit: 1855.2 Credit: 0.0 \u001b[91m Diff: 1855.2\u001b[0m\n",
      "Account: 4965 Debit: 99082.16 Credit: 0.0 \u001b[91m Diff: 99082.16\u001b[0m\n",
      "Account: 4967 Debit: 4560.0 Credit: 0.0 \u001b[91m Diff: 4560.0\u001b[0m\n",
      "Account: 4968 Debit: 2880.02 Credit: 0.0 \u001b[91m Diff: 2880.02\u001b[0m\n",
      "Account: 4969 Debit: 74755.75 Credit: 0.0 \u001b[91m Diff: 74755.75\u001b[0m\n",
      "Account: 4970 Debit: 36940.54 Credit: 98.91 \u001b[91m Diff: 36841.63\u001b[0m\n",
      "Account: 4971 Debit: 840.0 Credit: 0.0 \u001b[91m Diff: 840.0\u001b[0m\n",
      "Account: 4979 Debit: 16504.92 Credit: 29.4 \u001b[91m Diff: 16475.519999999997\u001b[0m\n",
      "Account: 4980 Debit: 86277.53 Credit: 0.0 \u001b[91m Diff: 86277.53\u001b[0m\n",
      "Account: 4981 Debit: 3610.97 Credit: 0.0 \u001b[91m Diff: 3610.97\u001b[0m\n",
      "Account: 4982 Debit: 53404.37 Credit: 0.0 \u001b[91m Diff: 53404.37\u001b[0m\n",
      "Account: 4983 Debit: 1073087.88 Credit: 76358.2 \u001b[91m Diff: 996729.6799999999\u001b[0m\n",
      "Account: 4984 Debit: 14745.61 Credit: 82.34 \u001b[91m Diff: 14663.27\u001b[0m\n",
      "Account: 4985 Debit: 819.56 Credit: 0.0 \u001b[91m Diff: 819.56\u001b[0m\n",
      "Account: 4986 Debit: 148231.43 Credit: 1030.0 \u001b[91m Diff: 147201.43\u001b[0m\n",
      "Account: 4987 Debit: 8741.19 Credit: 0.0 \u001b[91m Diff: 8741.19\u001b[0m\n",
      "Account: 4988 Debit: 90147.48 Credit: 0.0 \u001b[91m Diff: 90147.48\u001b[0m\n",
      "Account: 4989 Debit: 13066.67 Credit: 0.0 \u001b[91m Diff: 13066.67\u001b[0m\n",
      "Account: 4991 Debit: 34074.81 Credit: 2548.83 \u001b[91m Diff: 31525.979999999996\u001b[0m\n",
      "Account: 4992 Debit: 375.31 Credit: 0.0 \u001b[91m Diff: 375.31\u001b[0m\n",
      "Account: 4993 Debit: 2190.65 Credit: 0.0 \u001b[91m Diff: 2190.65\u001b[0m\n",
      "Account: 8120 Debit: 93167.69 Credit: 12102827.76 \u001b[91m Diff: -12009660.07\u001b[0m\n",
      "Account: 8125 Debit: 412582.09 Credit: 58137504.66 \u001b[91m Diff: -57724922.56999999\u001b[0m\n",
      "Account: 8300 Debit: 1861.79 Credit: 22092.72 \u001b[91m Diff: -20230.93\u001b[0m\n",
      "Account: 8400 Debit: 50555.03 Credit: 577847.04 \u001b[91m Diff: -527292.01\u001b[0m\n",
      "Account: 8700 Debit: 145982.18 Credit: 234408.78 \u001b[91m Diff: -88426.6\u001b[0m\n",
      "Account: 8705 Debit: 13806.61 Credit: 0.0 \u001b[91m Diff: 13806.61\u001b[0m\n",
      "Account: 8726 Debit: 962117.48 Credit: 64.47 \u001b[91m Diff: 962053.01\u001b[0m\n",
      "Account: 8737 Debit: 12918.58 Credit: 0.0 \u001b[91m Diff: 12918.58\u001b[0m\n",
      "Account: 8738 Debit: 239700.21 Credit: 523758.67 \u001b[91m Diff: -284058.45999999996\u001b[0m\n",
      "Account: 8739 Debit: 87437.16 Credit: 0.0 \u001b[91m Diff: 87437.16\u001b[0m\n",
      "Account: 8740 Debit: 1283850.17 Credit: 0.0 \u001b[91m Diff: 1283850.17\u001b[0m\n",
      "Account: 8741 Debit: 15378.96 Credit: 0.0 \u001b[91m Diff: 15378.96\u001b[0m\n",
      "Account: 8970 Debit: 203833.72 Credit: 126941.03 \u001b[91m Diff: 76892.69\u001b[0m\n",
      "Account: 10105 Debit: 19879.57 Credit: 20203.45 \u001b[91m Diff: -323.880000000001\u001b[0m\n",
      "Account: 10109 Debit: 60703.76 Credit: 61977.22 \u001b[91m Diff: -1273.4599999999991\u001b[0m\n",
      "Account: 10112 Debit: 27548.45 Credit: 14309.05 \u001b[91m Diff: 13239.400000000001\u001b[0m\n",
      "Account: 10119 Debit: 44620.59 Credit: 41328.61 \u001b[91m Diff: 3291.979999999996\u001b[0m\n",
      "Account: 10122 Debit: 474167.07 Credit: 480902.6 \u001b[91m Diff: -6735.52999999997\u001b[0m\n",
      "Account: 10125 Debit: 514591.3 Credit: 498922.56 \u001b[91m Diff: 15668.73999999999\u001b[0m\n",
      "Account: 10205 Debit: 224773.99 Credit: 217540.48 \u001b[91m Diff: 7233.50999999998\u001b[0m\n",
      "Account: 10206 Debit: 9026.06 Credit: 5914.06 \u001b[91m Diff: 3111.999999999999\u001b[0m\n",
      "Account: 10211 Debit: 96254.6 Credit: 101374.26 \u001b[91m Diff: -5119.659999999989\u001b[0m\n",
      "Account: 10306 Debit: 243213.81 Credit: 245421.39 \u001b[91m Diff: -2207.5800000000163\u001b[0m\n",
      "Account: 10307 Debit: 5559.11 Credit: 5918.31 \u001b[91m Diff: -359.2000000000007\u001b[0m\n",
      "Account: 10315 Debit: 107691.2 Credit: 98996.44 \u001b[91m Diff: 8694.759999999995\u001b[0m\n",
      "Account: 10316 Debit: 484543.76 Credit: 403289.96 \u001b[91m Diff: 81253.79999999999\u001b[0m\n",
      "Account: 10318 Debit: 2938.48 Credit: 3107.99 \u001b[91m Diff: -169.50999999999976\u001b[0m\n",
      "Account: 10327 Debit: 700.0 Credit: 0.0 \u001b[91m Diff: 700.0\u001b[0m\n",
      "Account: 10328 Debit: 3864.32 Credit: 4460.72 \u001b[91m Diff: -596.4000000000001\u001b[0m\n",
      "Account: 10506 Debit: 144251.41 Credit: 143043.94 \u001b[91m Diff: 1207.4700000000012\u001b[0m\n",
      "Account: 10515 Debit: 414195.97 Credit: 397530.11 \u001b[91m Diff: 16665.859999999986\u001b[0m\n",
      "Account: 10518 Debit: 225361.99 Credit: 249773.92 \u001b[91m Diff: -24411.930000000022\u001b[0m\n",
      "Account: 10519 Debit: 301988.08 Credit: 292838.99 \u001b[91m Diff: 9149.090000000026\u001b[0m\n",
      "Account: 10523 Debit: 8119.65 Credit: 9721.65 \u001b[91m Diff: -1602.0\u001b[0m\n",
      "Account: 10527 Debit: 77318.25 Credit: 77828.25 \u001b[91m Diff: -510.0\u001b[0m\n",
      "Account: 10602 Debit: 65349.87 Credit: 63538.64 \u001b[91m Diff: 1811.2300000000032\u001b[0m\n",
      "Account: 10604 Debit: 170404.35 Credit: 172920.34 \u001b[91m Diff: -2515.9899999999907\u001b[0m\n",
      "Account: 10612 Debit: 238999.5 Credit: 239170.41 \u001b[91m Diff: -170.9100000000035\u001b[0m\n",
      "Account: 10613 Debit: 2737.02 Credit: 3523.26 \u001b[91m Diff: -786.2400000000002\u001b[0m\n",
      "Account: 10702 Debit: 61605.06 Credit: 64864.64 \u001b[91m Diff: -3259.5800000000017\u001b[0m\n",
      "Account: 10719 Debit: 16945.91 Credit: 17502.39 \u001b[91m Diff: -556.4799999999996\u001b[0m\n",
      "Account: 10722 Debit: 345740.96 Credit: 350190.74 \u001b[91m Diff: -4449.77999999997\u001b[0m\n",
      "Account: 10728 Debit: 132468.85 Credit: 124203.25 \u001b[91m Diff: 8265.600000000006\u001b[0m\n",
      "Account: 10729 Debit: 5962.79 Credit: 5378.44 \u001b[91m Diff: 584.3500000000004\u001b[0m\n",
      "Account: 10804 Debit: 12081.37 Credit: 12827.89 \u001b[91m Diff: -746.5199999999986\u001b[0m\n",
      "Account: 10805 Debit: 25889.23 Credit: 22810.53 \u001b[91m Diff: 3078.7000000000007\u001b[0m\n",
      "Account: 10905 Debit: 2120.19 Credit: 2335.59 \u001b[91m Diff: -215.4000000000001\u001b[0m\n",
      "Account: 10906 Debit: 92684.28 Credit: 91109.58 \u001b[91m Diff: 1574.699999999997\u001b[0m\n",
      "Account: 11006 Debit: 223417.5 Credit: 235727.92 \u001b[91m Diff: -12310.420000000013\u001b[0m\n",
      "Account: 11012 Debit: 62088.8 Credit: 65934.8 \u001b[91m Diff: -3846.0\u001b[0m\n",
      "Account: 11018 Debit: 97912.09 Credit: 105144.39 \u001b[91m Diff: -7232.300000000003\u001b[0m\n",
      "Account: 11023 Debit: 837.0 Credit: 1868.65 \u001b[91m Diff: -1031.65\u001b[0m\n",
      "Account: 11109 Debit: 55790.79 Credit: 54617.67 \u001b[91m Diff: 1173.1200000000026\u001b[0m\n",
      "Account: 11110 Debit: 62991.38 Credit: 70873.6 \u001b[91m Diff: -7882.220000000008\u001b[0m\n",
      "Account: 11111 Debit: 188761.79 Credit: 178438.36 \u001b[91m Diff: 10323.430000000022\u001b[0m\n",
      "Account: 11112 Debit: 64002.92 Credit: 61035.38 \u001b[91m Diff: 2967.540000000001\u001b[0m\n",
      "Account: 11115 Debit: 36308.17 Credit: 33747.17 \u001b[91m Diff: 2561.0\u001b[0m\n",
      "Account: 11116 Debit: 16610.99 Credit: 17545.99 \u001b[91m Diff: -935.0\u001b[0m\n",
      "Account: 11203 Debit: 1421909.58 Credit: 1478882.29 \u001b[91m Diff: -56972.70999999996\u001b[0m\n",
      "Account: 11204 Debit: 80699.12 Credit: 79238.01 \u001b[91m Diff: 1461.1100000000006\u001b[0m\n",
      "Account: 11205 Debit: 134753.94 Credit: 138228.43 \u001b[91m Diff: -3474.4899999999907\u001b[0m\n",
      "Account: 11207 Debit: 1657.2 Credit: 1713.32 \u001b[91m Diff: -56.11999999999989\u001b[0m\n",
      "Account: 11211 Debit: 2176.8 Credit: 2625.0 \u001b[91m Diff: -448.1999999999998\u001b[0m\n",
      "Account: 11212 Debit: 942413.04 Credit: 947296.46 \u001b[91m Diff: -4883.4199999999255\u001b[0m\n",
      "Account: 11213 Debit: 64879.73 Credit: 67310.53 \u001b[91m Diff: -2430.7999999999956\u001b[0m\n",
      "Account: 11215 Debit: 9627.81 Credit: 7514.24 \u001b[91m Diff: 2113.5699999999997\u001b[0m\n",
      "Account: 11218 Debit: 252398.45 Credit: 239930.51 \u001b[91m Diff: 12467.940000000002\u001b[0m\n",
      "Account: 11219 Debit: 151908.27 Credit: 167072.43 \u001b[91m Diff: -15164.160000000003\u001b[0m\n",
      "Account: 11221 Debit: 756248.17 Credit: 772034.91 \u001b[91m Diff: -15786.73999999999\u001b[0m\n",
      "Account: 11223 Debit: 56038.68 Credit: 56306.28 \u001b[91m Diff: -267.59999999999854\u001b[0m\n",
      "Account: 11225 Debit: 42345.29 Credit: 40971.47 \u001b[91m Diff: 1373.8199999999997\u001b[0m\n",
      "Account: 11226 Debit: 75744.47 Credit: 78468.86 \u001b[91m Diff: -2724.3899999999994\u001b[0m\n",
      "Account: 11227 Debit: 139182.58 Credit: 136749.56 \u001b[91m Diff: 2433.0199999999895\u001b[0m\n",
      "Account: 11228 Debit: 425381.37 Credit: 442266.18 \u001b[91m Diff: -16884.809999999998\u001b[0m\n",
      "Account: 11231 Debit: 61979.04 Credit: 3888.0 \u001b[91m Diff: 58091.04\u001b[0m\n",
      "Account: 11301 Debit: 987552.95 Credit: 967527.83 \u001b[91m Diff: 20025.119999999995\u001b[0m\n",
      "Account: 11304 Debit: 204847.47 Credit: 193824.02 \u001b[91m Diff: 11023.450000000012\u001b[0m\n",
      "Account: 11307 Debit: 5252.23 Credit: 9144.23 \u001b[91m Diff: -3892.0\u001b[0m\n",
      "Account: 11402 Debit: 123728.49 Credit: 127959.97 \u001b[91m Diff: -4231.479999999996\u001b[0m\n",
      "Account: 11403 Debit: 314735.63 Credit: 337359.86 \u001b[91m Diff: -22624.22999999998\u001b[0m\n",
      "Account: 11405 Debit: 83766.8 Credit: 84366.07 \u001b[91m Diff: -599.2700000000041\u001b[0m\n",
      "Account: 11504 Debit: 143156.06 Credit: 139578.0 \u001b[91m Diff: 3578.0599999999977\u001b[0m\n",
      "Account: 11512 Debit: 191249.79 Credit: 192726.07 \u001b[91m Diff: -1476.2799999999988\u001b[0m\n",
      "Account: 11515 Debit: 129821.54 Credit: 130780.15 \u001b[91m Diff: -958.6100000000006\u001b[0m\n",
      "Account: 11517 Debit: 79046.6 Credit: 85262.86 \u001b[91m Diff: -6216.259999999995\u001b[0m\n",
      "Account: 11518 Debit: 20590.3 Credit: 19041.29 \u001b[91m Diff: 1549.0099999999984\u001b[0m\n",
      "Account: 11519 Debit: 136008.11 Credit: 135437.18 \u001b[91m Diff: 570.929999999993\u001b[0m\n",
      "Account: 11520 Debit: 909210.75 Credit: 875996.73 \u001b[91m Diff: 33214.02000000002\u001b[0m\n",
      "Account: 11521 Debit: 344601.3 Credit: 312618.35 \u001b[91m Diff: 31982.95000000001\u001b[0m\n",
      "Account: 11524 Debit: 1722.7 Credit: 1409.5 \u001b[91m Diff: 313.20000000000005\u001b[0m\n",
      "Account: 11525 Debit: 51817.54 Credit: 64329.54 \u001b[91m Diff: -12512.0\u001b[0m\n",
      "Account: 11526 Debit: 32272.48 Credit: 30210.47 \u001b[91m Diff: 2062.0099999999984\u001b[0m\n",
      "Account: 11528 Debit: 44314.44 Credit: 44258.55 \u001b[91m Diff: 55.88999999999942\u001b[0m\n",
      "Account: 11532 Debit: 44389.27 Credit: 43461.14 \u001b[91m Diff: 928.1299999999974\u001b[0m\n",
      "Account: 11710 Debit: 57098.94 Credit: 57600.54 \u001b[91m Diff: -501.59999999999854\u001b[0m\n",
      "Account: 11711 Debit: 179777.1 Credit: 155786.5 \u001b[91m Diff: 23990.600000000006\u001b[0m\n",
      "Account: 11715 Debit: 202262.2 Credit: 207090.03 \u001b[91m Diff: -4827.829999999987\u001b[0m\n",
      "Account: 11716 Debit: 1020051.92 Credit: 1025208.11 \u001b[91m Diff: -5156.189999999944\u001b[0m\n",
      "Account: 11810 Debit: 331643.03 Credit: 319066.05 \u001b[91m Diff: 12576.98000000004\u001b[0m\n",
      "Account: 11814 Debit: 4860.0 Credit: 4938.15 \u001b[91m Diff: -78.14999999999964\u001b[0m\n",
      "Account: 11825 Debit: 8210.84 Credit: 9644.41 \u001b[91m Diff: -1433.5699999999997\u001b[0m\n",
      "Account: 11827 Debit: 688896.31 Credit: 677706.56 \u001b[91m Diff: 11189.75\u001b[0m\n",
      "Account: 11831 Debit: 73241.18 Credit: 76926.48 \u001b[91m Diff: -3685.300000000003\u001b[0m\n",
      "Account: 11832 Debit: 514852.59 Credit: 511889.0 \u001b[91m Diff: 2963.5900000000256\u001b[0m\n",
      "Account: 11834 Debit: 618051.14 Credit: 618043.67 \u001b[91m Diff: 7.46999999997206\u001b[0m\n",
      "Account: 11835 Debit: 840522.54 Credit: 835436.21 \u001b[91m Diff: 5086.3300000000745\u001b[0m\n",
      "Account: 11836 Debit: 80976.28 Credit: 65317.8 \u001b[91m Diff: 15658.479999999996\u001b[0m\n",
      "Account: 11837 Debit: 711344.64 Credit: 703783.96 \u001b[91m Diff: 7560.680000000051\u001b[0m\n",
      "Account: 11839 Debit: 74594.67 Credit: 68303.95 \u001b[91m Diff: 6290.720000000001\u001b[0m\n",
      "Account: 11840 Debit: 567339.54 Credit: 561152.46 \u001b[91m Diff: 6187.0800000000745\u001b[0m\n",
      "Account: 11842 Debit: 354058.7 Credit: 342653.24 \u001b[91m Diff: 11405.460000000021\u001b[0m\n",
      "Account: 11845 Debit: 22767.83 Credit: 23056.15 \u001b[91m Diff: -288.3199999999997\u001b[0m\n",
      "Account: 11846 Debit: 162858.18 Credit: 160162.37 \u001b[91m Diff: 2695.8099999999977\u001b[0m\n",
      "Account: 11853 Debit: 45589.41 Credit: 50582.92 \u001b[91m Diff: -4993.509999999995\u001b[0m\n",
      "Account: 11859 Debit: 52119.61 Credit: 52425.46 \u001b[91m Diff: -305.84999999999854\u001b[0m\n",
      "Account: 11860 Debit: 18751.29 Credit: 16582.42 \u001b[91m Diff: 2168.8700000000026\u001b[0m\n",
      "Account: 11901 Debit: 115192.08 Credit: 107142.54 \u001b[91m Diff: 8049.540000000008\u001b[0m\n",
      "Account: 11902 Debit: 55298.7 Credit: 54504.94 \u001b[91m Diff: 793.7599999999948\u001b[0m\n",
      "Account: 11908 Debit: 1049717.56 Credit: 1049610.46 \u001b[91m Diff: 107.10000000009313\u001b[0m\n",
      "Account: 11915 Debit: 915961.02 Credit: 856130.02 \u001b[91m Diff: 59831.0\u001b[0m\n",
      "Account: 11918 Debit: 317044.99 Credit: 308601.36 \u001b[91m Diff: 8443.630000000005\u001b[0m\n",
      "Account: 12104 Debit: 802156.39 Credit: 885468.9 \u001b[91m Diff: -83312.51000000001\u001b[0m\n",
      "Account: 12201 Debit: 23695.93 Credit: 24377.65 \u001b[91m Diff: -681.7200000000012\u001b[0m\n",
      "Account: 12219 Debit: 904.85 Credit: 711.05 \u001b[91m Diff: 193.80000000000007\u001b[0m\n",
      "Account: 12500 Debit: 10568.92 Credit: 12312.92 \u001b[91m Diff: -1744.0\u001b[0m\n",
      "Account: 12501 Debit: 27981.07 Credit: 25739.6 \u001b[91m Diff: 2241.470000000001\u001b[0m\n",
      "Account: 12503 Debit: 495457.94 Credit: 468043.33 \u001b[91m Diff: 27414.609999999986\u001b[0m\n",
      "Account: 12505 Debit: 18699.85 Credit: 17616.04 \u001b[91m Diff: 1083.8099999999977\u001b[0m\n",
      "Account: 20011 Debit: 5916.4 Credit: 7855.79 \u001b[91m Diff: -1939.3900000000003\u001b[0m\n",
      "Account: 20018 Debit: 45578.81 Credit: 42206.64 \u001b[91m Diff: 3372.1699999999983\u001b[0m\n",
      "Account: 20047 Debit: 245309.32 Credit: 269208.68 \u001b[91m Diff: -23899.359999999986\u001b[0m\n",
      "Account: 20051 Debit: 6538.55 Credit: 5554.73 \u001b[91m Diff: 983.8200000000006\u001b[0m\n",
      "Account: 20061 Debit: 8891.54 Credit: 8685.07 \u001b[91m Diff: 206.47000000000116\u001b[0m\n",
      "Account: 20062 Debit: 28774.99 Credit: 14099.25 \u001b[91m Diff: 14675.740000000002\u001b[0m\n",
      "Account: 20136 Debit: 64304.92 Credit: 70286.82 \u001b[91m Diff: -5981.900000000009\u001b[0m\n",
      "Account: 20141 Debit: 186484.0 Credit: 183997.44 \u001b[91m Diff: 2486.5599999999977\u001b[0m\n",
      "Account: 20146 Debit: 27323.1 Credit: 37473.05 \u001b[91m Diff: -10149.950000000004\u001b[0m\n",
      "Account: 20162 Debit: 22533.5 Credit: 31636.19 \u001b[91m Diff: -9102.689999999999\u001b[0m\n",
      "Account: 20202 Debit: 106950.2 Credit: 104605.74 \u001b[91m Diff: 2344.459999999992\u001b[0m\n",
      "Account: 20207 Debit: 14687.04 Credit: 16767.91 \u001b[91m Diff: -2080.869999999999\u001b[0m\n",
      "Account: 20216 Debit: 32621.97 Credit: 29592.37 \u001b[91m Diff: 3029.600000000002\u001b[0m\n",
      "Account: 20217 Debit: 148511.17 Credit: 161793.6 \u001b[91m Diff: -13282.429999999993\u001b[0m\n",
      "Account: 20222 Debit: 12291.66 Credit: 17712.33 \u001b[91m Diff: -5420.670000000002\u001b[0m\n",
      "Account: 20243 Debit: 435491.85 Credit: 443884.71 \u001b[91m Diff: -8392.860000000044\u001b[0m\n",
      "Account: 20249 Debit: 108888.78 Credit: 99994.01 \u001b[91m Diff: 8894.770000000004\u001b[0m\n",
      "Account: 20250 Debit: 6719.07 Credit: 5867.77 \u001b[91m Diff: 851.2999999999993\u001b[0m\n",
      "Account: 20256 Debit: 178133.69 Credit: 168173.37 \u001b[91m Diff: 9960.320000000007\u001b[0m\n",
      "Account: 20260 Debit: 38038.98 Credit: 39279.76 \u001b[91m Diff: -1240.7799999999988\u001b[0m\n",
      "Account: 20263 Debit: 40351.65 Credit: 33771.65 \u001b[91m Diff: 6580.0\u001b[0m\n",
      "Account: 20267 Debit: 1194515.58 Credit: 1185002.4 \u001b[91m Diff: 9513.180000000168\u001b[0m\n",
      "Account: 20268 Debit: 78997.92 Credit: 78516.22 \u001b[91m Diff: 481.6999999999971\u001b[0m\n",
      "Account: 20304 Debit: 14392.82 Credit: 18448.47 \u001b[91m Diff: -4055.6500000000015\u001b[0m\n",
      "Account: 20320 Debit: 7271936.38 Credit: 7240096.74 \u001b[91m Diff: 31839.639999999665\u001b[0m\n",
      "Account: 20335 Debit: 965561.17 Credit: 968392.38 \u001b[91m Diff: -2831.2099999999627\u001b[0m\n",
      "Account: 20339 Debit: 2422485.25 Credit: 2489521.25 \u001b[91m Diff: -67036.0\u001b[0m\n",
      "Account: 20342 Debit: 3364655.13 Credit: 3605298.86 \u001b[91m Diff: -240643.72999999998\u001b[0m\n",
      "Account: 20346 Debit: 6239934.4 Credit: 5893572.94 \u001b[91m Diff: 346361.45999999996\u001b[0m\n",
      "Account: 20349 Debit: 28651.64 Credit: 28352.31 \u001b[91m Diff: 299.3299999999981\u001b[0m\n",
      "Account: 20350 Debit: 555739.36 Credit: 453157.06 \u001b[91m Diff: 102582.29999999999\u001b[0m\n",
      "Account: 20359 Debit: 74728.18 Credit: 78815.45 \u001b[91m Diff: -4087.270000000004\u001b[0m\n",
      "Account: 20402 Debit: 101040.22 Credit: 104331.79 \u001b[91m Diff: -3291.5699999999924\u001b[0m\n",
      "Account: 20403 Debit: 300.0 Credit: 538.73 \u001b[91m Diff: -238.73000000000002\u001b[0m\n",
      "Account: 20407 Debit: 55217.63 Credit: 52442.9 \u001b[91m Diff: 2774.729999999996\u001b[0m\n",
      "Account: 20421 Debit: 398457.37 Credit: 403036.82 \u001b[91m Diff: -4579.450000000012\u001b[0m\n",
      "Account: 20426 Debit: 180980.24 Credit: 179720.47 \u001b[91m Diff: 1259.7699999999895\u001b[0m\n",
      "Account: 20447 Debit: 1569.77 Credit: 2511.44 \u001b[91m Diff: -941.6700000000001\u001b[0m\n",
      "Account: 20451 Debit: 10377.64 Credit: 9920.29 \u001b[91m Diff: 457.34999999999854\u001b[0m\n",
      "Account: 20524 Debit: 101988.1 Credit: 104136.64 \u001b[91m Diff: -2148.5399999999936\u001b[0m\n",
      "Account: 20604 Debit: 28378.29 Credit: 32363.85 \u001b[91m Diff: -3985.5599999999977\u001b[0m\n",
      "Account: 20609 Debit: 34158.67 Credit: 32172.28 \u001b[91m Diff: 1986.3899999999994\u001b[0m\n",
      "Account: 20705 Debit: 1700023.41 Credit: 1675657.34 \u001b[91m Diff: 24366.069999999832\u001b[0m\n",
      "Account: 20723 Debit: 188214.12 Credit: 188179.68 \u001b[91m Diff: 34.44000000000233\u001b[0m\n",
      "Account: 20817 Debit: 30504.6 Credit: 28900.3 \u001b[91m Diff: 1604.2999999999993\u001b[0m\n",
      "Account: 20821 Debit: 14689.96 Credit: 15033.76 \u001b[91m Diff: -343.8000000000011\u001b[0m\n",
      "Account: 21006 Debit: 944736.14 Credit: 929997.92 \u001b[91m Diff: 14738.219999999972\u001b[0m\n",
      "Account: 21102 Debit: 163385.89 Credit: 179720.06 \u001b[91m Diff: -16334.169999999984\u001b[0m\n",
      "Account: 21103 Debit: 9653.01 Credit: 8646.91 \u001b[91m Diff: 1006.1000000000004\u001b[0m\n",
      "Account: 21115 Debit: 46787.12 Credit: 50406.55 \u001b[91m Diff: -3619.4300000000003\u001b[0m\n",
      "Account: 21207 Debit: 87784.84 Credit: 96236.82 \u001b[91m Diff: -8451.98000000001\u001b[0m\n",
      "Account: 21232 Debit: 311087.06 Credit: 306078.61 \u001b[91m Diff: 5008.450000000012\u001b[0m\n",
      "Account: 21238 Debit: 121570.36 Credit: 144630.1 \u001b[91m Diff: -23059.740000000005\u001b[0m\n",
      "Account: 21244 Debit: 400211.19 Credit: 403295.7 \u001b[91m Diff: -3084.5100000000093\u001b[0m\n",
      "Account: 21249 Debit: 601715.43 Credit: 641702.8 \u001b[91m Diff: -39987.369999999995\u001b[0m\n",
      "Account: 21259 Debit: 131264.26 Credit: 128578.15 \u001b[91m Diff: 2686.110000000015\u001b[0m\n",
      "Account: 21263 Debit: 49491.0 Credit: 0.0 \u001b[91m Diff: 49491.0\u001b[0m\n",
      "Account: 21265 Debit: 13312.97 Credit: 13592.4 \u001b[91m Diff: -279.4300000000003\u001b[0m\n",
      "Account: 21273 Debit: 4980.07 Credit: 3993.08 \u001b[91m Diff: 986.9899999999998\u001b[0m\n",
      "Account: 21278 Debit: 683.24 Credit: 531.12 \u001b[91m Diff: 152.12\u001b[0m\n",
      "Account: 21308 Debit: 1036026.17 Credit: 909196.78 \u001b[91m Diff: 126829.39000000001\u001b[0m\n",
      "Account: 21315 Debit: 145169.8 Credit: 149807.05 \u001b[91m Diff: -4637.25\u001b[0m\n",
      "Account: 21502 Debit: 6813.42 Credit: 6827.36 \u001b[91m Diff: -13.9399999999996\u001b[0m\n",
      "Account: 21504 Debit: 55799.73 Credit: 62471.46 \u001b[91m Diff: -6671.729999999996\u001b[0m\n",
      "Account: 21509 Debit: 42257.41 Credit: 39521.09 \u001b[91m Diff: 2736.320000000007\u001b[0m\n",
      "Account: 21510 Debit: 29451.28 Credit: 33179.06 \u001b[91m Diff: -3727.779999999999\u001b[0m\n",
      "Account: 21513 Debit: 212260.45 Credit: 215970.35 \u001b[91m Diff: -3709.899999999994\u001b[0m\n",
      "Account: 21527 Debit: 34310.69 Credit: 35549.65 \u001b[91m Diff: -1238.9599999999991\u001b[0m\n",
      "Account: 21528 Debit: 161743.57 Credit: 175030.12 \u001b[91m Diff: -13286.549999999988\u001b[0m\n",
      "Account: 21564 Debit: 127875.11 Credit: 117871.03 \u001b[91m Diff: 10004.080000000002\u001b[0m\n",
      "Account: 21575 Debit: 63299.46 Credit: 54501.31 \u001b[91m Diff: 8798.150000000001\u001b[0m\n",
      "Account: 21579 Debit: 40124.83 Credit: 31483.02 \u001b[91m Diff: 8641.810000000001\u001b[0m\n",
      "Account: 21706 Debit: 19025.15 Credit: 23839.15 \u001b[91m Diff: -4814.0\u001b[0m\n",
      "Account: 21707 Debit: 302684.44 Credit: 303048.63 \u001b[91m Diff: -364.1900000000023\u001b[0m\n",
      "Account: 21719 Debit: 3187184.8 Credit: 3070206.4 \u001b[91m Diff: 116978.3999999999\u001b[0m\n",
      "Account: 21722 Debit: 1890808.48 Credit: 1826456.43 \u001b[91m Diff: 64352.05000000005\u001b[0m\n",
      "Account: 21736 Debit: 27146.36 Credit: 27932.08 \u001b[91m Diff: -785.7200000000012\u001b[0m\n",
      "Account: 21823 Debit: 1132230.31 Credit: 1137257.75 \u001b[91m Diff: -5027.439999999944\u001b[0m\n",
      "Account: 21825 Debit: 880.13 Credit: 458.93 \u001b[91m Diff: 421.2\u001b[0m\n",
      "Account: 21826 Debit: 176797.12 Credit: 170267.93 \u001b[91m Diff: 6529.190000000002\u001b[0m\n",
      "Account: 21827 Debit: 276364.97 Credit: 293220.93 \u001b[91m Diff: -16855.96000000002\u001b[0m\n",
      "Account: 21828 Debit: 208392.48 Credit: 201876.16 \u001b[91m Diff: 6516.320000000007\u001b[0m\n",
      "Account: 21830 Debit: 351183.52 Credit: 352526.12 \u001b[91m Diff: -1342.5999999999767\u001b[0m\n",
      "Account: 21833 Debit: 20173.5 Credit: 50484.58 \u001b[91m Diff: -30311.08\u001b[0m\n",
      "Account: 21852 Debit: 342184.42 Credit: 214504.65 \u001b[91m Diff: 127679.76999999999\u001b[0m\n",
      "Account: 21868 Debit: 13479.95 Credit: 13794.95 \u001b[91m Diff: -315.0\u001b[0m\n",
      "Account: 21870 Debit: 242.39 Credit: 9008.27 \u001b[91m Diff: -8765.880000000001\u001b[0m\n",
      "Account: 21874 Debit: 3702.0 Credit: 10750.11 \u001b[91m Diff: -7048.110000000001\u001b[0m\n",
      "Account: 21880 Debit: 118451.09 Credit: 134892.63 \u001b[91m Diff: -16441.540000000008\u001b[0m\n",
      "Account: 21888 Debit: 15046.91 Credit: 15394.44 \u001b[91m Diff: -347.53000000000065\u001b[0m\n",
      "Account: 21905 Debit: 59773.8 Credit: 69413.01 \u001b[91m Diff: -9639.209999999992\u001b[0m\n",
      "Account: 21906 Debit: 40042.21 Credit: 40030.96 \u001b[91m Diff: 11.25\u001b[0m\n",
      "Account: 21909 Debit: 84891.99 Credit: 86305.2 \u001b[91m Diff: -1413.2099999999919\u001b[0m\n",
      "Account: 21925 Debit: 6007.01 Credit: 7583.21 \u001b[91m Diff: -1576.1999999999998\u001b[0m\n",
      "Account: 21926 Debit: 16367.84 Credit: 16120.66 \u001b[91m Diff: 247.1800000000003\u001b[0m\n",
      "Account: 21937 Debit: 596867.94 Credit: 558473.63 \u001b[91m Diff: 38394.30999999994\u001b[0m\n",
      "Account: 22120 Debit: 21642.01 Credit: 22629.31 \u001b[91m Diff: -987.3000000000029\u001b[0m\n",
      "Account: 30213 Debit: 571648.0 Credit: 681864.0 \u001b[91m Diff: -110216.0\u001b[0m\n",
      "Account: 30218 Debit: 707.4 Credit: 0.0 \u001b[91m Diff: 707.4\u001b[0m\n",
      "Account: 30308 Debit: 716873.46 Credit: 662385.95 \u001b[91m Diff: 54487.51000000001\u001b[0m\n",
      "Account: 30603 Debit: 96248.41 Credit: 98959.39 \u001b[91m Diff: -2710.979999999996\u001b[0m\n",
      "Account: 31108 Debit: 409241.48 Credit: 358929.08 \u001b[91m Diff: 50312.399999999965\u001b[0m\n",
      "Account: 31205 Debit: 404558.23 Credit: 481219.26 \u001b[91m Diff: -76661.03000000003\u001b[0m\n",
      "Account: 31207 Debit: 32172.4 Credit: 35079.31 \u001b[91m Diff: -2906.909999999996\u001b[0m\n",
      "Account: 31210 Debit: 449473.2 Credit: 402187.93 \u001b[91m Diff: 47285.27000000002\u001b[0m\n",
      "Account: 31211 Debit: 899625.15 Credit: 917730.23 \u001b[91m Diff: -18105.079999999958\u001b[0m\n",
      "Account: 31212 Debit: 176092.27 Credit: 209228.27 \u001b[91m Diff: -33136.0\u001b[0m\n",
      "Account: 31213 Debit: 1239261.61 Credit: 1262158.71 \u001b[91m Diff: -22897.09999999986\u001b[0m\n",
      "Account: 31222 Debit: 151734.47 Credit: 384719.16 \u001b[91m Diff: -232984.68999999997\u001b[0m\n",
      "Account: 31225 Debit: 280031.64 Credit: 198777.53 \u001b[91m Diff: 81254.11000000002\u001b[0m\n",
      "Account: 32520 Debit: 2908.83 Credit: 3016.03 \u001b[91m Diff: -107.20000000000027\u001b[0m\n",
      "Account: 32523 Debit: 1054.38 Credit: 0.0 \u001b[91m Diff: 1054.38\u001b[0m\n",
      "Account: 32526 Debit: 923291.98 Credit: 0.0 \u001b[91m Diff: 923291.98\u001b[0m\n",
      "Account: 70000 Debit: 14883.07 Credit: 14687.72 \u001b[91m Diff: 195.35000000000036\u001b[0m\n",
      "Account: 70003 Debit: 27196.28 Credit: 26469.76 \u001b[91m Diff: 726.5200000000004\u001b[0m\n",
      "Account: 70004 Debit: 168658.79 Credit: 156342.87 \u001b[91m Diff: 12315.920000000013\u001b[0m\n",
      "Account: 70008 Debit: 1073.78 Credit: 937.14 \u001b[91m Diff: 136.64\u001b[0m\n",
      "Account: 70067 Debit: 1615977.61 Credit: 1591184.61 \u001b[91m Diff: 24793.0\u001b[0m\n",
      "Account: 70071 Debit: 165701.23 Credit: 166787.06 \u001b[91m Diff: -1085.8299999999872\u001b[0m\n",
      "Account: 70115 Debit: 175868.16 Credit: 188968.48 \u001b[91m Diff: -13100.320000000007\u001b[0m\n",
      "Account: 70119 Debit: 2601.76 Credit: 3465.76 \u001b[91m Diff: -864.0\u001b[0m\n",
      "Account: 70121 Debit: 871.83 Credit: 790.03 \u001b[91m Diff: 81.80000000000007\u001b[0m\n",
      "Account: 70125 Debit: 760.0 Credit: 1590.0 \u001b[91m Diff: -830.0\u001b[0m\n",
      "Account: 70131 Debit: 1155.0 Credit: 0.0 \u001b[91m Diff: 1155.0\u001b[0m\n",
      "Account: 70134 Debit: 550867.93 Credit: 551257.93 \u001b[91m Diff: -390.0\u001b[0m\n",
      "Account: 70153 Debit: 22626.2 Credit: 22318.0 \u001b[91m Diff: 308.2000000000007\u001b[0m\n",
      "Account: 70160 Debit: 15959.0 Credit: 15043.0 \u001b[91m Diff: 916.0\u001b[0m\n",
      "Account: 70170 Debit: 58433.76 Credit: 58748.76 \u001b[91m Diff: -315.0\u001b[0m\n",
      "Account: 70186 Debit: 139171.57 Credit: 144453.76 \u001b[91m Diff: -5282.190000000002\u001b[0m\n",
      "Account: 70209 Debit: 1520123.86 Credit: 1474242.21 \u001b[91m Diff: 45881.65000000014\u001b[0m\n",
      "Account: 70246 Debit: 16936.78 Credit: 18827.02 \u001b[91m Diff: -1890.2400000000016\u001b[0m\n",
      "Account: 70249 Debit: 10120.0 Credit: 7600.0 \u001b[91m Diff: 2520.0\u001b[0m\n",
      "Account: 70262 Debit: 283052.73 Credit: 291267.83 \u001b[91m Diff: -8215.100000000035\u001b[0m\n",
      "Account: 70275 Debit: 2031209.36 Credit: 1921885.04 \u001b[91m Diff: 109324.32000000007\u001b[0m\n",
      "Account: 70281 Debit: 710458.1 Credit: 697414.35 \u001b[91m Diff: 13043.75\u001b[0m\n",
      "Account: 70295 Debit: 1167353.59 Credit: 1038001.89 \u001b[91m Diff: 129351.70000000007\u001b[0m\n",
      "Account: 70305 Debit: 11330.4 Credit: 11371.71 \u001b[91m Diff: -41.30999999999949\u001b[0m\n",
      "Account: 70345 Debit: 51094.78 Credit: 51772.17 \u001b[91m Diff: -677.3899999999994\u001b[0m\n",
      "Account: 70360 Debit: 284662.87 Credit: 283241.87 \u001b[91m Diff: 1421.0\u001b[0m\n",
      "Account: 70377 Debit: 27955.21 Credit: 28276.96 \u001b[91m Diff: -321.75\u001b[0m\n",
      "Account: 70398 Debit: 6949.5 Credit: 3796.5 \u001b[91m Diff: 3153.0\u001b[0m\n",
      "Account: 70421 Debit: 93468.46 Credit: 96314.26 \u001b[91m Diff: -2845.7999999999884\u001b[0m\n",
      "Account: 70430 Debit: 15545.9 Credit: 13741.9 \u001b[91m Diff: 1804.0\u001b[0m\n",
      "Account: 70460 Debit: 1533436.83 Credit: 1532504.03 \u001b[91m Diff: 932.8000000000466\u001b[0m\n",
      "Account: 70469 Debit: 30440.34 Credit: 37042.35 \u001b[91m Diff: -6602.009999999998\u001b[0m\n",
      "Account: 70483 Debit: 72706.9 Credit: 70620.18 \u001b[91m Diff: 2086.720000000001\u001b[0m\n",
      "Account: 70500 Debit: 13373.29 Credit: 13385.32 \u001b[91m Diff: -12.029999999998836\u001b[0m\n",
      "Account: 70505 Debit: 2914.31 Credit: 3032.31 \u001b[91m Diff: -118.0\u001b[0m\n",
      "Account: 70534 Debit: 1672.4 Credit: 0.0 \u001b[91m Diff: 1672.4\u001b[0m\n",
      "Account: 70535 Debit: 4183.28 Credit: 5101.28 \u001b[91m Diff: -918.0\u001b[0m\n",
      "Account: 70541 Debit: 77178.04 Credit: 76269.04 \u001b[91m Diff: 909.0\u001b[0m\n",
      "Account: 70544 Debit: 2668.39 Credit: 2603.72 \u001b[91m Diff: 64.67000000000007\u001b[0m\n"
     ]
    },
    {
     "name": "stdout",
     "output_type": "stream",
     "text": [
      "Account: 70589 Debit: 2000.0 Credit: 0.0 \u001b[91m Diff: 2000.0\u001b[0m\n",
      "Account: 70608 Debit: 3089.86 Credit: 1114.43 \u001b[91m Diff: 1975.43\u001b[0m\n",
      "Account: 70623 Debit: 14241.41 Credit: 29357.65 \u001b[91m Diff: -15116.240000000002\u001b[0m\n",
      "Account: 70630 Debit: 104888.05 Credit: 110389.05 \u001b[91m Diff: -5501.0\u001b[0m\n",
      "Account: 70636 Debit: 312844.7 Credit: 321629.1 \u001b[91m Diff: -8784.399999999965\u001b[0m\n",
      "Account: 70640 Debit: 430630.61 Credit: 398700.18 \u001b[91m Diff: 31930.429999999993\u001b[0m\n",
      "Account: 70643 Debit: 419620.0 Credit: 322897.5 \u001b[91m Diff: 96722.5\u001b[0m\n",
      "Account: 70677 Debit: 8082.8 Credit: 8489.63 \u001b[91m Diff: -406.829999999999\u001b[0m\n",
      "Account: 70682 Debit: 2278.25 Credit: 587.15 \u001b[91m Diff: 1691.1\u001b[0m\n",
      "Account: 70707 Debit: 134071.3 Credit: 125327.7 \u001b[91m Diff: 8743.599999999991\u001b[0m\n",
      "Account: 70722 Debit: 4842.46 Credit: 5100.17 \u001b[91m Diff: -257.71000000000004\u001b[0m\n",
      "Account: 70723 Debit: 26665.31 Credit: 29257.13 \u001b[91m Diff: -2591.8199999999997\u001b[0m\n",
      "Account: 70747 Debit: 283797.96 Credit: 291966.8 \u001b[91m Diff: -8168.839999999967\u001b[0m\n",
      "Account: 70774 Debit: 1665.95 Credit: 1539.79 \u001b[91m Diff: 126.16000000000008\u001b[0m\n",
      "Account: 70786 Debit: 14658.93 Credit: 15716.61 \u001b[91m Diff: -1057.6800000000003\u001b[0m\n",
      "Account: 70794 Debit: 926.15 Credit: 920.65 \u001b[91m Diff: 5.5\u001b[0m\n",
      "Account: 70797 Debit: 132792.84 Credit: 125523.07 \u001b[91m Diff: 7269.7699999999895\u001b[0m\n",
      "Account: 70805 Debit: 2476.36 Credit: 2507.92 \u001b[91m Diff: -31.559999999999945\u001b[0m\n",
      "Account: 70816 Debit: 305130.69 Credit: 338506.25 \u001b[91m Diff: -33375.56\u001b[0m\n",
      "Account: 70827 Debit: 508454.25 Credit: 539023.72 \u001b[91m Diff: -30569.469999999972\u001b[0m\n",
      "Account: 70843 Debit: 2003.09 Credit: 1703.08 \u001b[91m Diff: 300.01\u001b[0m\n",
      "Account: 70855 Debit: 18080.25 Credit: 16883.69 \u001b[91m Diff: 1196.5600000000013\u001b[0m\n",
      "Account: 70877 Debit: 10822.37 Credit: 9989.88 \u001b[91m Diff: 832.4900000000016\u001b[0m\n",
      "Account: 70889 Debit: 251.28 Credit: 257.4 \u001b[91m Diff: -6.119999999999976\u001b[0m\n",
      "Account: 70891 Debit: 1032.0 Credit: 1470.0 \u001b[91m Diff: -438.0\u001b[0m\n",
      "Account: 70894 Debit: 91080.0 Credit: 106452.0 \u001b[91m Diff: -15372.0\u001b[0m\n",
      "Account: 70901 Debit: 4213235.83 Credit: 3963227.29 \u001b[91m Diff: 250008.54000000004\u001b[0m\n",
      "Account: 70961 Debit: 2416.14 Credit: 2616.14 \u001b[91m Diff: -200.0\u001b[0m\n",
      "Account: 70965 Debit: 3645.0 Credit: 3515.0 \u001b[91m Diff: 130.0\u001b[0m\n",
      "Account: 70983 Debit: 7122.12 Credit: 4061.22 \u001b[91m Diff: 3060.9\u001b[0m\n",
      "Account: 70991 Debit: 4300.6 Credit: 3944.6 \u001b[91m Diff: 356.00000000000045\u001b[0m\n",
      "Account: 71006 Debit: 35128.17 Credit: 36219.48 \u001b[91m Diff: -1091.310000000005\u001b[0m\n",
      "Account: 71022 Debit: 10871.24 Credit: 10952.65 \u001b[91m Diff: -81.40999999999985\u001b[0m\n",
      "Account: 71030 Debit: 20079.41 Credit: 14807.63 \u001b[91m Diff: 5271.780000000001\u001b[0m\n",
      "Account: 71031 Debit: 3129.05 Credit: 4121.31 \u001b[91m Diff: -992.2600000000002\u001b[0m\n",
      "Account: 71044 Debit: 231747.84 Credit: 253529.76 \u001b[91m Diff: -21781.920000000013\u001b[0m\n",
      "Account: 71089 Debit: 22284.04 Credit: 23162.69 \u001b[91m Diff: -878.6499999999978\u001b[0m\n",
      "Account: 71098 Debit: 1600162.96 Credit: 1561388.73 \u001b[91m Diff: 38774.22999999998\u001b[0m\n",
      "Account: 71132 Debit: 592450.0 Credit: 552450.0 \u001b[91m Diff: 40000.0\u001b[0m\n",
      "Account: 71136 Debit: 34772.28 Credit: 36644.6 \u001b[91m Diff: -1872.3199999999997\u001b[0m\n",
      "Account: 71156 Debit: 752.0 Credit: 767.0 \u001b[91m Diff: -15.0\u001b[0m\n",
      "Account: 71161 Debit: 5187.28 Credit: 7897.25 \u001b[91m Diff: -2709.9700000000003\u001b[0m\n",
      "Account: 71195 Debit: 3239.33 Credit: 2887.43 \u001b[91m Diff: 351.9000000000001\u001b[0m\n",
      "Account: 71221 Debit: 3171.0 Credit: 2924.36 \u001b[91m Diff: 246.63999999999987\u001b[0m\n",
      "Account: 71281 Debit: 0.01 Credit: 9834.99 \u001b[91m Diff: -9834.98\u001b[0m\n",
      "Account: 71290 Debit: 89556.57 Credit: 99466.29 \u001b[91m Diff: -9909.719999999987\u001b[0m\n",
      "Account: 71314 Debit: 6815.6 Credit: 6143.6 \u001b[91m Diff: 672.0\u001b[0m\n",
      "Account: 71329 Debit: 245409.3 Credit: 238792.47 \u001b[91m Diff: 6616.829999999987\u001b[0m\n",
      "Account: 71340 Debit: 3613.62 Credit: 3875.6 \u001b[91m Diff: -261.98\u001b[0m\n",
      "Account: 71387 Debit: 1722600.0 Credit: 1621980.0 \u001b[91m Diff: 100620.0\u001b[0m\n",
      "Account: 71393 Debit: 90.0 Credit: 0.0 \u001b[91m Diff: 90.0\u001b[0m\n",
      "Account: 71413 Debit: 5123.7 Credit: 5636.18 \u001b[91m Diff: -512.4800000000005\u001b[0m\n",
      "Account: 71417 Debit: 511.54 Credit: 1278.21 \u001b[91m Diff: -766.6700000000001\u001b[0m\n",
      "Account: 71475 Debit: 422435.21 Credit: 417880.59 \u001b[91m Diff: 4554.619999999995\u001b[0m\n",
      "Account: 71477 Debit: 209950.0 Credit: 138090.0 \u001b[91m Diff: 71860.0\u001b[0m\n",
      "Account: 71483 Debit: 260.13 Credit: 0.0 \u001b[91m Diff: 260.13\u001b[0m\n",
      "Account: 71488 Debit: 242222.04 Credit: 225102.84 \u001b[91m Diff: 17119.20000000001\u001b[0m\n",
      "Account: 71526 Debit: 190553.39 Credit: 193169.93 \u001b[91m Diff: -2616.539999999979\u001b[0m\n",
      "Account: 71537 Debit: 53183.52 Credit: 53612.61 \u001b[91m Diff: -429.0900000000038\u001b[0m\n",
      "Account: 71545 Debit: 97111.0 Credit: 170417.0 \u001b[91m Diff: -73306.0\u001b[0m\n",
      "Account: 71549 Debit: 211848.72 Credit: 218382.11 \u001b[91m Diff: -6533.389999999985\u001b[0m\n",
      "Account: 71592 Debit: 124428.4 Credit: 218733.05 \u001b[91m Diff: -94304.65\u001b[0m\n",
      "Account: 71609 Debit: 693.18 Credit: 0.0 \u001b[91m Diff: 693.18\u001b[0m\n",
      "Account: 71620 Debit: 10128.13 Credit: 9016.63 \u001b[91m Diff: 1111.5\u001b[0m\n",
      "Account: 71630 Debit: 255263.57 Credit: 250261.17 \u001b[91m Diff: 5002.399999999994\u001b[0m\n",
      "Account: 71643 Debit: 7209.89 Credit: 7423.91 \u001b[91m Diff: -214.01999999999953\u001b[0m\n",
      "Account: 71651 Debit: 129293.8 Credit: 84581.8 \u001b[91m Diff: 44712.0\u001b[0m\n",
      "Account: 71655 Debit: 271420.0 Credit: 261840.0 \u001b[91m Diff: 9580.0\u001b[0m\n",
      "Account: 71686 Debit: 11775.51 Credit: 30562.6 \u001b[91m Diff: -18787.089999999997\u001b[0m\n",
      "Account: 71694 Debit: 45088.16 Credit: 44194.55 \u001b[91m Diff: 893.6100000000006\u001b[0m\n",
      "Account: 71699 Debit: 111.4 Credit: 0.0 \u001b[91m Diff: 111.4\u001b[0m\n",
      "Account: 71710 Debit: 16742.8 Credit: 16890.39 \u001b[91m Diff: -147.59000000000015\u001b[0m\n",
      "Account: 71712 Debit: 1366272.0 Credit: 1235632.0 \u001b[91m Diff: 130640.0\u001b[0m\n",
      "Account: 71717 Debit: 228121.3 Credit: 232256.95 \u001b[91m Diff: -4135.650000000023\u001b[0m\n",
      "Account: 71732 Debit: 29179.3 Credit: 28355.65 \u001b[91m Diff: 823.6499999999978\u001b[0m\n",
      "Account: 71764 Debit: 1515.7 Credit: 1270.7 \u001b[91m Diff: 245.0\u001b[0m\n",
      "Account: 71778 Debit: 2534.99 Credit: 2402.72 \u001b[91m Diff: 132.26999999999998\u001b[0m\n",
      "Account: 71781 Debit: 5717.8 Credit: 4119.83 \u001b[91m Diff: 1597.9700000000003\u001b[0m\n",
      "Account: 71791 Debit: 360.0 Credit: 240.0 \u001b[91m Diff: 120.0\u001b[0m\n",
      "Account: 71797 Debit: 198513.14 Credit: 186347.94 \u001b[91m Diff: 12165.200000000012\u001b[0m\n",
      "Account: 71806 Debit: 78828.3 Credit: 74882.7 \u001b[91m Diff: 3945.600000000006\u001b[0m\n",
      "Account: 71824 Debit: 6029.52 Credit: 5514.52 \u001b[91m Diff: 515.0\u001b[0m\n",
      "Account: 71827 Debit: 5334.0 Credit: 0.0 \u001b[91m Diff: 5334.0\u001b[0m\n",
      "Account: 71828 Debit: 566450.79 Credit: 559840.69 \u001b[91m Diff: 6610.100000000093\u001b[0m\n",
      "Account: 71829 Debit: 40901.01 Credit: 25560.43 \u001b[91m Diff: 15340.580000000002\u001b[0m\n",
      "Account: 71853 Debit: 347973.79 Credit: 318942.34 \u001b[91m Diff: 29031.449999999953\u001b[0m\n",
      "Account: 71871 Debit: 47899.2 Credit: 34795.2 \u001b[91m Diff: 13104.0\u001b[0m\n",
      "Account: 71879 Debit: 11485.5 Credit: 6198.5 \u001b[91m Diff: 5287.0\u001b[0m\n",
      "Account: 71906 Debit: 2102474.44 Credit: 2309695.26 \u001b[91m Diff: -207220.81999999983\u001b[0m\n",
      "Account: 71957 Debit: 86.5 Credit: 201.5 \u001b[91m Diff: -115.0\u001b[0m\n",
      "Account: 71961 Debit: 70956.82 Credit: 54044.47 \u001b[91m Diff: 16912.350000000006\u001b[0m\n",
      "Account: 72024 Debit: 6935.0 Credit: 10372.5 \u001b[91m Diff: -3437.5\u001b[0m\n",
      "Account: 72026 Debit: 1891.39 Credit: 1834.07 \u001b[91m Diff: 57.320000000000164\u001b[0m\n",
      "Account: 72050 Debit: 79295.27 Credit: 84185.15 \u001b[91m Diff: -4889.87999999999\u001b[0m\n",
      "Account: 72075 Debit: 592.31 Credit: 0.0 \u001b[91m Diff: 592.31\u001b[0m\n",
      "Account: 72080 Debit: 1507.8 Credit: 1512.2 \u001b[91m Diff: -4.400000000000091\u001b[0m\n",
      "Account: 72094 Debit: 2357.1 Credit: 2310.5 \u001b[91m Diff: 46.59999999999991\u001b[0m\n",
      "Account: 72101 Debit: 262560.0 Credit: 131280.0 \u001b[91m Diff: 131280.0\u001b[0m\n",
      "Account: 72146 Debit: 22075.65 Credit: 23966.75 \u001b[91m Diff: -1891.0999999999985\u001b[0m\n",
      "Account: 72151 Debit: 713838.51 Credit: 742305.11 \u001b[91m Diff: -28466.599999999977\u001b[0m\n",
      "Account: 72153 Debit: 33820.0 Credit: 32360.0 \u001b[91m Diff: 1460.0\u001b[0m\n",
      "Account: 72163 Debit: 1710.0 Credit: 1737.0 \u001b[91m Diff: -27.0\u001b[0m\n",
      "Account: 72174 Debit: 7310.43 Credit: 9833.93 \u001b[91m Diff: -2523.5\u001b[0m\n",
      "Account: 72201 Debit: 1566.2 Credit: 1583.2 \u001b[91m Diff: -17.0\u001b[0m\n",
      "Account: 72209 Debit: 710880.62 Credit: 721609.05 \u001b[91m Diff: -10728.430000000051\u001b[0m\n",
      "Account: 72220 Debit: 15361.81 Credit: 9034.51 \u001b[91m Diff: 6327.299999999999\u001b[0m\n",
      "Account: 72222 Debit: 14875.21 Credit: 14665.34 \u001b[91m Diff: 209.86999999999898\u001b[0m\n",
      "Account: 72227 Debit: 6367.55 Credit: 6429.62 \u001b[91m Diff: -62.06999999999971\u001b[0m\n",
      "Account: 72235 Debit: 416439.74 Credit: 430545.14 \u001b[91m Diff: -14105.400000000023\u001b[0m\n",
      "Account: 72238 Debit: 7620.25 Credit: 8461.21 \u001b[91m Diff: -840.9599999999991\u001b[0m\n",
      "Account: 72240 Debit: 14705.23 Credit: 11766.85 \u001b[91m Diff: 2938.379999999999\u001b[0m\n",
      "Account: 72248 Debit: 4866.98 Credit: 4933.28 \u001b[91m Diff: -66.30000000000018\u001b[0m\n",
      "Account: 72255 Debit: 7696.84 Credit: 9968.79 \u001b[91m Diff: -2271.9500000000007\u001b[0m\n",
      "Account: 72257 Debit: 1800.0 Credit: 0.0 \u001b[91m Diff: 1800.0\u001b[0m\n",
      "Account: 72261 Debit: 7308.47 Credit: 7452.4 \u001b[91m Diff: -143.92999999999938\u001b[0m\n",
      "Account: 72265 Debit: 11093.83 Credit: 10508.83 \u001b[91m Diff: 585.0\u001b[0m\n",
      "Account: 72279 Debit: 509.52 Credit: 283.27 \u001b[91m Diff: 226.25\u001b[0m\n",
      "Account: 72280 Debit: 606.68 Credit: 330.54 \u001b[91m Diff: 276.13999999999993\u001b[0m\n",
      "Account: 72283 Debit: 231297.79 Credit: 247582.69 \u001b[91m Diff: -16284.899999999994\u001b[0m\n",
      "Account: 72289 Debit: 729.15 Credit: 587.35 \u001b[91m Diff: 141.79999999999995\u001b[0m\n",
      "Account: 72301 Debit: 300.0 Credit: 450.0 \u001b[91m Diff: -150.0\u001b[0m\n",
      "Account: 72318 Debit: 4800.0 Credit: 5230.0 \u001b[91m Diff: -430.0\u001b[0m\n",
      "Account: 72335 Debit: 10370.43 Credit: 8521.34 \u001b[91m Diff: 1849.0900000000001\u001b[0m\n",
      "Account: 72375 Debit: 782979.6 Credit: 678705.6 \u001b[91m Diff: 104274.0\u001b[0m\n",
      "Account: 72426 Debit: 49.05 Credit: 18.53 \u001b[91m Diff: 30.519999999999996\u001b[0m\n",
      "Account: 72452 Debit: 26800.0 Credit: 24260.0 \u001b[91m Diff: 2540.0\u001b[0m\n",
      "Account: 72464 Debit: 754070.0 Credit: 995831.2 \u001b[91m Diff: -241761.19999999995\u001b[0m\n",
      "Account: 72469 Debit: 99.38 Credit: 0.0 \u001b[91m Diff: 99.38\u001b[0m\n",
      "Account: 72475 Debit: 8802.65 Credit: 7558.42 \u001b[91m Diff: 1244.2299999999996\u001b[0m\n",
      "Account: 72477 Debit: 6205.0 Credit: 5205.0 \u001b[91m Diff: 1000.0\u001b[0m\n",
      "Account: 72478 Debit: 1466831.92 Credit: 1460130.7 \u001b[91m Diff: 6701.219999999972\u001b[0m\n",
      "Account: 72504 Debit: 650402.52 Credit: 663891.89 \u001b[91m Diff: -13489.369999999995\u001b[0m\n",
      "Account: 72522 Debit: 483078.0 Credit: 665478.0 \u001b[91m Diff: -182400.0\u001b[0m\n",
      "Account: 72527 Debit: 2773829.48 Credit: 2599493.99 \u001b[91m Diff: 174335.48999999976\u001b[0m\n",
      "Account: 72540 Debit: 5625.0 Credit: 5885.0 \u001b[91m Diff: -260.0\u001b[0m\n",
      "Account: 72542 Debit: 520.78 Credit: 286.72 \u001b[91m Diff: 234.05999999999995\u001b[0m\n",
      "Account: 72546 Debit: 2787.45 Credit: 2610.68 \u001b[91m Diff: 176.76999999999998\u001b[0m\n",
      "Account: 72551 Debit: 244.87 Credit: 238.88 \u001b[91m Diff: 5.990000000000009\u001b[0m\n",
      "Account: 72555 Debit: 1709.0 Credit: 2024.0 \u001b[91m Diff: -315.0\u001b[0m\n",
      "Account: 72585 Debit: 6103.77 Credit: 6255.77 \u001b[91m Diff: -152.0\u001b[0m\n",
      "Account: 72602 Debit: 1835635.28 Credit: 1647641.99 \u001b[91m Diff: 187993.29000000004\u001b[0m\n",
      "Account: 72613 Debit: 447093.27 Credit: 444829.2 \u001b[91m Diff: 2264.070000000007\u001b[0m\n",
      "Account: 72630 Debit: 1347.62 Credit: 0.0 \u001b[91m Diff: 1347.62\u001b[0m\n",
      "Account: 72637 Debit: 633736.07 Credit: 624292.94 \u001b[91m Diff: 9443.130000000005\u001b[0m\n",
      "Account: 72661 Debit: 68523.16 Credit: 44842.36 \u001b[91m Diff: 23680.800000000003\u001b[0m\n",
      "Account: 72663 Debit: 46122.04 Credit: 33971.65 \u001b[91m Diff: 12150.39\u001b[0m\n",
      "Account: 72665 Debit: 5799.38 Credit: 5635.97 \u001b[91m Diff: 163.40999999999985\u001b[0m\n",
      "Account: 72667 Debit: 3350.24 Credit: 4775.71 \u001b[91m Diff: -1425.4700000000003\u001b[0m\n",
      "Account: 72668 Debit: 1731.0 Credit: 911.0 \u001b[91m Diff: 820.0\u001b[0m\n",
      "Account: 72670 Debit: 11090.4 Credit: 10990.68 \u001b[91m Diff: 99.71999999999935\u001b[0m\n",
      "Account: 72679 Debit: 277066.36 Credit: 253995.13 \u001b[91m Diff: 23071.22999999998\u001b[0m\n",
      "Account: 72681 Debit: 22248.8 Credit: 24698.8 \u001b[91m Diff: -2450.0\u001b[0m\n",
      "Account: 72684 Debit: 8158.76 Credit: 7802.36 \u001b[91m Diff: 356.40000000000055\u001b[0m\n",
      "Account: 72688 Debit: 3576.0 Credit: 3924.0 \u001b[91m Diff: -348.0\u001b[0m\n",
      "Account: 72689 Debit: 13375.0 Credit: 0.0 \u001b[91m Diff: 13375.0\u001b[0m\n",
      "Account: 72694 Debit: 298901.74 Credit: 245909.85 \u001b[91m Diff: 52991.889999999985\u001b[0m\n",
      "Account: 72749 Debit: 370006.95 Credit: 394822.25 \u001b[91m Diff: -24815.29999999999\u001b[0m\n",
      "Account: 72755 Debit: 277.43 Credit: 136.37 \u001b[91m Diff: 141.06\u001b[0m\n",
      "Account: 72761 Debit: 152776.5 Credit: 112216.5 \u001b[91m Diff: 40560.0\u001b[0m\n",
      "Account: 72765 Debit: 73065.28 Credit: 0.0 \u001b[91m Diff: 73065.28\u001b[0m\n",
      "Account: 72797 Debit: 8979.3 Credit: 0.0 \u001b[91m Diff: 8979.3\u001b[0m\n",
      "Account: 72814 Debit: 73750.26 Credit: 75838.26 \u001b[91m Diff: -2088.0\u001b[0m\n",
      "Account: 72819 Debit: 1976.64 Credit: 2412.64 \u001b[91m Diff: -435.9999999999998\u001b[0m\n",
      "Account: 72826 Debit: 83440.0 Credit: 67940.0 \u001b[91m Diff: 15500.0\u001b[0m\n",
      "Account: 72840 Debit: 67212.0 Credit: 52012.0 \u001b[91m Diff: 15200.0\u001b[0m\n",
      "Account: 72847 Debit: 42690.32 Credit: 36657.72 \u001b[91m Diff: 6032.5999999999985\u001b[0m\n",
      "Account: 72871 Debit: 20131.22 Credit: 20822.56 \u001b[91m Diff: -691.3400000000001\u001b[0m\n",
      "Account: 72891 Debit: 659478.87 Credit: 576036.12 \u001b[91m Diff: 83442.75\u001b[0m\n",
      "Account: 72892 Debit: 179810.1 Credit: 244445.4 \u001b[91m Diff: -64635.29999999999\u001b[0m\n",
      "Account: 72896 Debit: 539785.0 Credit: 504260.0 \u001b[91m Diff: 35525.0\u001b[0m\n",
      "Account: 72906 Debit: 4658.31 Credit: 4196.25 \u001b[91m Diff: 462.0600000000004\u001b[0m\n",
      "Account: 72926 Debit: 12131.57 Credit: 18437.48 \u001b[91m Diff: -6305.91\u001b[0m\n",
      "Account: 72933 Debit: 8920.0 Credit: 5560.0 \u001b[91m Diff: 3360.0\u001b[0m\n",
      "Account: 72950 Debit: 22693.59 Credit: 23856.26 \u001b[91m Diff: -1162.6699999999983\u001b[0m\n",
      "Account: 72957 Debit: 8605.1 Credit: 8817.5 \u001b[91m Diff: -212.39999999999964\u001b[0m\n",
      "Account: 72967 Debit: 32583.09 Credit: 25936.49 \u001b[91m Diff: 6646.5999999999985\u001b[0m\n",
      "Account: 72968 Debit: 338186.13 Credit: 249486.13 \u001b[91m Diff: 88700.0\u001b[0m\n",
      "Account: 72970 Debit: 10266.0 Credit: 9529.0 \u001b[91m Diff: 737.0\u001b[0m\n",
      "Account: 72972 Debit: 345105.74 Credit: 341703.66 \u001b[91m Diff: 3402.0800000000163\u001b[0m\n",
      "Account: 72977 Debit: 6402.39 Credit: 8536.52 \u001b[91m Diff: -2134.13\u001b[0m\n",
      "Account: 72978 Debit: 204610.0 Credit: 218380.0 \u001b[91m Diff: -13770.0\u001b[0m\n",
      "Account: 72993 Debit: 202463.02 Credit: 209960.95 \u001b[91m Diff: -7497.930000000022\u001b[0m\n",
      "Account: 72995 Debit: 3831.81 Credit: 3429.78 \u001b[91m Diff: 402.02999999999975\u001b[0m\n",
      "Account: 73015 Debit: 121200.93 Credit: 118256.42 \u001b[91m Diff: 2944.5099999999948\u001b[0m\n",
      "Account: 73019 Debit: 4075.0 Credit: 7575.0 \u001b[91m Diff: -3500.0\u001b[0m\n",
      "Account: 73027 Debit: 32290.0 Credit: 30000.0 \u001b[91m Diff: 2290.0\u001b[0m\n",
      "Account: 73032 Debit: 31038.2 Credit: 32612.41 \u001b[91m Diff: -1574.2099999999991\u001b[0m\n",
      "Account: 73044 Debit: 119720.0 Credit: 86400.0 \u001b[91m Diff: 33320.0\u001b[0m\n",
      "Account: 73047 Debit: 104077.8 Credit: 97389.8 \u001b[91m Diff: 6688.0\u001b[0m\n",
      "Account: 73049 Debit: 5523.59 Credit: 5718.04 \u001b[91m Diff: -194.44999999999982\u001b[0m\n",
      "Account: 73064 Debit: 65518.88 Credit: 66312.08 \u001b[91m Diff: -793.2000000000044\u001b[0m\n",
      "Account: 73070 Debit: 31275.87 Credit: 33999.11 \u001b[91m Diff: -2723.2400000000016\u001b[0m\n",
      "Account: 73079 Debit: 32170.82 Credit: 30902.11 \u001b[91m Diff: 1268.7099999999991\u001b[0m\n",
      "Account: 73088 Debit: 16928.79 Credit: 16646.79 \u001b[91m Diff: 282.0\u001b[0m\n",
      "Account: 73096 Debit: 4365.5 Credit: 4917.65 \u001b[91m Diff: -552.1499999999996\u001b[0m\n",
      "Account: 73098 Debit: 22385.25 Credit: 23137.25 \u001b[91m Diff: -752.0\u001b[0m\n",
      "Account: 73099 Debit: 16469.0 Credit: 0.0 \u001b[91m Diff: 16469.0\u001b[0m\n",
      "Account: 73102 Debit: 2517.32 Credit: 2729.0 \u001b[91m Diff: -211.67999999999984\u001b[0m\n",
      "Account: 73108 Debit: 5693.2 Credit: 0.0 \u001b[91m Diff: 5693.2\u001b[0m\n",
      "Account: 73112 Debit: 519145.69 Credit: 546314.3 \u001b[91m Diff: -27168.610000000044\u001b[0m\n",
      "Account: 73117 Debit: 233193.6 Credit: 299318.4 \u001b[91m Diff: -66124.80000000002\u001b[0m\n",
      "Account: 73126 Debit: 291.5 Credit: 749.5 \u001b[91m Diff: -458.0\u001b[0m\n",
      "Account: 73128 Debit: 19964.0 Credit: 12694.0 \u001b[91m Diff: 7270.0\u001b[0m\n",
      "Account: 73134 Debit: 5850.0 Credit: 5843.0 \u001b[91m Diff: 7.0\u001b[0m\n",
      "Account: 73137 Debit: 236106.29 Credit: 250390.89 \u001b[91m Diff: -14284.600000000006\u001b[0m\n",
      "Account: 73138 Debit: 54.0 Credit: 27.0 \u001b[91m Diff: 27.0\u001b[0m\n",
      "Account: 73141 Debit: 9439.69 Credit: 10337.85 \u001b[91m Diff: -898.1599999999999\u001b[0m\n",
      "Account: 73143 Debit: 147481.4 Credit: 146806.4 \u001b[91m Diff: 675.0\u001b[0m\n",
      "Account: 73149 Debit: 2040.0 Credit: 4080.0 \u001b[91m Diff: -2040.0\u001b[0m\n",
      "Account: 73162 Debit: 37355.0 Credit: 38405.0 \u001b[91m Diff: -1050.0\u001b[0m\n",
      "Account: 73182 Debit: 3024.0 Credit: 3892.0 \u001b[91m Diff: -868.0\u001b[0m\n",
      "Account: 73191 Debit: 821050.64 Credit: 887775.29 \u001b[91m Diff: -66724.65000000002\u001b[0m\n",
      "Account: 73203 Debit: 5800.0 Credit: 6065.0 \u001b[91m Diff: -265.0\u001b[0m\n",
      "Account: 73207 Debit: 40365.0 Credit: 44811.0 \u001b[91m Diff: -4446.0\u001b[0m\n",
      "Account: 73210 Debit: 24738.0 Credit: 31518.0 \u001b[91m Diff: -6780.0\u001b[0m\n",
      "Account: 73216 Debit: 115531.65 Credit: 142821.9 \u001b[91m Diff: -27290.25\u001b[0m\n",
      "Account: 73236 Debit: 35325.34 Credit: 52829.12 \u001b[91m Diff: -17503.780000000006\u001b[0m\n",
      "Account: 79999 Debit: 33523.3 Credit: 0.0 \u001b[91m Diff: 33523.3\u001b[0m\n"
     ]
    }
   ],
   "source": [
    "gl_acc = []\n",
    "gl_acc_diff = []\n",
    "df_gl_acc_diff = pd.DataFrame()\n",
    "\n",
    "\n",
    "for acc in df_gl_sums[\"debit_account\"]:\n",
    "    sum_debit = round(df_gl_sums[\"debit_amount\"].loc[df_gl_sums.index[df_gl_sums[\"debit_account\"] == acc]].sum(), 2)\n",
    "    sum_credit = round(df_gl_sums[\"credit_amount\"].loc[df_gl_sums.index[df_gl_sums[\"credit_account\"] == acc]].sum(), 2)\n",
    "    diff = sum_debit - sum_credit\n",
    "    gl_acc.append(acc)\n",
    "    gl_acc_diff.append(diff)\n",
    "    if diff != 0:\n",
    "        print(f\"Account: {acc} Debit: {sum_debit} Credit: {sum_credit} {bcolors.FAIL} Diff: {diff}{bcolors.ENDC}\")\n",
    "\n",
    "df_gl_acc_diff[\"konto\"] = gl_acc\n",
    "df_gl_acc_diff[\"debit\"] = [round(df_gl_sums[\"debit_amount\"].loc[df_gl_sums.index[df_gl_sums[\"debit_account\"] == acc]].sum(), 2) for acc in gl_acc]\n",
    "df_gl_acc_diff[\"credit\"] = [round(df_gl_sums[\"credit_amount\"].loc[df_gl_sums.index[df_gl_sums[\"credit_account\"] == acc]].sum(), 2) for acc in gl_acc]\n",
    "df_gl_acc_diff[\"diff\"] = gl_acc_diff\n",
    "\n",
    "\n",
    "df_gl_acc_diff = df_gl_acc_diff.drop(df_gl_acc_diff[(df_gl_acc_diff[\"konto\"].isna()) | (df_gl_acc_diff[\"diff\"] == 0)].index).reset_index(drop=True)\n",
    "\n",
    "if df_gl_acc_diff.empty == False:\n",
    "    df_gl_acc_diff.to_excel('./results/JB1/gl_acc_diff.xlsx', sheet_name='GL acc difference' ,index=False, header=True, float_format=\"%.2f\", engine='xlsxwriter')\n",
    "else:\n",
    "    with open('./results/JB1/no_gl_acc_diff.txt', 'w') as f:\n",
    "        f.write('No difference between debit and credit accounts in the GL')"
   ]
  },
  {
   "cell_type": "code",
   "execution_count": 142,
   "id": "8c81ad41",
   "metadata": {},
   "outputs": [
    {
     "data": {
      "text/plain": [
       "19087149.740000013"
      ]
     },
     "execution_count": 142,
     "metadata": {},
     "output_type": "execute_result"
    }
   ],
   "source": [
    "# the difference for all accounts in the GL is ~19,089,361.26M EUR\n",
    "# I cannot explain this difference and therefore I will not investigate it further\n",
    "\n",
    "df_gl_acc_diff[\"diff\"].sum()"
   ]
  },
  {
   "attachments": {},
   "cell_type": "markdown",
   "id": "0d5735c8",
   "metadata": {},
   "source": [
    "### Compare all individual bookings in the GL"
   ]
  },
  {
   "cell_type": "code",
   "execution_count": 143,
   "id": "019f7e7d",
   "metadata": {},
   "outputs": [
    {
     "name": "stdout",
     "output_type": "stream",
     "text": [
      "Number of rows: 123707\n",
      "Number of unique booking numbers: 39212\n"
     ]
    },
    {
     "data": {
      "text/html": [
       "<div>\n",
       "<style scoped>\n",
       "    .dataframe tbody tr th:only-of-type {\n",
       "        vertical-align: middle;\n",
       "    }\n",
       "\n",
       "    .dataframe tbody tr th {\n",
       "        vertical-align: top;\n",
       "    }\n",
       "\n",
       "    .dataframe thead th {\n",
       "        text-align: right;\n",
       "    }\n",
       "</style>\n",
       "<table border=\"1\" class=\"dataframe\">\n",
       "  <thead>\n",
       "    <tr style=\"text-align: right;\">\n",
       "      <th>Name</th>\n",
       "      <th>booking_nr</th>\n",
       "      <th>debit_account</th>\n",
       "      <th>debit_amount</th>\n",
       "      <th>credit_account</th>\n",
       "      <th>credit_amount</th>\n",
       "    </tr>\n",
       "  </thead>\n",
       "  <tbody>\n",
       "    <tr>\n",
       "      <th>0</th>\n",
       "      <td>483476</td>\n",
       "      <td>4360</td>\n",
       "      <td>51.86</td>\n",
       "      <td>&lt;NA&gt;</td>\n",
       "      <td>NaN</td>\n",
       "    </tr>\n",
       "    <tr>\n",
       "      <th>1</th>\n",
       "      <td>483476</td>\n",
       "      <td>&lt;NA&gt;</td>\n",
       "      <td>NaN</td>\n",
       "      <td>72072</td>\n",
       "      <td>51.86</td>\n",
       "    </tr>\n",
       "    <tr>\n",
       "      <th>2</th>\n",
       "      <td>483476</td>\n",
       "      <td>&lt;NA&gt;</td>\n",
       "      <td>NaN</td>\n",
       "      <td>1600</td>\n",
       "      <td>51.86</td>\n",
       "    </tr>\n",
       "    <tr>\n",
       "      <th>3</th>\n",
       "      <td>483931</td>\n",
       "      <td>4138</td>\n",
       "      <td>1533.08</td>\n",
       "      <td>&lt;NA&gt;</td>\n",
       "      <td>NaN</td>\n",
       "    </tr>\n",
       "    <tr>\n",
       "      <th>4</th>\n",
       "      <td>483931</td>\n",
       "      <td>&lt;NA&gt;</td>\n",
       "      <td>NaN</td>\n",
       "      <td>71781</td>\n",
       "      <td>1533.08</td>\n",
       "    </tr>\n",
       "  </tbody>\n",
       "</table>\n",
       "</div>"
      ],
      "text/plain": [
       "Name booking_nr debit_account  debit_amount credit_account  credit_amount\n",
       "0        483476          4360         51.86           <NA>            NaN\n",
       "1        483476          <NA>           NaN          72072          51.86\n",
       "2        483476          <NA>           NaN           1600          51.86\n",
       "3        483931          4138       1533.08           <NA>            NaN\n",
       "4        483931          <NA>           NaN          71781        1533.08"
      ]
     },
     "execution_count": 143,
     "metadata": {},
     "output_type": "execute_result"
    }
   ],
   "source": [
    "# prepare dataset with the booking number, account number, debit and credit amount\n",
    "\n",
    "df_gl_acc_nr = df_gl[[\"booking_nr\", \"debit_account\", \"debit_amount\", \"credit_account\", \"credit_amount\"]].copy().reset_index(drop=True)\n",
    "df_gl_acc_nr[\"credit_account\"] = df_gl_acc_nr[\"credit_account\"].astype(str)\n",
    "df_gl_acc_nr[\"debit_account\"] = df_gl_acc_nr[\"debit_account\"].astype(str)\n",
    "\n",
    "print(f\"Number of rows: {len(df_gl_acc_nr)}\")\n",
    "print(f\"Number of unique booking numbers: {len(df_gl_acc_nr['booking_nr'].unique())}\")\n",
    "\n",
    "df_gl_acc_nr.head()"
   ]
  },
  {
   "cell_type": "code",
   "execution_count": 144,
   "id": "552ddb5e",
   "metadata": {},
   "outputs": [
    {
     "data": {
      "text/html": [
       "<div>\n",
       "<style scoped>\n",
       "    .dataframe tbody tr th:only-of-type {\n",
       "        vertical-align: middle;\n",
       "    }\n",
       "\n",
       "    .dataframe tbody tr th {\n",
       "        vertical-align: top;\n",
       "    }\n",
       "\n",
       "    .dataframe thead th {\n",
       "        text-align: right;\n",
       "    }\n",
       "</style>\n",
       "<table border=\"1\" class=\"dataframe\">\n",
       "  <thead>\n",
       "    <tr style=\"text-align: right;\">\n",
       "      <th>Name</th>\n",
       "      <th>booking_nr</th>\n",
       "      <th>debit_account</th>\n",
       "      <th>debit_amount</th>\n",
       "      <th>credit_account</th>\n",
       "      <th>credit_amount</th>\n",
       "    </tr>\n",
       "  </thead>\n",
       "  <tbody>\n",
       "    <tr>\n",
       "      <th>0</th>\n",
       "      <td>483163</td>\n",
       "      <td>4988</td>\n",
       "      <td>196.00</td>\n",
       "      <td>725551600</td>\n",
       "      <td>392.00</td>\n",
       "    </tr>\n",
       "    <tr>\n",
       "      <th>1</th>\n",
       "      <td>483164</td>\n",
       "      <td>1563</td>\n",
       "      <td>33.32</td>\n",
       "      <td>1763</td>\n",
       "      <td>33.32</td>\n",
       "    </tr>\n",
       "    <tr>\n",
       "      <th>2</th>\n",
       "      <td>483168</td>\n",
       "      <td>3425</td>\n",
       "      <td>1936.26</td>\n",
       "      <td>706951600</td>\n",
       "      <td>3872.52</td>\n",
       "    </tr>\n",
       "    <tr>\n",
       "      <th>3</th>\n",
       "      <td>483169</td>\n",
       "      <td>1563</td>\n",
       "      <td>329.16</td>\n",
       "      <td>1763</td>\n",
       "      <td>329.16</td>\n",
       "    </tr>\n",
       "    <tr>\n",
       "      <th>4</th>\n",
       "      <td>483171</td>\n",
       "      <td>4983</td>\n",
       "      <td>416.00</td>\n",
       "      <td>722011600</td>\n",
       "      <td>832.00</td>\n",
       "    </tr>\n",
       "    <tr>\n",
       "      <th>...</th>\n",
       "      <td>...</td>\n",
       "      <td>...</td>\n",
       "      <td>...</td>\n",
       "      <td>...</td>\n",
       "      <td>...</td>\n",
       "    </tr>\n",
       "    <tr>\n",
       "      <th>39207</th>\n",
       "      <td>538494</td>\n",
       "      <td>4953</td>\n",
       "      <td>-6750.00</td>\n",
       "      <td>723241600</td>\n",
       "      <td>-13500.00</td>\n",
       "    </tr>\n",
       "    <tr>\n",
       "      <th>39208</th>\n",
       "      <td>538495</td>\n",
       "      <td>1562</td>\n",
       "      <td>-1147.50</td>\n",
       "      <td>1762</td>\n",
       "      <td>-1147.50</td>\n",
       "    </tr>\n",
       "    <tr>\n",
       "      <th>39209</th>\n",
       "      <td>538731</td>\n",
       "      <td>1536</td>\n",
       "      <td>4.51</td>\n",
       "      <td>2650</td>\n",
       "      <td>4.51</td>\n",
       "    </tr>\n",
       "    <tr>\n",
       "      <th>39210</th>\n",
       "      <td>538768</td>\n",
       "      <td>1536</td>\n",
       "      <td>6.68</td>\n",
       "      <td>2650</td>\n",
       "      <td>6.68</td>\n",
       "    </tr>\n",
       "    <tr>\n",
       "      <th>39211</th>\n",
       "      <td>540032</td>\n",
       "      <td>1500</td>\n",
       "      <td>250.00</td>\n",
       "      <td>1536</td>\n",
       "      <td>250.00</td>\n",
       "    </tr>\n",
       "  </tbody>\n",
       "</table>\n",
       "<p>39212 rows × 5 columns</p>\n",
       "</div>"
      ],
      "text/plain": [
       "Name  booking_nr debit_account  debit_amount credit_account  credit_amount\n",
       "0         483163          4988        196.00      725551600         392.00\n",
       "1         483164          1563         33.32           1763          33.32\n",
       "2         483168          3425       1936.26      706951600        3872.52\n",
       "3         483169          1563        329.16           1763         329.16\n",
       "4         483171          4983        416.00      722011600         832.00\n",
       "...          ...           ...           ...            ...            ...\n",
       "39207     538494          4953      -6750.00      723241600      -13500.00\n",
       "39208     538495          1562      -1147.50           1762       -1147.50\n",
       "39209     538731          1536          4.51           2650           4.51\n",
       "39210     538768          1536          6.68           2650           6.68\n",
       "39211     540032          1500        250.00           1536         250.00\n",
       "\n",
       "[39212 rows x 5 columns]"
      ]
     },
     "execution_count": 144,
     "metadata": {},
     "output_type": "execute_result"
    }
   ],
   "source": [
    "# generate the sum of debit and credit amounts for each booking number\n",
    "# the amount of unique booking numbers is identical to length of the dataset\n",
    "\n",
    "df_gl_acc_nr_sums = df_gl_acc_nr.groupby([\"booking_nr\"]).sum().reset_index()\n",
    "df_gl_acc_nr_sums"
   ]
  },
  {
   "cell_type": "code",
   "execution_count": 145,
   "id": "1cd742f4",
   "metadata": {},
   "outputs": [
    {
     "name": "stdout",
     "output_type": "stream",
     "text": [
      "Sum of the difference: 1872911.169999987\n",
      "Number of booking numbers with difference: 29166\n",
      "Amounts equal the overall difference: True\n"
     ]
    },
    {
     "data": {
      "text/html": [
       "<div>\n",
       "<style scoped>\n",
       "    .dataframe tbody tr th:only-of-type {\n",
       "        vertical-align: middle;\n",
       "    }\n",
       "\n",
       "    .dataframe tbody tr th {\n",
       "        vertical-align: top;\n",
       "    }\n",
       "\n",
       "    .dataframe thead th {\n",
       "        text-align: right;\n",
       "    }\n",
       "</style>\n",
       "<table border=\"1\" class=\"dataframe\">\n",
       "  <thead>\n",
       "    <tr style=\"text-align: right;\">\n",
       "      <th>Name</th>\n",
       "      <th>booking_nr</th>\n",
       "      <th>debit_account</th>\n",
       "      <th>debit_amount</th>\n",
       "      <th>credit_account</th>\n",
       "      <th>credit_amount</th>\n",
       "      <th>diff</th>\n",
       "    </tr>\n",
       "  </thead>\n",
       "  <tbody>\n",
       "    <tr>\n",
       "      <th>0</th>\n",
       "      <td>502979</td>\n",
       "      <td>299981476</td>\n",
       "      <td>2035626.02</td>\n",
       "      <td>2502</td>\n",
       "      <td>1017813.01</td>\n",
       "      <td>1017813.01</td>\n",
       "    </tr>\n",
       "    <tr>\n",
       "      <th>1</th>\n",
       "      <td>508897</td>\n",
       "      <td>299981476</td>\n",
       "      <td>2015558.76</td>\n",
       "      <td>2502</td>\n",
       "      <td>1007779.38</td>\n",
       "      <td>1007779.38</td>\n",
       "    </tr>\n",
       "    <tr>\n",
       "      <th>2</th>\n",
       "      <td>489814</td>\n",
       "      <td>299981476</td>\n",
       "      <td>1953102.06</td>\n",
       "      <td>2502</td>\n",
       "      <td>976551.03</td>\n",
       "      <td>976551.03</td>\n",
       "    </tr>\n",
       "    <tr>\n",
       "      <th>3</th>\n",
       "      <td>495762</td>\n",
       "      <td>299981476</td>\n",
       "      <td>1923330.38</td>\n",
       "      <td>2502</td>\n",
       "      <td>961665.19</td>\n",
       "      <td>961665.19</td>\n",
       "    </tr>\n",
       "    <tr>\n",
       "      <th>4</th>\n",
       "      <td>493141</td>\n",
       "      <td>299981476</td>\n",
       "      <td>1631947.94</td>\n",
       "      <td>2502</td>\n",
       "      <td>815973.97</td>\n",
       "      <td>815973.97</td>\n",
       "    </tr>\n",
       "    <tr>\n",
       "      <th>...</th>\n",
       "      <td>...</td>\n",
       "      <td>...</td>\n",
       "      <td>...</td>\n",
       "      <td>...</td>\n",
       "      <td>...</td>\n",
       "      <td>...</td>\n",
       "    </tr>\n",
       "    <tr>\n",
       "      <th>39207</th>\n",
       "      <td>493139</td>\n",
       "      <td>2501</td>\n",
       "      <td>815973.97</td>\n",
       "      <td>299981476</td>\n",
       "      <td>1631947.94</td>\n",
       "      <td>-815973.97</td>\n",
       "    </tr>\n",
       "    <tr>\n",
       "      <th>39208</th>\n",
       "      <td>495760</td>\n",
       "      <td>2501</td>\n",
       "      <td>961665.19</td>\n",
       "      <td>299981476</td>\n",
       "      <td>1923330.38</td>\n",
       "      <td>-961665.19</td>\n",
       "    </tr>\n",
       "    <tr>\n",
       "      <th>39209</th>\n",
       "      <td>489812</td>\n",
       "      <td>2501</td>\n",
       "      <td>976551.03</td>\n",
       "      <td>299981476</td>\n",
       "      <td>1953102.06</td>\n",
       "      <td>-976551.03</td>\n",
       "    </tr>\n",
       "    <tr>\n",
       "      <th>39210</th>\n",
       "      <td>508895</td>\n",
       "      <td>2501</td>\n",
       "      <td>1007779.38</td>\n",
       "      <td>299981476</td>\n",
       "      <td>2015558.76</td>\n",
       "      <td>-1007779.38</td>\n",
       "    </tr>\n",
       "    <tr>\n",
       "      <th>39211</th>\n",
       "      <td>502977</td>\n",
       "      <td>2501</td>\n",
       "      <td>1017813.01</td>\n",
       "      <td>299981476</td>\n",
       "      <td>2035626.02</td>\n",
       "      <td>-1017813.01</td>\n",
       "    </tr>\n",
       "  </tbody>\n",
       "</table>\n",
       "<p>39212 rows × 6 columns</p>\n",
       "</div>"
      ],
      "text/plain": [
       "Name  booking_nr debit_account  debit_amount credit_account  credit_amount  \\\n",
       "0         502979     299981476    2035626.02           2502     1017813.01   \n",
       "1         508897     299981476    2015558.76           2502     1007779.38   \n",
       "2         489814     299981476    1953102.06           2502      976551.03   \n",
       "3         495762     299981476    1923330.38           2502      961665.19   \n",
       "4         493141     299981476    1631947.94           2502      815973.97   \n",
       "...          ...           ...           ...            ...            ...   \n",
       "39207     493139          2501     815973.97      299981476     1631947.94   \n",
       "39208     495760          2501     961665.19      299981476     1923330.38   \n",
       "39209     489812          2501     976551.03      299981476     1953102.06   \n",
       "39210     508895          2501    1007779.38      299981476     2015558.76   \n",
       "39211     502977          2501    1017813.01      299981476     2035626.02   \n",
       "\n",
       "Name         diff  \n",
       "0      1017813.01  \n",
       "1      1007779.38  \n",
       "2       976551.03  \n",
       "3       961665.19  \n",
       "4       815973.97  \n",
       "...           ...  \n",
       "39207  -815973.97  \n",
       "39208  -961665.19  \n",
       "39209  -976551.03  \n",
       "39210 -1007779.38  \n",
       "39211 -1017813.01  \n",
       "\n",
       "[39212 rows x 6 columns]"
      ]
     },
     "execution_count": 145,
     "metadata": {},
     "output_type": "execute_result"
    }
   ],
   "source": [
    "# get the sum of debit and credit amounts for each booking number \n",
    "\n",
    "df_gl_acc_nr_sums[\"diff\"] = df_gl_acc_nr_sums[\"debit_amount\"] - df_gl_acc_nr_sums[\"credit_amount\"]\n",
    "df_gl_acc_nr_sums = df_gl_acc_nr_sums.sort_values(by=[\"diff\"], ascending=False).reset_index(drop=True)\n",
    "\n",
    "\n",
    "print(f\"Sum of the difference: {df_gl_acc_nr_sums['diff'].sum()}\")\n",
    "print(f\"Number of booking numbers with difference: {len(df_gl_acc_nr_sums[df_gl_acc_nr_sums['diff'] != 0])}\")\n",
    "print(f\"Amounts equal the overall difference: {round(df_gl_acc_nr_sums['diff'].sum(), 2) == round(gl_diff_debit_credit, 2)}\")\n",
    "\n",
    "df_gl_acc_nr_sums.to_excel('./results/JB1/sums_per_booking_nr.xlsx', sheet_name='Sums per booking number' ,index=False, header=True, float_format=\"%.2f\", engine='xlsxwriter')\n",
    "\n",
    "df_gl_acc_nr_sums"
   ]
  },
  {
   "cell_type": "code",
   "execution_count": 146,
   "id": "a918bc8d",
   "metadata": {},
   "outputs": [
    {
     "name": "stdout",
     "output_type": "stream",
     "text": [
      "Sum of the difference: 12424032.63\n",
      "Number of booking numbers with difference: 8409\n"
     ]
    },
    {
     "data": {
      "text/html": [
       "<div>\n",
       "<style scoped>\n",
       "    .dataframe tbody tr th:only-of-type {\n",
       "        vertical-align: middle;\n",
       "    }\n",
       "\n",
       "    .dataframe tbody tr th {\n",
       "        vertical-align: top;\n",
       "    }\n",
       "\n",
       "    .dataframe thead th {\n",
       "        text-align: right;\n",
       "    }\n",
       "</style>\n",
       "<table border=\"1\" class=\"dataframe\">\n",
       "  <thead>\n",
       "    <tr style=\"text-align: right;\">\n",
       "      <th>Name</th>\n",
       "      <th>booking_nr</th>\n",
       "      <th>debit_account</th>\n",
       "      <th>debit_amount</th>\n",
       "      <th>credit_account</th>\n",
       "      <th>credit_amount</th>\n",
       "      <th>diff</th>\n",
       "    </tr>\n",
       "  </thead>\n",
       "  <tbody>\n",
       "    <tr>\n",
       "      <th>0</th>\n",
       "      <td>502979</td>\n",
       "      <td>299981476</td>\n",
       "      <td>2035626.02</td>\n",
       "      <td>2502</td>\n",
       "      <td>1017813.01</td>\n",
       "      <td>1017813.01</td>\n",
       "    </tr>\n",
       "    <tr>\n",
       "      <th>1</th>\n",
       "      <td>489814</td>\n",
       "      <td>299981476</td>\n",
       "      <td>1953102.06</td>\n",
       "      <td>2502</td>\n",
       "      <td>976551.03</td>\n",
       "      <td>976551.03</td>\n",
       "    </tr>\n",
       "    <tr>\n",
       "      <th>2</th>\n",
       "      <td>493141</td>\n",
       "      <td>299981476</td>\n",
       "      <td>1631947.94</td>\n",
       "      <td>2502</td>\n",
       "      <td>815973.97</td>\n",
       "      <td>815973.97</td>\n",
       "    </tr>\n",
       "    <tr>\n",
       "      <th>3</th>\n",
       "      <td>499593</td>\n",
       "      <td>299981476</td>\n",
       "      <td>1613692.94</td>\n",
       "      <td>2502</td>\n",
       "      <td>806846.47</td>\n",
       "      <td>806846.47</td>\n",
       "    </tr>\n",
       "    <tr>\n",
       "      <th>4</th>\n",
       "      <td>512669</td>\n",
       "      <td>299981476</td>\n",
       "      <td>1518827.48</td>\n",
       "      <td>2502</td>\n",
       "      <td>759413.74</td>\n",
       "      <td>759413.74</td>\n",
       "    </tr>\n",
       "    <tr>\n",
       "      <th>...</th>\n",
       "      <td>...</td>\n",
       "      <td>...</td>\n",
       "      <td>...</td>\n",
       "      <td>...</td>\n",
       "      <td>...</td>\n",
       "      <td>...</td>\n",
       "    </tr>\n",
       "    <tr>\n",
       "      <th>8405</th>\n",
       "      <td>489502</td>\n",
       "      <td>1601</td>\n",
       "      <td>580796.43</td>\n",
       "      <td>599991400</td>\n",
       "      <td>1161592.86</td>\n",
       "      <td>-580796.43</td>\n",
       "    </tr>\n",
       "    <tr>\n",
       "      <th>8406</th>\n",
       "      <td>493522</td>\n",
       "      <td>12102150</td>\n",
       "      <td>746886.99</td>\n",
       "      <td>203461475203461475</td>\n",
       "      <td>1493773.98</td>\n",
       "      <td>-746886.99</td>\n",
       "    </tr>\n",
       "    <tr>\n",
       "      <th>8407</th>\n",
       "      <td>507384</td>\n",
       "      <td>2501</td>\n",
       "      <td>789678.37</td>\n",
       "      <td>299981476</td>\n",
       "      <td>1579356.74</td>\n",
       "      <td>-789678.37</td>\n",
       "    </tr>\n",
       "    <tr>\n",
       "      <th>8408</th>\n",
       "      <td>495760</td>\n",
       "      <td>2501</td>\n",
       "      <td>961665.19</td>\n",
       "      <td>299981476</td>\n",
       "      <td>1923330.38</td>\n",
       "      <td>-961665.19</td>\n",
       "    </tr>\n",
       "    <tr>\n",
       "      <th>8409</th>\n",
       "      <td>508895</td>\n",
       "      <td>2501</td>\n",
       "      <td>1007779.38</td>\n",
       "      <td>299981476</td>\n",
       "      <td>2015558.76</td>\n",
       "      <td>-1007779.38</td>\n",
       "    </tr>\n",
       "  </tbody>\n",
       "</table>\n",
       "<p>8410 rows × 6 columns</p>\n",
       "</div>"
      ],
      "text/plain": [
       "Name booking_nr debit_account  debit_amount      credit_account  \\\n",
       "0        502979     299981476    2035626.02                2502   \n",
       "1        489814     299981476    1953102.06                2502   \n",
       "2        493141     299981476    1631947.94                2502   \n",
       "3        499593     299981476    1613692.94                2502   \n",
       "4        512669     299981476    1518827.48                2502   \n",
       "...         ...           ...           ...                 ...   \n",
       "8405     489502          1601     580796.43           599991400   \n",
       "8406     493522      12102150     746886.99  203461475203461475   \n",
       "8407     507384          2501     789678.37           299981476   \n",
       "8408     495760          2501     961665.19           299981476   \n",
       "8409     508895          2501    1007779.38           299981476   \n",
       "\n",
       "Name  credit_amount        diff  \n",
       "0        1017813.01  1017813.01  \n",
       "1         976551.03   976551.03  \n",
       "2         815973.97   815973.97  \n",
       "3         806846.47   806846.47  \n",
       "4         759413.74   759413.74  \n",
       "...             ...         ...  \n",
       "8405     1161592.86  -580796.43  \n",
       "8406     1493773.98  -746886.99  \n",
       "8407     1579356.74  -789678.37  \n",
       "8408     1923330.38  -961665.19  \n",
       "8409     2015558.76 -1007779.38  \n",
       "\n",
       "[8410 rows x 6 columns]"
      ]
     },
     "execution_count": 146,
     "metadata": {},
     "output_type": "execute_result"
    }
   ],
   "source": [
    "# exclude equal bookings with the same debit and credit amount\n",
    "\n",
    "df_gl_acc_nr_sums_diff = df_gl_acc_nr_sums\n",
    "df_gl_acc_nr_sums_diff[\"diff\"] = df_gl_acc_nr_sums_diff[\"diff\"].astype(int)\n",
    "df_gl_acc_nr_sums_diff[\"diff\"] = np.abs(df_gl_acc_nr_sums_diff[\"diff\"])\n",
    "df_gl_acc_nr_sums_diff = df_gl_acc_nr_sums_diff.sort_values(by=[\"diff\"], ascending=False).reset_index(drop=True).drop_duplicates(subset=[\"diff\"], keep=\"first\").reset_index(drop=True)\n",
    "\n",
    "# recalculate the difference to invert the creation of absolute values\n",
    "df_gl_acc_nr_sums_diff[\"diff\"] = df_gl_acc_nr_sums_diff[\"debit_amount\"] - df_gl_acc_nr_sums_diff[\"credit_amount\"]\n",
    "df_gl_acc_nr_sums_diff = df_gl_acc_nr_sums_diff.sort_values(by=[\"diff\"], ascending=False).reset_index(drop=True)\n",
    "\n",
    "\n",
    "print(f\"Sum of the difference: {round(df_gl_acc_nr_sums_diff['diff'].sum(),2)}\")\n",
    "print(f\"Number of booking numbers with difference: {len(df_gl_acc_nr_sums_diff[df_gl_acc_nr_sums_diff['diff'] != 0])}\")\n",
    "\n",
    "df_gl_acc_nr_sums_diff.to_excel('./results/JB1/sums_per_booking_nr_diff.xlsx', sheet_name='Sums per booking number' ,index=False, header=True, float_format=\"%.2f\", engine='xlsxwriter')\n",
    "\n",
    "df_gl_acc_nr_sums_diff"
   ]
  },
  {
   "attachments": {},
   "cell_type": "markdown",
   "id": "d62b5c4b",
   "metadata": {},
   "source": [
    "### GL only with TB accounts"
   ]
  },
  {
   "cell_type": "code",
   "execution_count": 147,
   "id": "cac7e095",
   "metadata": {},
   "outputs": [
    {
     "name": "stdout",
     "output_type": "stream",
     "text": [
      "Number of rows: 91158\n",
      "Get relative number of rows: 73.69 %\n"
     ]
    },
    {
     "data": {
      "text/html": [
       "<div>\n",
       "<style scoped>\n",
       "    .dataframe tbody tr th:only-of-type {\n",
       "        vertical-align: middle;\n",
       "    }\n",
       "\n",
       "    .dataframe tbody tr th {\n",
       "        vertical-align: top;\n",
       "    }\n",
       "\n",
       "    .dataframe thead th {\n",
       "        text-align: right;\n",
       "    }\n",
       "</style>\n",
       "<table border=\"1\" class=\"dataframe\">\n",
       "  <thead>\n",
       "    <tr style=\"text-align: right;\">\n",
       "      <th>Name</th>\n",
       "      <th>booking_nr</th>\n",
       "      <th>line_nr</th>\n",
       "      <th>document_date</th>\n",
       "      <th>document_nr</th>\n",
       "      <th>debit_account</th>\n",
       "      <th>debit_amount</th>\n",
       "      <th>credit_account</th>\n",
       "      <th>credit_amount</th>\n",
       "      <th>description</th>\n",
       "      <th>currency</th>\n",
       "      <th>user</th>\n",
       "      <th>booking_date</th>\n",
       "      <th>document_source</th>\n",
       "    </tr>\n",
       "  </thead>\n",
       "  <tbody>\n",
       "    <tr>\n",
       "      <th>0</th>\n",
       "      <td>483476</td>\n",
       "      <td>1</td>\n",
       "      <td>2021-01-01</td>\n",
       "      <td>R02289401 2022</td>\n",
       "      <td>4360</td>\n",
       "      <td>51.86</td>\n",
       "      <td>NaN</td>\n",
       "      <td>NaN</td>\n",
       "      <td>lalux - Leudelange</td>\n",
       "      <td>EUR</td>\n",
       "      <td>hess</td>\n",
       "      <td>01/01/2022</td>\n",
       "      <td>stapelbuchen</td>\n",
       "    </tr>\n",
       "    <tr>\n",
       "      <th>1</th>\n",
       "      <td>483476</td>\n",
       "      <td>3</td>\n",
       "      <td>2021-01-01</td>\n",
       "      <td>R02289401 2022</td>\n",
       "      <td>NaN</td>\n",
       "      <td>NaN</td>\n",
       "      <td>1600</td>\n",
       "      <td>51.86</td>\n",
       "      <td>lalux - Leudelange</td>\n",
       "      <td>EUR</td>\n",
       "      <td>hess</td>\n",
       "      <td>03/01/2022</td>\n",
       "      <td>stapelbuchen</td>\n",
       "    </tr>\n",
       "    <tr>\n",
       "      <th>2</th>\n",
       "      <td>483931</td>\n",
       "      <td>1</td>\n",
       "      <td>2021-06-06</td>\n",
       "      <td>3022100219105-01</td>\n",
       "      <td>4138</td>\n",
       "      <td>1533.08</td>\n",
       "      <td>NaN</td>\n",
       "      <td>NaN</td>\n",
       "      <td>BG RCI - Heidelberg</td>\n",
       "      <td>EUR</td>\n",
       "      <td>hess</td>\n",
       "      <td>04/01/2022</td>\n",
       "      <td>stapelbuchen</td>\n",
       "    </tr>\n",
       "    <tr>\n",
       "      <th>3</th>\n",
       "      <td>483931</td>\n",
       "      <td>3</td>\n",
       "      <td>2021-06-06</td>\n",
       "      <td>3022100219105-01</td>\n",
       "      <td>NaN</td>\n",
       "      <td>NaN</td>\n",
       "      <td>1600</td>\n",
       "      <td>1533.08</td>\n",
       "      <td>BG RCI - Heidelberg</td>\n",
       "      <td>EUR</td>\n",
       "      <td>hess</td>\n",
       "      <td>06/01/2022</td>\n",
       "      <td>stapelbuchen</td>\n",
       "    </tr>\n",
       "    <tr>\n",
       "      <th>4</th>\n",
       "      <td>483993</td>\n",
       "      <td>1</td>\n",
       "      <td>2021-06-06</td>\n",
       "      <td>3022100219105-02</td>\n",
       "      <td>4138</td>\n",
       "      <td>1533.05</td>\n",
       "      <td>NaN</td>\n",
       "      <td>NaN</td>\n",
       "      <td>BG RCI - Heidelberg</td>\n",
       "      <td>EUR</td>\n",
       "      <td>hess</td>\n",
       "      <td>07/01/2022</td>\n",
       "      <td>stapelbuchen</td>\n",
       "    </tr>\n",
       "    <tr>\n",
       "      <th>5</th>\n",
       "      <td>483993</td>\n",
       "      <td>3</td>\n",
       "      <td>2021-06-06</td>\n",
       "      <td>3022100219105-02</td>\n",
       "      <td>NaN</td>\n",
       "      <td>NaN</td>\n",
       "      <td>1600</td>\n",
       "      <td>1533.05</td>\n",
       "      <td>BG RCI - Heidelberg</td>\n",
       "      <td>EUR</td>\n",
       "      <td>hess</td>\n",
       "      <td>09/01/2022</td>\n",
       "      <td>stapelbuchen</td>\n",
       "    </tr>\n",
       "    <tr>\n",
       "      <th>6</th>\n",
       "      <td>484553</td>\n",
       "      <td>1</td>\n",
       "      <td>2021-09-18</td>\n",
       "      <td>JSH210001-1195</td>\n",
       "      <td>3400</td>\n",
       "      <td>65963.28</td>\n",
       "      <td>NaN</td>\n",
       "      <td>NaN</td>\n",
       "      <td>Sanhu - Nanjing (CN)</td>\n",
       "      <td>USD</td>\n",
       "      <td>hess</td>\n",
       "      <td>10/01/2022</td>\n",
       "      <td>stapelbuchen</td>\n",
       "    </tr>\n",
       "    <tr>\n",
       "      <th>7</th>\n",
       "      <td>484553</td>\n",
       "      <td>3</td>\n",
       "      <td>2021-09-18</td>\n",
       "      <td>JSH210001-1195</td>\n",
       "      <td>NaN</td>\n",
       "      <td>NaN</td>\n",
       "      <td>1600</td>\n",
       "      <td>65963.28</td>\n",
       "      <td>Sanhu - Nanjing (CN)</td>\n",
       "      <td>USD</td>\n",
       "      <td>hess</td>\n",
       "      <td>12/01/2022</td>\n",
       "      <td>stapelbuchen</td>\n",
       "    </tr>\n",
       "    <tr>\n",
       "      <th>8</th>\n",
       "      <td>484554</td>\n",
       "      <td>1</td>\n",
       "      <td>2021-09-18</td>\n",
       "      <td>JSH210001-1195</td>\n",
       "      <td>1561</td>\n",
       "      <td>11213.76</td>\n",
       "      <td>NaN</td>\n",
       "      <td>NaN</td>\n",
       "      <td>Sanhu - Nanjing (CN)</td>\n",
       "      <td>USD</td>\n",
       "      <td>hess</td>\n",
       "      <td>13/01/2022</td>\n",
       "      <td>stapelbuchen</td>\n",
       "    </tr>\n",
       "    <tr>\n",
       "      <th>9</th>\n",
       "      <td>484554</td>\n",
       "      <td>2</td>\n",
       "      <td>2021-09-18</td>\n",
       "      <td>JSH210001-1195</td>\n",
       "      <td>NaN</td>\n",
       "      <td>NaN</td>\n",
       "      <td>1761</td>\n",
       "      <td>11213.76</td>\n",
       "      <td>Sanhu - Nanjing (CN)</td>\n",
       "      <td>USD</td>\n",
       "      <td>hess</td>\n",
       "      <td>14/01/2022</td>\n",
       "      <td>stapelbuchen</td>\n",
       "    </tr>\n",
       "  </tbody>\n",
       "</table>\n",
       "</div>"
      ],
      "text/plain": [
       "Name booking_nr  line_nr document_date       document_nr debit_account  \\\n",
       "0        483476        1    2021-01-01    R02289401 2022          4360   \n",
       "1        483476        3    2021-01-01    R02289401 2022           NaN   \n",
       "2        483931        1    2021-06-06  3022100219105-01          4138   \n",
       "3        483931        3    2021-06-06  3022100219105-01           NaN   \n",
       "4        483993        1    2021-06-06  3022100219105-02          4138   \n",
       "5        483993        3    2021-06-06  3022100219105-02           NaN   \n",
       "6        484553        1    2021-09-18    JSH210001-1195          3400   \n",
       "7        484553        3    2021-09-18    JSH210001-1195           NaN   \n",
       "8        484554        1    2021-09-18    JSH210001-1195          1561   \n",
       "9        484554        2    2021-09-18    JSH210001-1195           NaN   \n",
       "\n",
       "Name  debit_amount credit_account  credit_amount           description  \\\n",
       "0            51.86            NaN            NaN    lalux - Leudelange   \n",
       "1              NaN           1600          51.86    lalux - Leudelange   \n",
       "2          1533.08            NaN            NaN   BG RCI - Heidelberg   \n",
       "3              NaN           1600        1533.08   BG RCI - Heidelberg   \n",
       "4          1533.05            NaN            NaN   BG RCI - Heidelberg   \n",
       "5              NaN           1600        1533.05   BG RCI - Heidelberg   \n",
       "6         65963.28            NaN            NaN  Sanhu - Nanjing (CN)   \n",
       "7              NaN           1600       65963.28  Sanhu - Nanjing (CN)   \n",
       "8         11213.76            NaN            NaN  Sanhu - Nanjing (CN)   \n",
       "9              NaN           1761       11213.76  Sanhu - Nanjing (CN)   \n",
       "\n",
       "Name currency  user booking_date document_source  \n",
       "0         EUR  hess   01/01/2022    stapelbuchen  \n",
       "1         EUR  hess   03/01/2022    stapelbuchen  \n",
       "2         EUR  hess   04/01/2022    stapelbuchen  \n",
       "3         EUR  hess   06/01/2022    stapelbuchen  \n",
       "4         EUR  hess   07/01/2022    stapelbuchen  \n",
       "5         EUR  hess   09/01/2022    stapelbuchen  \n",
       "6         USD  hess   10/01/2022    stapelbuchen  \n",
       "7         USD  hess   12/01/2022    stapelbuchen  \n",
       "8         USD  hess   13/01/2022    stapelbuchen  \n",
       "9         USD  hess   14/01/2022    stapelbuchen  "
      ]
     },
     "execution_count": 147,
     "metadata": {},
     "output_type": "execute_result"
    }
   ],
   "source": [
    "# extract all account numbers from the GL which are present in the TB\n",
    "\n",
    "df_gl_tb_acc = df_gl.loc[df_gl[\"debit_account\"].isin(df_tb[\"kontonummer\"]) | df_gl[\"credit_account\"].isin(df_tb[\"kontonummer\"])]\n",
    "df_gl_tb_acc = df_gl_tb_acc.reset_index(drop=True)\n",
    "\n",
    "print(f\"Number of rows: {len(df_gl_tb_acc)}\")\n",
    "print(f\"Get relative number of rows: {round(len(df_gl_tb_acc) / len(df_gl) * 100, 2)} %\")\n",
    "\n",
    "df_gl_tb_acc.head(10)"
   ]
  },
  {
   "attachments": {},
   "cell_type": "markdown",
   "id": "3b00605c",
   "metadata": {},
   "source": [
    "### Credit"
   ]
  },
  {
   "cell_type": "code",
   "execution_count": 148,
   "id": "5c77f0ab",
   "metadata": {},
   "outputs": [
    {
     "name": "stdout",
     "output_type": "stream",
     "text": [
      "Sum of the GL: 401866597.23\n",
      "Sum of is equal to the sum of the TB: True\n"
     ]
    }
   ],
   "source": [
    "gl_tb_acc_credit = round(df_gl_tb_acc[\"debit_amount\"].sum(), 2)\n",
    "\n",
    "print(f\"Sum of the GL: {gl_tb_acc_credit}\")\n",
    "print(f\"Sum of is equal to the sum of the TB: {gl_tb_acc_credit == round(df_tb['soll_periode_12'].sum(), 2)}\")"
   ]
  },
  {
   "attachments": {},
   "cell_type": "markdown",
   "id": "efae8658",
   "metadata": {},
   "source": [
    "### Debit"
   ]
  },
  {
   "cell_type": "code",
   "execution_count": 149,
   "id": "1212ebb5",
   "metadata": {},
   "outputs": [
    {
     "name": "stdout",
     "output_type": "stream",
     "text": [
      "Sum of the GL: 401866597.23\n",
      "Sum is equal to the sum of the TB: True\n"
     ]
    }
   ],
   "source": [
    "gl_tb_acc_debit = round(df_gl_tb_acc[\"credit_amount\"].sum(), 2)\n",
    "\n",
    "print(f\"Sum of the GL: {gl_tb_acc_debit}\")\n",
    "print(f\"Sum is equal to the sum of the TB: {gl_tb_acc_debit == round(df_tb['haben_periode_12'].sum(), 2)}\")"
   ]
  },
  {
   "attachments": {},
   "cell_type": "markdown",
   "id": "5b33701d",
   "metadata": {},
   "source": [
    "### Difference "
   ]
  },
  {
   "cell_type": "code",
   "execution_count": 150,
   "id": "be0c5a21",
   "metadata": {},
   "outputs": [
    {
     "name": "stdout",
     "output_type": "stream",
     "text": [
      "Credit: 401866597.23 Debit: 401866597.23 Diff: 0.0\n",
      "Credit 0.0 True\n",
      "Debit 0.0 False\n"
     ]
    }
   ],
   "source": [
    "# the difference is equal to the difference of the sum \n",
    "\n",
    "print(f\"Credit: {gl_tb_acc_credit} Debit: {gl_tb_acc_debit} Diff: {gl_tb_acc_debit - gl_tb_acc_credit}\")\n",
    "print(f\"Credit {round((df_tb['haben_periode_12'].sum() - gl_tb_acc_credit), 2)} {df_tb['haben_periode_12'].sum() - gl_tb_acc_credit == sum_diff_credit}\")\n",
    "print(f\"Debit {round((df_tb['soll_periode_12'].sum() - gl_tb_acc_debit), 2)} {df_tb['soll_periode_12'].sum() - gl_tb_acc_debit == sum_diff_credit}\")"
   ]
  },
  {
   "cell_type": "code",
   "execution_count": 151,
   "id": "87403f7e",
   "metadata": {},
   "outputs": [],
   "source": [
    "# summarize the results of the reconciliation of the GL only with TB accounts\n",
    "\n",
    "df_reconciliation_gl_tb_acc = pd.DataFrame({\"GL\": [gl_tb_acc_credit, gl_tb_acc_debit, gl_tb_acc_debit - gl_tb_acc_credit], \"TB\": [df_tb['soll_periode_12'].sum(), df_tb['haben_periode_12'].sum(), df_tb['haben_periode_12'].sum() - df_tb['soll_periode_12'].sum()]}, index=[\"Credit\", \"Debit\", \"Diff\"])\n",
    "\n",
    "df_reconciliation_gl_tb_acc.to_excel('./results/JB0/reconciliation_gl_tb_acc.xlsx', sheet_name='reconciliation w tb acc' ,index=True, header=True, float_format=\"%.2f\", engine='xlsxwriter')"
   ]
  },
  {
   "attachments": {},
   "cell_type": "markdown",
   "id": "5843a452",
   "metadata": {},
   "source": [
    "## JB 2: Number of transactions / preparer ID"
   ]
  },
  {
   "cell_type": "markdown",
   "id": "a7264c92",
   "metadata": {},
   "source": [
    "This report contains a summary of the total current period journal entry transactions by Account Class and the Preparer-ID over a defined time frame (for example, by month or period). Account Classes are defined by the user as an input parameter."
   ]
  },
  {
   "attachments": {},
   "cell_type": "markdown",
   "id": "ac41dcb4",
   "metadata": {},
   "source": [
    "### Total amounts per preparer ID"
   ]
  },
  {
   "cell_type": "code",
   "execution_count": 152,
   "id": "917380cb",
   "metadata": {},
   "outputs": [
    {
     "name": "stdout",
     "output_type": "stream",
     "text": [
      "Number users: 2\n",
      "Number users with difference: 2\n"
     ]
    },
    {
     "data": {
      "text/html": [
       "<div>\n",
       "<style scoped>\n",
       "    .dataframe tbody tr th:only-of-type {\n",
       "        vertical-align: middle;\n",
       "    }\n",
       "\n",
       "    .dataframe tbody tr th {\n",
       "        vertical-align: top;\n",
       "    }\n",
       "\n",
       "    .dataframe thead th {\n",
       "        text-align: right;\n",
       "    }\n",
       "</style>\n",
       "<table border=\"1\" class=\"dataframe\">\n",
       "  <thead>\n",
       "    <tr style=\"text-align: right;\">\n",
       "      <th>Name</th>\n",
       "      <th>user</th>\n",
       "      <th>debit_amount</th>\n",
       "      <th>credit_amount</th>\n",
       "      <th>diff</th>\n",
       "    </tr>\n",
       "  </thead>\n",
       "  <tbody>\n",
       "    <tr>\n",
       "      <th>0</th>\n",
       "      <td>lohnsdorf</td>\n",
       "      <td>1.346261e+08</td>\n",
       "      <td>1.330098e+08</td>\n",
       "      <td>1616292.47</td>\n",
       "    </tr>\n",
       "    <tr>\n",
       "      <th>1</th>\n",
       "      <td>hess</td>\n",
       "      <td>4.202088e+08</td>\n",
       "      <td>4.199522e+08</td>\n",
       "      <td>256618.70</td>\n",
       "    </tr>\n",
       "  </tbody>\n",
       "</table>\n",
       "</div>"
      ],
      "text/plain": [
       "Name       user  debit_amount  credit_amount        diff\n",
       "0     lohnsdorf  1.346261e+08   1.330098e+08  1616292.47\n",
       "1          hess  4.202088e+08   4.199522e+08   256618.70"
      ]
     },
     "execution_count": 152,
     "metadata": {},
     "output_type": "execute_result"
    }
   ],
   "source": [
    "# get the total debit amount per preparer ID \n",
    "\n",
    "df_userid_totals = df_gl.groupby([\"user\"])\n",
    "df_userid_totals = df_userid_totals[[\"debit_amount\", \"credit_amount\"]].sum().reset_index()\n",
    "df_userid_totals[\"diff\"] = df_userid_totals[\"debit_amount\"] - df_userid_totals[\"credit_amount\"]\n",
    "df_userid_totals = df_userid_totals.sort_values(by=[\"diff\"], ascending=False).reset_index(drop=True)\n",
    "\n",
    "df_userid_totals.to_excel(\"./results/JB2/userid_totals.xlsx\" , sheet_name='User ID totals' ,index=False, header=True, float_format=\"%.2f\", engine='xlsxwriter')\n",
    "\n",
    "print(f\"Number users: {len(df_userid_totals)}\")\n",
    "print(f\"Number users with difference: {len(df_userid_totals[df_userid_totals['diff'] != 0])}\")\n",
    "\n",
    "df_userid_totals"
   ]
  },
  {
   "attachments": {},
   "cell_type": "markdown",
   "id": "287998d7",
   "metadata": {},
   "source": [
    "### Debit amounts per preparer ID and account"
   ]
  },
  {
   "cell_type": "code",
   "execution_count": 153,
   "id": "dd8dabfe",
   "metadata": {},
   "outputs": [
    {
     "data": {
      "text/html": [
       "<div>\n",
       "<style scoped>\n",
       "    .dataframe tbody tr th:only-of-type {\n",
       "        vertical-align: middle;\n",
       "    }\n",
       "\n",
       "    .dataframe tbody tr th {\n",
       "        vertical-align: top;\n",
       "    }\n",
       "\n",
       "    .dataframe thead th {\n",
       "        text-align: right;\n",
       "    }\n",
       "</style>\n",
       "<table border=\"1\" class=\"dataframe\">\n",
       "  <thead>\n",
       "    <tr style=\"text-align: right;\">\n",
       "      <th></th>\n",
       "      <th>user</th>\n",
       "      <th>debit_account</th>\n",
       "      <th>soll</th>\n",
       "    </tr>\n",
       "  </thead>\n",
       "  <tbody>\n",
       "    <tr>\n",
       "      <th>0</th>\n",
       "      <td>hess</td>\n",
       "      <td>1600</td>\n",
       "      <td>53548310.57</td>\n",
       "    </tr>\n",
       "    <tr>\n",
       "      <th>1</th>\n",
       "      <td>hess</td>\n",
       "      <td>1400</td>\n",
       "      <td>41013226.98</td>\n",
       "    </tr>\n",
       "    <tr>\n",
       "      <th>2</th>\n",
       "      <td>hess</td>\n",
       "      <td>1210</td>\n",
       "      <td>28211447.62</td>\n",
       "    </tr>\n",
       "    <tr>\n",
       "      <th>3</th>\n",
       "      <td>hess</td>\n",
       "      <td>1200</td>\n",
       "      <td>28120290.96</td>\n",
       "    </tr>\n",
       "    <tr>\n",
       "      <th>4</th>\n",
       "      <td>hess</td>\n",
       "      <td>3425</td>\n",
       "      <td>22302711.15</td>\n",
       "    </tr>\n",
       "    <tr>\n",
       "      <th>...</th>\n",
       "      <td>...</td>\n",
       "      <td>...</td>\n",
       "      <td>...</td>\n",
       "    </tr>\n",
       "    <tr>\n",
       "      <th>2679</th>\n",
       "      <td>lohnsdorf</td>\n",
       "      <td>79999</td>\n",
       "      <td>0.00</td>\n",
       "    </tr>\n",
       "    <tr>\n",
       "      <th>2680</th>\n",
       "      <td>lohnsdorf</td>\n",
       "      <td>4281</td>\n",
       "      <td>-1034.58</td>\n",
       "    </tr>\n",
       "    <tr>\n",
       "      <th>2681</th>\n",
       "      <td>hess</td>\n",
       "      <td>4241</td>\n",
       "      <td>-2750.20</td>\n",
       "    </tr>\n",
       "    <tr>\n",
       "      <th>2682</th>\n",
       "      <td>lohnsdorf</td>\n",
       "      <td>4241</td>\n",
       "      <td>-4825.25</td>\n",
       "    </tr>\n",
       "    <tr>\n",
       "      <th>2683</th>\n",
       "      <td>lohnsdorf</td>\n",
       "      <td>4953</td>\n",
       "      <td>-6682.32</td>\n",
       "    </tr>\n",
       "  </tbody>\n",
       "</table>\n",
       "<p>2684 rows × 3 columns</p>\n",
       "</div>"
      ],
      "text/plain": [
       "           user debit_account         soll\n",
       "0          hess          1600  53548310.57\n",
       "1          hess          1400  41013226.98\n",
       "2          hess          1210  28211447.62\n",
       "3          hess          1200  28120290.96\n",
       "4          hess          3425  22302711.15\n",
       "...         ...           ...          ...\n",
       "2679  lohnsdorf         79999         0.00\n",
       "2680  lohnsdorf          4281     -1034.58\n",
       "2681       hess          4241     -2750.20\n",
       "2682  lohnsdorf          4241     -4825.25\n",
       "2683  lohnsdorf          4953     -6682.32\n",
       "\n",
       "[2684 rows x 3 columns]"
      ]
     },
     "execution_count": 153,
     "metadata": {},
     "output_type": "execute_result"
    }
   ],
   "source": [
    "# build account classes for the GL, since the account numbers are not summarized in subledgers \n",
    "\n",
    "\n",
    "# group all transactions by account class and user id\n",
    "df_acc_class_userid_debit = df_gl.groupby([\"user\", \"debit_account\"])\n",
    "\n",
    "# sum up the debit amounts for each account class and user id\n",
    "df_acc_class_userid_debit = df_acc_class_userid_debit[\"debit_amount\"].sum().reset_index()\n",
    "df_acc_class_userid_debit = df_acc_class_userid_debit.rename(columns={\"debit_amount\": \"soll\"})\n",
    "\n",
    "\n",
    "df_acc_class_userid_debit = df_acc_class_userid_debit.sort_values(by=[\"soll\"], ascending=False).reset_index(drop=True)\n",
    "\n",
    "df_acc_class_userid_debit.to_excel(\"./results/JB2/df_acc_class_userid_debit.xlsx\", sheet_name='Account class user ID debit' ,index=False, header=True, float_format=\"%.2f\", engine='xlsxwriter')\n",
    "\n",
    "df_acc_class_userid_debit"
   ]
  },
  {
   "attachments": {},
   "cell_type": "markdown",
   "id": "c50300d9",
   "metadata": {},
   "source": [
    "### Credit amounts per preparer ID and account"
   ]
  },
  {
   "cell_type": "code",
   "execution_count": 154,
   "id": "c637b0c0",
   "metadata": {},
   "outputs": [
    {
     "data": {
      "text/html": [
       "<div>\n",
       "<style scoped>\n",
       "    .dataframe tbody tr th:only-of-type {\n",
       "        vertical-align: middle;\n",
       "    }\n",
       "\n",
       "    .dataframe tbody tr th {\n",
       "        vertical-align: top;\n",
       "    }\n",
       "\n",
       "    .dataframe thead th {\n",
       "        text-align: right;\n",
       "    }\n",
       "</style>\n",
       "<table border=\"1\" class=\"dataframe\">\n",
       "  <thead>\n",
       "    <tr style=\"text-align: right;\">\n",
       "      <th></th>\n",
       "      <th>user</th>\n",
       "      <th>credit_account</th>\n",
       "      <th>haben</th>\n",
       "    </tr>\n",
       "  </thead>\n",
       "  <tbody>\n",
       "    <tr>\n",
       "      <th>0</th>\n",
       "      <td>hess</td>\n",
       "      <td>1600</td>\n",
       "      <td>52334067.28</td>\n",
       "    </tr>\n",
       "    <tr>\n",
       "      <th>1</th>\n",
       "      <td>hess</td>\n",
       "      <td>8125</td>\n",
       "      <td>44107496.44</td>\n",
       "    </tr>\n",
       "    <tr>\n",
       "      <th>2</th>\n",
       "      <td>hess</td>\n",
       "      <td>1400</td>\n",
       "      <td>41287943.06</td>\n",
       "    </tr>\n",
       "    <tr>\n",
       "      <th>3</th>\n",
       "      <td>hess</td>\n",
       "      <td>1210</td>\n",
       "      <td>28259683.40</td>\n",
       "    </tr>\n",
       "    <tr>\n",
       "      <th>4</th>\n",
       "      <td>hess</td>\n",
       "      <td>1200</td>\n",
       "      <td>26419730.28</td>\n",
       "    </tr>\n",
       "    <tr>\n",
       "      <th>5</th>\n",
       "      <td>hess</td>\n",
       "      <td>1220</td>\n",
       "      <td>15975654.28</td>\n",
       "    </tr>\n",
       "    <tr>\n",
       "      <th>6</th>\n",
       "      <td>lohnsdorf</td>\n",
       "      <td>1600</td>\n",
       "      <td>14193663.66</td>\n",
       "    </tr>\n",
       "    <tr>\n",
       "      <th>7</th>\n",
       "      <td>lohnsdorf</td>\n",
       "      <td>8125</td>\n",
       "      <td>14030008.22</td>\n",
       "    </tr>\n",
       "    <tr>\n",
       "      <th>8</th>\n",
       "      <td>lohnsdorf</td>\n",
       "      <td>1400</td>\n",
       "      <td>12125962.04</td>\n",
       "    </tr>\n",
       "    <tr>\n",
       "      <th>9</th>\n",
       "      <td>lohnsdorf</td>\n",
       "      <td>1200</td>\n",
       "      <td>9031309.44</td>\n",
       "    </tr>\n",
       "    <tr>\n",
       "      <th>10</th>\n",
       "      <td>hess</td>\n",
       "      <td>8120</td>\n",
       "      <td>8604912.89</td>\n",
       "    </tr>\n",
       "    <tr>\n",
       "      <th>11</th>\n",
       "      <td>hess</td>\n",
       "      <td>1476</td>\n",
       "      <td>7460902.99</td>\n",
       "    </tr>\n",
       "    <tr>\n",
       "      <th>12</th>\n",
       "      <td>hess</td>\n",
       "      <td>29998</td>\n",
       "      <td>7158611.07</td>\n",
       "    </tr>\n",
       "    <tr>\n",
       "      <th>13</th>\n",
       "      <td>hess</td>\n",
       "      <td>2502</td>\n",
       "      <td>6862362.88</td>\n",
       "    </tr>\n",
       "    <tr>\n",
       "      <th>14</th>\n",
       "      <td>hess</td>\n",
       "      <td>672</td>\n",
       "      <td>6562499.50</td>\n",
       "    </tr>\n",
       "    <tr>\n",
       "      <th>15</th>\n",
       "      <td>lohnsdorf</td>\n",
       "      <td>1210</td>\n",
       "      <td>6199225.48</td>\n",
       "    </tr>\n",
       "    <tr>\n",
       "      <th>16</th>\n",
       "      <td>hess</td>\n",
       "      <td>1360</td>\n",
       "      <td>5768271.71</td>\n",
       "    </tr>\n",
       "    <tr>\n",
       "      <th>17</th>\n",
       "      <td>hess</td>\n",
       "      <td>1471</td>\n",
       "      <td>5726242.01</td>\n",
       "    </tr>\n",
       "    <tr>\n",
       "      <th>18</th>\n",
       "      <td>hess</td>\n",
       "      <td>20320</td>\n",
       "      <td>5726242.01</td>\n",
       "    </tr>\n",
       "    <tr>\n",
       "      <th>19</th>\n",
       "      <td>hess</td>\n",
       "      <td>1763</td>\n",
       "      <td>5683367.09</td>\n",
       "    </tr>\n",
       "  </tbody>\n",
       "</table>\n",
       "</div>"
      ],
      "text/plain": [
       "         user credit_account        haben\n",
       "0        hess           1600  52334067.28\n",
       "1        hess           8125  44107496.44\n",
       "2        hess           1400  41287943.06\n",
       "3        hess           1210  28259683.40\n",
       "4        hess           1200  26419730.28\n",
       "5        hess           1220  15975654.28\n",
       "6   lohnsdorf           1600  14193663.66\n",
       "7   lohnsdorf           8125  14030008.22\n",
       "8   lohnsdorf           1400  12125962.04\n",
       "9   lohnsdorf           1200   9031309.44\n",
       "10       hess           8120   8604912.89\n",
       "11       hess           1476   7460902.99\n",
       "12       hess          29998   7158611.07\n",
       "13       hess           2502   6862362.88\n",
       "14       hess            672   6562499.50\n",
       "15  lohnsdorf           1210   6199225.48\n",
       "16       hess           1360   5768271.71\n",
       "17       hess           1471   5726242.01\n",
       "18       hess          20320   5726242.01\n",
       "19       hess           1763   5683367.09"
      ]
     },
     "execution_count": 154,
     "metadata": {},
     "output_type": "execute_result"
    }
   ],
   "source": [
    "# group all transactions by account class and user id\n",
    "df_acc_class_userid_credit = df_gl.groupby([\"user\", \"credit_account\"])\n",
    "\n",
    "# sum up the credit amounts for each account class and user id\n",
    "df_acc_class_userid_credit = df_acc_class_userid_credit[\"credit_amount\"].sum().reset_index()\n",
    "df_acc_class_userid_credit = df_acc_class_userid_credit.rename(columns={\"credit_amount\": \"haben\"})\n",
    "\n",
    "\n",
    "df_acc_class_userid_credit = df_acc_class_userid_credit.sort_values(by=[\"haben\"], ascending=False).reset_index(drop=True)\n",
    "\n",
    "df_acc_class_userid_credit.to_excel(\"./results/JB2/df_acc_class_userid_credit.xlsx\", sheet_name='Account class user ID credit' ,index=False, header=True, float_format=\"%.2f\", engine='xlsxwriter')\n",
    "\n",
    "df_acc_class_userid_credit.head(20)"
   ]
  },
  {
   "attachments": {},
   "cell_type": "markdown",
   "id": "6f828a04",
   "metadata": {},
   "source": [
    "## JB3: Transactions without the segregation of duties (SOD)"
   ]
  },
  {
   "cell_type": "markdown",
   "id": "b6ebfeff",
   "metadata": {},
   "source": [
    "This criterion was not performed as %application% does not have a provision for a second authorizer. Thus, the segregation of duties control is not applicable for this instance."
   ]
  },
  {
   "attachments": {},
   "cell_type": "markdown",
   "id": "f7212e5a",
   "metadata": {},
   "source": [
    "*Not applicable for Doneck Euroflex S.A.*"
   ]
  },
  {
   "attachments": {},
   "cell_type": "markdown",
   "id": "e6089947",
   "metadata": {},
   "source": [
    "## JB4: Transactions above a certain threshold (TE)"
   ]
  },
  {
   "cell_type": "markdown",
   "id": "bd98a841",
   "metadata": {},
   "source": [
    "This report has results of all journal entries greater or equal to a predefined threshold of %amount% euros."
   ]
  },
  {
   "cell_type": "code",
   "execution_count": 155,
   "id": "fc50f3ac",
   "metadata": {},
   "outputs": [
    {
     "data": {
      "text/html": [
       "<div>\n",
       "<style scoped>\n",
       "    .dataframe tbody tr th:only-of-type {\n",
       "        vertical-align: middle;\n",
       "    }\n",
       "\n",
       "    .dataframe tbody tr th {\n",
       "        vertical-align: top;\n",
       "    }\n",
       "\n",
       "    .dataframe thead th {\n",
       "        text-align: right;\n",
       "    }\n",
       "</style>\n",
       "<table border=\"1\" class=\"dataframe\">\n",
       "  <thead>\n",
       "    <tr style=\"text-align: right;\">\n",
       "      <th>Name</th>\n",
       "      <th>booking_nr</th>\n",
       "      <th>debit_account</th>\n",
       "      <th>credit_account</th>\n",
       "      <th>debit_amount</th>\n",
       "      <th>credit_amount</th>\n",
       "      <th>debit_account</th>\n",
       "      <th>credit_account</th>\n",
       "      <th>user</th>\n",
       "    </tr>\n",
       "  </thead>\n",
       "  <tbody>\n",
       "    <tr>\n",
       "      <th>0</th>\n",
       "      <td>505804</td>\n",
       "      <td>1210</td>\n",
       "      <td>NaN</td>\n",
       "      <td>1500000.00</td>\n",
       "      <td>NaN</td>\n",
       "      <td>1210</td>\n",
       "      <td>NaN</td>\n",
       "      <td>hess</td>\n",
       "    </tr>\n",
       "    <tr>\n",
       "      <th>1</th>\n",
       "      <td>505804</td>\n",
       "      <td>NaN</td>\n",
       "      <td>677</td>\n",
       "      <td>NaN</td>\n",
       "      <td>1500000.00</td>\n",
       "      <td>NaN</td>\n",
       "      <td>677</td>\n",
       "      <td>hess</td>\n",
       "    </tr>\n",
       "    <tr>\n",
       "      <th>2</th>\n",
       "      <td>531722</td>\n",
       "      <td>3980</td>\n",
       "      <td>NaN</td>\n",
       "      <td>4434869.22</td>\n",
       "      <td>NaN</td>\n",
       "      <td>3980</td>\n",
       "      <td>NaN</td>\n",
       "      <td>lohnsdorf</td>\n",
       "    </tr>\n",
       "    <tr>\n",
       "      <th>3</th>\n",
       "      <td>531722</td>\n",
       "      <td>NaN</td>\n",
       "      <td>3960</td>\n",
       "      <td>NaN</td>\n",
       "      <td>4434869.22</td>\n",
       "      <td>NaN</td>\n",
       "      <td>3960</td>\n",
       "      <td>lohnsdorf</td>\n",
       "    </tr>\n",
       "  </tbody>\n",
       "</table>\n",
       "</div>"
      ],
      "text/plain": [
       "Name booking_nr debit_account credit_account  debit_amount  credit_amount  \\\n",
       "0        505804          1210            NaN    1500000.00            NaN   \n",
       "1        505804           NaN            677           NaN     1500000.00   \n",
       "2        531722          3980            NaN    4434869.22            NaN   \n",
       "3        531722           NaN           3960           NaN     4434869.22   \n",
       "\n",
       "Name debit_account credit_account       user  \n",
       "0             1210            NaN       hess  \n",
       "1              NaN            677       hess  \n",
       "2             3980            NaN  lohnsdorf  \n",
       "3              NaN           3960  lohnsdorf  "
      ]
     },
     "execution_count": 155,
     "metadata": {},
     "output_type": "execute_result"
    }
   ],
   "source": [
    "# materiality threshold for the account classes\n",
    "materiality_threshold = 1_400_000\n",
    "\n",
    "# get all transactions above the materiality threshold\n",
    "df_trans_greater_te = df_gl.filter([\"booking_nr\", \"debit_account\", \"credit_account\", \"debit_amount\", \"credit_amount\", \"debit_account\", \"credit_account\", \"user\"]).loc[(df_gl[\"debit_amount\"] > materiality_threshold) | (df_gl[\"credit_amount\"] > materiality_threshold)].reset_index(drop=True)\n",
    "\n",
    "if df_trans_greater_te.empty == False:\n",
    "    df_trans_greater_te.to_excel('./results/JB4/transactions_greater_te.xlsx', sheet_name='Trans greater TE' ,index=False, header=True, float_format=\"%.2f\", engine='xlsxwriter')\n",
    "else:\n",
    "    with open('./results/JB4/no_transactions_greater_te.txt', 'w') as f:\n",
    "        f.write('No transactions greater than the materiality threshold')\n",
    "\n",
    "\n",
    "df_trans_greater_te"
   ]
  },
  {
   "attachments": {},
   "cell_type": "markdown",
   "id": "8e9be443",
   "metadata": {},
   "source": [
    "## JB5: Journal entries with unusual journal entry descriptions"
   ]
  },
  {
   "cell_type": "markdown",
   "id": "c76300eb",
   "metadata": {},
   "source": [
    "This report contains the entries with unusual description such as; \"REVERSAL\", \"CORR\", \"ANNUL\", \"CANCEL\", \"DEMAND\", \"SUIVANT\", \"ERROR\", \"FRAUD\", \"INVERSION\""
   ]
  },
  {
   "cell_type": "code",
   "execution_count": 156,
   "id": "54aa5b2e",
   "metadata": {},
   "outputs": [
    {
     "name": "stdout",
     "output_type": "stream",
     "text": [
      "Number of entries with unusual descriptions: 102\n"
     ]
    }
   ],
   "source": [
    "# create a list with unusual keywords for JE descriptions\n",
    "lib = [\"manual\", \"corr\", \"reversal\", \"error\", \"inversion\", \"gift\", \"charity\",\"fehler\", \"korrektur\", \"umkehrung\", \"schenkung\", \"spende\", \"storno\", \"stornierung\"]\n",
    "\n",
    "# check if the JE description contains an unusual keyword and calculate a correlation score for the likeliness \n",
    "df_unusual_trans_desc = df_gl.loc[df_gl[\"description\"].str.contains('|'.join(lib), case=False, na=False)]\n",
    "\n",
    "if df_unusual_trans_desc.empty == False:\n",
    "    df_unusual_trans_desc.to_excel('./results/JB5/unusual_trans_desc.xlsx', sheet_name='unusual desc' ,index=False, header=True, float_format=\"%.2f\", engine='xlsxwriter')\n",
    "else:\n",
    "    with open('./results/JB5/no_unusual_transactions_found.txt', 'w') as f:\n",
    "        f.write('No unusual transactions found')\n",
    "\n",
    "print(f\"Number of entries with unusual descriptions: {len(df_unusual_trans_desc)}\")"
   ]
  },
  {
   "attachments": {},
   "cell_type": "markdown",
   "id": "8f15cc64",
   "metadata": {},
   "source": [
    "## JB6: Journal entries outside the normal business cycle"
   ]
  },
  {
   "cell_type": "markdown",
   "id": "6bbf9576",
   "metadata": {},
   "source": [
    "This report has a list of all manual journal entries that were posted on weekends and on public holidays, for the period under review i.e. January 01, 2021 to December 31, 2021"
   ]
  },
  {
   "cell_type": "code",
   "execution_count": 157,
   "id": "9fdaec17",
   "metadata": {},
   "outputs": [
    {
     "name": "stdout",
     "output_type": "stream",
     "text": [
      "Number of entries on a weekend or holiday: 25074\n"
     ]
    },
    {
     "data": {
      "text/plain": [
       "(Name  booking_nr  line_nr document_date       document_nr debit_account  \\\n",
       " 0         483476        1    2021-01-01    R02289401 2022          4360   \n",
       " 1         483476        2    2021-01-01    R02289401 2022           NaN   \n",
       " 7         483993        2    2021-06-06  3022100219105-02           NaN   \n",
       " 8         483993        3    2021-06-06  3022100219105-02           NaN   \n",
       " 14        483453        1    2021-09-23    JSH210001-1209          3400   \n",
       " ...          ...      ...           ...               ...           ...   \n",
       " 87739     511655        4    2022-09-13        13.09.2022           NaN   \n",
       " 87745     511658        1    2022-09-13        13.09.2022         73102   \n",
       " 87746     511658        2    2022-09-13        13.09.2022          1600   \n",
       " 87752     511660        2    2022-09-13        13.09.2022          1600   \n",
       " 87753     511660        3    2022-09-13        13.09.2022           NaN   \n",
       " \n",
       " Name   debit_amount credit_account  credit_amount               description  \\\n",
       " 0             51.86            NaN            NaN        lalux - Leudelange   \n",
       " 1               NaN          72072          51.86        lalux - Leudelange   \n",
       " 7               NaN          71781        1533.05       BG RCI - Heidelberg   \n",
       " 8               NaN           1600        1533.05       BG RCI - Heidelberg   \n",
       " 14         39986.22            NaN            NaN      Sanhu - Nanjing (CN)   \n",
       " ...             ...            ...            ...                       ...   \n",
       " 87739           NaN           3725           0.51               TWH - TRIER   \n",
       " 87745         47.61            NaN            NaN      PANORD-MENSDORF (LU)   \n",
       " 87746         47.61            NaN            NaN      PANORD-MENSDORF (LU)   \n",
       " 87752      10063.25            NaN            NaN  V. ALEXANDER TRANSPORT-B   \n",
       " 87753           NaN           1200       10063.25  V. ALEXANDER TRANSPORT-B   \n",
       " \n",
       " Name  currency  user booking_date document_source  \n",
       " 0          EUR  hess   01/01/2022    stapelbuchen  \n",
       " 1          EUR  hess   02/01/2022    stapelbuchen  \n",
       " 7          EUR  hess   08/01/2022    stapelbuchen  \n",
       " 8          EUR  hess   09/01/2022    stapelbuchen  \n",
       " 14         USD  hess   15/01/2022    stapelbuchen  \n",
       " ...        ...   ...          ...             ...  \n",
       " 87739      EUR  hess   23/03/2262            fibu  \n",
       " 87745      EUR  hess   29/03/2262            fibu  \n",
       " 87746      EUR  hess   30/03/2262            fibu  \n",
       " 87752      EUR  hess   05/04/2262            fibu  \n",
       " 87753      EUR  hess   06/04/2262            fibu  \n",
       " \n",
       " [25074 rows x 13 columns],\n",
       " Name booking_nr  line_nr document_date     document_nr debit_account  \\\n",
       " 0        483476        1    2021-01-01  R02289401 2022          4360   \n",
       " 104      484762        1    2021-01-12        21125146          4281   \n",
       " 107      484762        4    2021-01-12        21125146           NaN   \n",
       " 120      489497        3    2021-02-12       OC 21234P           NaN   \n",
       " 128      485872        1    2021-09-12      9210340508          3400   \n",
       " 145      483247        3    2021-12-16      5300056563           NaN   \n",
       " 156      484679        1    2021-12-16             608           403   \n",
       " 173      487187        3    2021-12-16          101473           NaN   \n",
       " 226      483216        1    2021-12-23      9123391774          1563   \n",
       " 304      489699        3    2021-12-30          200992           NaN   \n",
       " 358      489504        3    2022-01-01  aufl. deb/kred           NaN   \n",
       " 359      494533        1    2022-01-01  aufl. deb/kred         79999   \n",
       " \n",
       " Name  debit_amount credit_account  credit_amount  \\\n",
       " 0            51.86            NaN            NaN   \n",
       " 104         558.40            NaN            NaN   \n",
       " 107            NaN           1600         653.33   \n",
       " 120            NaN           1600        9465.60   \n",
       " 128       28200.00            NaN            NaN   \n",
       " 145            NaN           1600        5290.02   \n",
       " 156        5693.20            NaN            NaN   \n",
       " 173            NaN           1600       75400.00   \n",
       " 226           5.61            NaN            NaN   \n",
       " 304            NaN           1600        5656.70   \n",
       " 358            NaN           1401       32950.65   \n",
       " 359         572.65            NaN            NaN   \n",
       " \n",
       " Name                              description currency  user booking_date  \\\n",
       " 0                          lalux - Leudelange      EUR  hess   01/01/2022   \n",
       " 104                          G4S - Luxembourg      EUR  hess   15/04/2022   \n",
       " 107                          G4S - Luxembourg      EUR  hess   18/04/2022   \n",
       " 120                       Nitro - Vienna (AT)      EUR  hess   01/05/2022   \n",
       " 128                Shiva Performance - Mumbai      EUR  hess   09/05/2022   \n",
       " 145                 Schenker - Leudelange (L)      EUR  hess   26/05/2022   \n",
       " 156                    Dentz-Stabile - Urbach      EUR  hess   06/06/2022   \n",
       " 173               Jaysynth Europe - Stockport      EUR  hess   23/06/2022   \n",
       " 226             Rubix - Trier (Kistenpfennig)      EUR  hess   15/08/2022   \n",
       " 304                   Brenntag - Deerlijk (B)      EUR  hess   01/11/2022   \n",
       " 358             aufl. debitorische Kreditoren      EUR  hess   25/12/2022   \n",
       " 359   aufl. debitorische Kreditoren, Nachtrag      EUR  hess   26/12/2022   \n",
       " \n",
       " Name document_source  \n",
       " 0       stapelbuchen  \n",
       " 104     stapelbuchen  \n",
       " 107     stapelbuchen  \n",
       " 120     stapelbuchen  \n",
       " 128     stapelbuchen  \n",
       " 145     stapelbuchen  \n",
       " 156     stapelbuchen  \n",
       " 173     stapelbuchen  \n",
       " 226     stapelbuchen  \n",
       " 304     stapelbuchen  \n",
       " 358     stapelbuchen  \n",
       " 359     stapelbuchen  ,\n",
       " ['2022-01-01',\n",
       "  '2022-04-15',\n",
       "  '2022-04-18',\n",
       "  '2022-05-01',\n",
       "  '2022-05-09',\n",
       "  '2022-05-26',\n",
       "  '2022-06-06',\n",
       "  '2022-06-23',\n",
       "  '2022-08-15',\n",
       "  '2022-11-01',\n",
       "  '2022-12-25',\n",
       "  '2022-12-26'])"
      ]
     },
     "execution_count": 157,
     "metadata": {},
     "output_type": "execute_result"
    }
   ],
   "source": [
    "# fetch list of public holidays and bank holidays for the provided country and year\n",
    "holidays = get_holidays(country='LU', year=2022)\n",
    "\n",
    "holiday_list = []\n",
    "\n",
    "if holidays is not None:\n",
    "    # create a list with all holidays in Luxembourg for the year 2022\n",
    "    for holiday in holidays:\n",
    "        holiday_list.append(holiday[\"date\"])\n",
    "\n",
    "\n",
    "# check if the JE date is a holiday in Luxembourg\n",
    "df_gl_holiday = df_gl.loc[pd.to_datetime(df_gl[\"booking_date\"], format='%d/%m/%Y', errors='coerce').dt.strftime('%Y-%m-%d').isin(holiday_list)]\n",
    "\n",
    "# check if the JE date is a weekend\n",
    "df_gl_weekend = df_gl.loc[pd.to_datetime(df_gl[\"booking_date\"], format='%d/%m/%Y', errors='coerce').dt.dayofweek > 4]\n",
    "\n",
    "# check if the JE date is a weekend or a holiday\n",
    "df_gl_weekend_holiday = df_gl.loc[(pd.to_datetime(df_gl[\"booking_date\"], format='%d/%m/%Y', errors='coerce').dt.dayofweek > 4) | (df_gl[\"booking_date\"].isin(holiday_list))]\n",
    "df_gl_weekend_holiday = df_gl_weekend_holiday.reset_index(drop=True)\n",
    "\n",
    "if df_gl_weekend_holiday.empty == False:\n",
    "    df_gl_weekend_holiday.to_excel('./results/JB6/weekend_holiday.xlsx', sheet_name='weekend holiday' ,index=False, header=True, float_format=\"%.2f\", engine='xlsxwriter')\n",
    "else:\n",
    "    with open('./results/JB6/no_weekend_holiday.txt', 'w') as f:\n",
    "        f.write('No entries on a weekend or holiday')\n",
    "\n",
    "print(f\"Number of entries on a weekend or holiday: {len(df_gl_weekend_holiday)}\")\n",
    "\n",
    "df_gl_weekend, df_gl_holiday, holiday_list"
   ]
  },
  {
   "attachments": {},
   "cell_type": "markdown",
   "id": "8343f4da",
   "metadata": {},
   "source": [
    "## JB7: Transactions with the same amount"
   ]
  },
  {
   "cell_type": "markdown",
   "id": "3876985a",
   "metadata": {},
   "source": [
    "Report has journal entries that have the same amounts posted, or they are similar."
   ]
  },
  {
   "cell_type": "code",
   "execution_count": 158,
   "id": "a7b54e0a",
   "metadata": {},
   "outputs": [],
   "source": [
    "# filter all transactions with the same amount \n",
    "df_same_amount = df_gl.loc[(df_gl[\"debit_amount\"] == df_gl[\"credit_amount\"]) & (df_gl[\"debit_amount\"] != 0) & (df_gl[\"credit_amount\"] != 0)]\n",
    "df_same_amount = df_same_amount.reset_index(drop=True)\n",
    "\n",
    "# filter all transactions with the same amount and the same account number\n",
    "df_same_amount_acc = df_gl.loc[(df_gl[\"debit_amount\"] == df_gl[\"credit_amount\"]) & (df_gl[\"debit_amount\"] != 0) & (df_gl[\"credit_amount\"] != 0) & (df_gl[\"debit_account\"].astype(str) == df_gl[\"credit_account\"].astype(str))]\n",
    "df_same_amount_acc = df_same_amount_acc.reset_index(drop=True)\n",
    "\n",
    "if df_same_amount.empty == False:\n",
    "    df_same_amount.to_excel('./results/JB7/same_amounts.xlsx', sheet_name='same amounts' ,index=False, header=True, float_format=\"%.2f\", engine='xlsxwriter')\n",
    "else:\n",
    "    with open('./results/JB7/no_same_amounts.txt', 'w') as f:\n",
    "        f.write('No transactions with the same amount')\n",
    "        \n",
    "if df_same_amount_acc.empty == False:\n",
    "    df_same_amount_acc.to_excel('./results/JB7/same_amounts_acc.xlsx', sheet_name='same amounts acc' ,index=False, header=True, float_format=\"%.2f\", engine='xlsxwriter')\n",
    "else:\n",
    "    with open('./results/JB7/no_same_amounts_acc.txt', 'w') as f:\n",
    "        f.write('No transactions with the same amount and account number')"
   ]
  },
  {
   "attachments": {},
   "cell_type": "markdown",
   "id": "75eba89a",
   "metadata": {},
   "source": [
    "## JB8: Duplicate entries, documents, or payments"
   ]
  },
  {
   "cell_type": "markdown",
   "id": "77e72cd8",
   "metadata": {},
   "source": [
    "The report shows all duplicate manual journals posted for the period under review."
   ]
  },
  {
   "cell_type": "code",
   "execution_count": 159,
   "id": "df951e78",
   "metadata": {},
   "outputs": [
    {
     "name": "stdout",
     "output_type": "stream",
     "text": [
      "Number of batch booking entries: 85704"
     ]
    },
    {
     "name": "stdout",
     "output_type": "stream",
     "text": [
      "\n",
      "Number of batch booking entries with the same amount: 0\n",
      "Number of batch booking entries with the same description: 67363\n"
     ]
    }
   ],
   "source": [
    "# create dataframe only with batch_booking journal entries\n",
    "df_batch_booking_entries = df_gl.loc[df_gl[\"document_source\"].str.lower() == \"stapelbuchen\"]\n",
    "df_batch_booking_entries = df_batch_booking_entries.reset_index(drop=True)\n",
    "\n",
    "print(f\"Number of batch booking entries: {len(df_batch_booking_entries)}\")\n",
    "\n",
    "# filter all batch_booking transactions with the same amount\n",
    "df_batch_booking_same_amount = df_batch_booking_entries.loc[(df_batch_booking_entries[\"debit_amount\"] == df_batch_booking_entries[\"credit_amount\"])]\n",
    "df_batch_booking_same_amount = df_batch_booking_same_amount.reset_index(drop=True)\n",
    "\n",
    "print(f\"Number of batch booking entries with the same amount: {len(df_batch_booking_same_amount)}\")\n",
    "\n",
    "if df_batch_booking_same_amount.empty == False:\n",
    "    df_batch_booking_same_amount.to_excel('./results/JB8/batch_booking_same_amounts.xlsx', index=False)\n",
    "else :\n",
    "    with open('./results/JB8/no_batch_booking_entries_with_same_amount.txt', 'w') as f:\n",
    "        f.write('No batch_booking entries with the same amount were found.')\n",
    "\n",
    "# filter all batch_booking transactions with the same description\n",
    "df_batch_booking_same_desc = df_batch_booking_entries.loc[(df_batch_booking_entries[\"description\"].str.lower() == df_batch_booking_entries[\"description\"].str.lower().shift(-1)) & (df_batch_booking_entries[\"description\"].str.lower() != \"nan\")]\n",
    "df_batch_booking_same_desc = df_batch_booking_same_desc.reset_index(drop=True)\n",
    "\n",
    "print(f\"Number of batch booking entries with the same description: {len(df_batch_booking_same_desc)}\")\n",
    "\n",
    "if df_batch_booking_same_desc.empty == False:\n",
    "    df_batch_booking_same_desc.to_excel('./results/JB8/batch_booking_same_desc.xlsx', sheet_name='batch booking same desc' ,index=False, header=True, float_format=\"%.2f\", engine='xlsxwriter')\n",
    "else :\n",
    "    with open('./results/JB8/no_batch_booking_entries_with_same_desc.txt', 'w') as f:\n",
    "        f.write('No batch_booking entries with the same description were found.')"
   ]
  },
  {
   "cell_type": "code",
   "execution_count": 160,
   "id": "3ee0f795",
   "metadata": {},
   "outputs": [],
   "source": [
    "# group by account number and sum the amounts\n",
    "df_batch_booking_entries_debit = df_batch_booking_entries.groupby([\"debit_account\"]).agg({\"debit_amount\": \"sum\", \"credit_amount\": \"sum\"}).reset_index()\n",
    "df_batch_booking_entries_credit = df_batch_booking_entries.groupby([\"credit_account\"]).agg({\"debit_amount\": \"sum\", \"credit_amount\": \"sum\"}).reset_index()\n",
    "\n",
    "df_batch_booking_entries_debit = df_batch_booking_entries_debit.rename(columns={\"debit_account\": \"account_number\", \"debit_amount\": \"debit_amount\", \"credit_amount\": \"credit_amount\"})\n",
    "df_batch_booking_entries_credit = df_batch_booking_entries_credit.rename(columns={\"credit_account\": \"account_number\", \"debit_amount\": \"debit_amount\", \"credit_amount\": \"credit_amount\"})\n",
    "\n",
    "if df_batch_booking_entries_debit.empty == False:\n",
    "    df_batch_booking_entries_debit.to_excel('./results/JB8/batch_booking_entries_debit.xlsx', sheet_name='batch booking entries debit' ,index=False, header=True, float_format=\"%.2f\", engine='xlsxwriter')\n",
    "else :  \n",
    "    with open('./results/JB8/no_batch_booking_entries_debit.txt', 'w') as f:\n",
    "        f.write('No batch_booking entries with debit were found.')\n",
    "\n",
    "if df_batch_booking_entries_credit.empty == False:\n",
    "    df_batch_booking_entries_credit.to_excel('./results/JB8/batch_booking_entries_credit.xlsx', sheet_name='batch booking entries credit' ,index=False, header=True, float_format=\"%.2f\", engine='xlsxwriter')\n",
    "else :\n",
    "    with open('./results/JB8/no_batch_booking_entries_credit.txt', 'w') as f:\n",
    "        f.write('No batch_booking entries with credit were found.')\n",
    "        "
   ]
  },
  {
   "cell_type": "code",
   "execution_count": 161,
   "id": "199b4942",
   "metadata": {},
   "outputs": [
    {
     "name": "stdout",
     "output_type": "stream",
     "text": [
      "Number of manual entries: 38003\n",
      "Number of manual entries with the same amount: 0\n",
      "Number of manual entries with the same description: 29688\n"
     ]
    },
    {
     "data": {
      "text/html": [
       "<div>\n",
       "<style scoped>\n",
       "    .dataframe tbody tr th:only-of-type {\n",
       "        vertical-align: middle;\n",
       "    }\n",
       "\n",
       "    .dataframe tbody tr th {\n",
       "        vertical-align: top;\n",
       "    }\n",
       "\n",
       "    .dataframe thead th {\n",
       "        text-align: right;\n",
       "    }\n",
       "</style>\n",
       "<table border=\"1\" class=\"dataframe\">\n",
       "  <thead>\n",
       "    <tr style=\"text-align: right;\">\n",
       "      <th>Name</th>\n",
       "      <th>booking_nr</th>\n",
       "      <th>line_nr</th>\n",
       "      <th>document_date</th>\n",
       "      <th>document_nr</th>\n",
       "      <th>debit_account</th>\n",
       "      <th>debit_amount</th>\n",
       "      <th>credit_account</th>\n",
       "      <th>credit_amount</th>\n",
       "      <th>description</th>\n",
       "      <th>currency</th>\n",
       "      <th>user</th>\n",
       "      <th>booking_date</th>\n",
       "      <th>document_source</th>\n",
       "    </tr>\n",
       "  </thead>\n",
       "  <tbody>\n",
       "    <tr>\n",
       "      <th>0</th>\n",
       "      <td>510377</td>\n",
       "      <td>1</td>\n",
       "      <td>2022-08-25</td>\n",
       "      <td>2208354</td>\n",
       "      <td>10122</td>\n",
       "      <td>3335.50</td>\n",
       "      <td>NaN</td>\n",
       "      <td>NaN</td>\n",
       "      <td>Brohl - Mayen (DE)</td>\n",
       "      <td>EUR</td>\n",
       "      <td>hess</td>\n",
       "      <td>30/06/2246</td>\n",
       "      <td>fibu</td>\n",
       "    </tr>\n",
       "    <tr>\n",
       "      <th>1</th>\n",
       "      <td>510377</td>\n",
       "      <td>2</td>\n",
       "      <td>2022-08-25</td>\n",
       "      <td>2208354</td>\n",
       "      <td>1400</td>\n",
       "      <td>3335.50</td>\n",
       "      <td>NaN</td>\n",
       "      <td>NaN</td>\n",
       "      <td>Brohl - Mayen (DE)</td>\n",
       "      <td>EUR</td>\n",
       "      <td>hess</td>\n",
       "      <td>01/07/2246</td>\n",
       "      <td>fibu</td>\n",
       "    </tr>\n",
       "    <tr>\n",
       "      <th>2</th>\n",
       "      <td>510378</td>\n",
       "      <td>1</td>\n",
       "      <td>2022-08-25</td>\n",
       "      <td>2208353</td>\n",
       "      <td>11810</td>\n",
       "      <td>8137.60</td>\n",
       "      <td>NaN</td>\n",
       "      <td>NaN</td>\n",
       "      <td>Bong BDT - Torgau (DE)</td>\n",
       "      <td>EUR</td>\n",
       "      <td>hess</td>\n",
       "      <td>03/07/2246</td>\n",
       "      <td>fibu</td>\n",
       "    </tr>\n",
       "    <tr>\n",
       "      <th>3</th>\n",
       "      <td>510378</td>\n",
       "      <td>2</td>\n",
       "      <td>2022-08-25</td>\n",
       "      <td>2208353</td>\n",
       "      <td>1400</td>\n",
       "      <td>8137.60</td>\n",
       "      <td>NaN</td>\n",
       "      <td>NaN</td>\n",
       "      <td>Bong BDT - Torgau (DE)</td>\n",
       "      <td>EUR</td>\n",
       "      <td>hess</td>\n",
       "      <td>04/07/2246</td>\n",
       "      <td>fibu</td>\n",
       "    </tr>\n",
       "    <tr>\n",
       "      <th>4</th>\n",
       "      <td>510379</td>\n",
       "      <td>1</td>\n",
       "      <td>2022-08-25</td>\n",
       "      <td>2208352</td>\n",
       "      <td>12215</td>\n",
       "      <td>5797.65</td>\n",
       "      <td>NaN</td>\n",
       "      <td>NaN</td>\n",
       "      <td>PEKU Folien GmbH - Neumarkt (DE)</td>\n",
       "      <td>EUR</td>\n",
       "      <td>hess</td>\n",
       "      <td>06/07/2246</td>\n",
       "      <td>fibu</td>\n",
       "    </tr>\n",
       "    <tr>\n",
       "      <th>...</th>\n",
       "      <td>...</td>\n",
       "      <td>...</td>\n",
       "      <td>...</td>\n",
       "      <td>...</td>\n",
       "      <td>...</td>\n",
       "      <td>...</td>\n",
       "      <td>...</td>\n",
       "      <td>...</td>\n",
       "      <td>...</td>\n",
       "      <td>...</td>\n",
       "      <td>...</td>\n",
       "      <td>...</td>\n",
       "      <td>...</td>\n",
       "    </tr>\n",
       "    <tr>\n",
       "      <th>29683</th>\n",
       "      <td>521826</td>\n",
       "      <td>1</td>\n",
       "      <td>2022-12-20</td>\n",
       "      <td>244</td>\n",
       "      <td>1210</td>\n",
       "      <td>4215.50</td>\n",
       "      <td>NaN</td>\n",
       "      <td>NaN</td>\n",
       "      <td>Enovos - Luxembourg</td>\n",
       "      <td>EUR</td>\n",
       "      <td>lohnsdorf</td>\n",
       "      <td>09/07/2350</td>\n",
       "      <td>fibu</td>\n",
       "    </tr>\n",
       "    <tr>\n",
       "      <th>29684</th>\n",
       "      <td>521826</td>\n",
       "      <td>2</td>\n",
       "      <td>2022-12-20</td>\n",
       "      <td>244</td>\n",
       "      <td>NaN</td>\n",
       "      <td>NaN</td>\n",
       "      <td>70640</td>\n",
       "      <td>4215.50</td>\n",
       "      <td>Enovos - Luxembourg</td>\n",
       "      <td>EUR</td>\n",
       "      <td>lohnsdorf</td>\n",
       "      <td>10/07/2350</td>\n",
       "      <td>fibu</td>\n",
       "    </tr>\n",
       "    <tr>\n",
       "      <th>29685</th>\n",
       "      <td>521827</td>\n",
       "      <td>1</td>\n",
       "      <td>2022-12-20</td>\n",
       "      <td>244</td>\n",
       "      <td>1210</td>\n",
       "      <td>5329.73</td>\n",
       "      <td>NaN</td>\n",
       "      <td>NaN</td>\n",
       "      <td>Marco Emballages - Saint-Python (FR)</td>\n",
       "      <td>EUR</td>\n",
       "      <td>lohnsdorf</td>\n",
       "      <td>12/07/2350</td>\n",
       "      <td>fibu</td>\n",
       "    </tr>\n",
       "    <tr>\n",
       "      <th>29686</th>\n",
       "      <td>521827</td>\n",
       "      <td>2</td>\n",
       "      <td>2022-12-20</td>\n",
       "      <td>244</td>\n",
       "      <td>NaN</td>\n",
       "      <td>NaN</td>\n",
       "      <td>21259</td>\n",
       "      <td>5329.73</td>\n",
       "      <td>Marco Emballages - Saint-Python (FR)</td>\n",
       "      <td>EUR</td>\n",
       "      <td>lohnsdorf</td>\n",
       "      <td>13/07/2350</td>\n",
       "      <td>fibu</td>\n",
       "    </tr>\n",
       "    <tr>\n",
       "      <th>29687</th>\n",
       "      <td>521828</td>\n",
       "      <td>1</td>\n",
       "      <td>2022-12-20</td>\n",
       "      <td>244</td>\n",
       "      <td>1210</td>\n",
       "      <td>7145.15</td>\n",
       "      <td>NaN</td>\n",
       "      <td>NaN</td>\n",
       "      <td>FLO Europe Sas - Ruitz (FR)</td>\n",
       "      <td>EUR</td>\n",
       "      <td>lohnsdorf</td>\n",
       "      <td>15/07/2350</td>\n",
       "      <td>fibu</td>\n",
       "    </tr>\n",
       "  </tbody>\n",
       "</table>\n",
       "<p>29688 rows × 13 columns</p>\n",
       "</div>"
      ],
      "text/plain": [
       "Name  booking_nr  line_nr document_date document_nr debit_account  \\\n",
       "0         510377        1    2022-08-25     2208354         10122   \n",
       "1         510377        2    2022-08-25     2208354          1400   \n",
       "2         510378        1    2022-08-25     2208353         11810   \n",
       "3         510378        2    2022-08-25     2208353          1400   \n",
       "4         510379        1    2022-08-25     2208352         12215   \n",
       "...          ...      ...           ...         ...           ...   \n",
       "29683     521826        1    2022-12-20         244          1210   \n",
       "29684     521826        2    2022-12-20         244           NaN   \n",
       "29685     521827        1    2022-12-20         244          1210   \n",
       "29686     521827        2    2022-12-20         244           NaN   \n",
       "29687     521828        1    2022-12-20         244          1210   \n",
       "\n",
       "Name   debit_amount credit_account  credit_amount  \\\n",
       "0           3335.50            NaN            NaN   \n",
       "1           3335.50            NaN            NaN   \n",
       "2           8137.60            NaN            NaN   \n",
       "3           8137.60            NaN            NaN   \n",
       "4           5797.65            NaN            NaN   \n",
       "...             ...            ...            ...   \n",
       "29683       4215.50            NaN            NaN   \n",
       "29684           NaN          70640        4215.50   \n",
       "29685       5329.73            NaN            NaN   \n",
       "29686           NaN          21259        5329.73   \n",
       "29687       7145.15            NaN            NaN   \n",
       "\n",
       "Name                            description currency       user booking_date  \\\n",
       "0                        Brohl - Mayen (DE)      EUR       hess   30/06/2246   \n",
       "1                        Brohl - Mayen (DE)      EUR       hess   01/07/2246   \n",
       "2                    Bong BDT - Torgau (DE)      EUR       hess   03/07/2246   \n",
       "3                    Bong BDT - Torgau (DE)      EUR       hess   04/07/2246   \n",
       "4          PEKU Folien GmbH - Neumarkt (DE)      EUR       hess   06/07/2246   \n",
       "...                                     ...      ...        ...          ...   \n",
       "29683                   Enovos - Luxembourg      EUR  lohnsdorf   09/07/2350   \n",
       "29684                   Enovos - Luxembourg      EUR  lohnsdorf   10/07/2350   \n",
       "29685  Marco Emballages - Saint-Python (FR)      EUR  lohnsdorf   12/07/2350   \n",
       "29686  Marco Emballages - Saint-Python (FR)      EUR  lohnsdorf   13/07/2350   \n",
       "29687           FLO Europe Sas - Ruitz (FR)      EUR  lohnsdorf   15/07/2350   \n",
       "\n",
       "Name  document_source  \n",
       "0                fibu  \n",
       "1                fibu  \n",
       "2                fibu  \n",
       "3                fibu  \n",
       "4                fibu  \n",
       "...               ...  \n",
       "29683            fibu  \n",
       "29684            fibu  \n",
       "29685            fibu  \n",
       "29686            fibu  \n",
       "29687            fibu  \n",
       "\n",
       "[29688 rows x 13 columns]"
      ]
     },
     "execution_count": 161,
     "metadata": {},
     "output_type": "execute_result"
    }
   ],
   "source": [
    "# create dataframe only with manual journal entries\n",
    "df_manual_booking_entries = df_gl.loc[df_gl[\"document_source\"].str.lower() != \"stapelbuchen\"]\n",
    "df_manual_booking_entries = df_manual_booking_entries.reset_index(drop=True)\n",
    "\n",
    "print(f\"Number of manual entries: {len(df_manual_booking_entries)}\")\n",
    "\n",
    "# filter all manual_bookingly created transactions with the same amount\n",
    "df_manual_booking_same_amount = df_manual_booking_entries.loc[(df_manual_booking_entries[\"debit_amount\"] == df_manual_booking_entries[\"credit_amount\"])]\n",
    "df_manual_booking_same_amount = df_manual_booking_same_amount.reset_index(drop=True)\n",
    "\n",
    "print(f\"Number of manual entries with the same amount: {len(df_manual_booking_same_amount)}\")\n",
    "\n",
    "if df_manual_booking_same_amount.empty == False:\n",
    "    df_manual_booking_same_amount.to_excel('./results/JB8/manual_booking_same_amounts.xlsx', sheet_name='manual booking same amounts' ,index=False, header=True, float_format=\"%.2f\", engine='xlsxwriter')\n",
    "else :\n",
    "    with open('./results/JB8/no_manual_booking_entries_with_same_amount.txt', 'w') as f:\n",
    "        f.write('No manual entries with the same amount were found.')\n",
    "\n",
    "# filter all manual_bookingly created transactions with the same description\n",
    "df_manual_booking_same_desc = df_manual_booking_entries.loc[(df_manual_booking_entries[\"description\"].str.lower() == df_manual_booking_entries[\"description\"].str.lower().shift(-1)) & (df_manual_booking_entries[\"description\"].str.lower() != \"nan\")]\n",
    "df_manual_booking_same_desc = df_manual_booking_same_desc.reset_index(drop=True)\n",
    "\n",
    "print(f\"Number of manual entries with the same description: {len(df_manual_booking_same_desc)}\")\n",
    "\n",
    "if df_manual_booking_same_desc.empty == False:\n",
    "    df_manual_booking_same_desc.to_excel('./results/JB8/manual_booking_same_desc.xlsx', sheet_name='manual booking same desc' ,index=False, header=True, float_format=\"%.2f\", engine='xlsxwriter')\n",
    "else :\n",
    "    with open('./results/JB8/no_manual_booking_entries_with_same_desc.txt', 'w') as f:\n",
    "        f.write('No manual entries with the same description were found.')\n",
    "\n",
    "df_manual_booking_same_desc"
   ]
  },
  {
   "attachments": {},
   "cell_type": "markdown",
   "id": "d0822254",
   "metadata": {},
   "source": [
    "## JB9: Unusual pair of account numbers\n"
   ]
  },
  {
   "cell_type": "markdown",
   "id": "5892c914",
   "metadata": {},
   "source": [
    "The report highlights journals posted to unusual accounts as specified by the Financial Audit team."
   ]
  },
  {
   "attachments": {},
   "cell_type": "markdown",
   "id": "c75fb507",
   "metadata": {},
   "source": [
    "## JB10: Journal entry records missing while identifying manual journal entries"
   ]
  },
  {
   "cell_type": "markdown",
   "id": "aa879843",
   "metadata": {},
   "source": [
    "Considering that we removed all automated journal entries from the population to be used for the analysis, we could not then therefore perform this analysis as the sequencing is distorted."
   ]
  },
  {
   "cell_type": "code",
   "execution_count": 162,
   "id": "0a9b6c50",
   "metadata": {},
   "outputs": [
    {
     "data": {
      "text/html": [
       "<div>\n",
       "<style scoped>\n",
       "    .dataframe tbody tr th:only-of-type {\n",
       "        vertical-align: middle;\n",
       "    }\n",
       "\n",
       "    .dataframe tbody tr th {\n",
       "        vertical-align: top;\n",
       "    }\n",
       "\n",
       "    .dataframe thead th {\n",
       "        text-align: right;\n",
       "    }\n",
       "</style>\n",
       "<table border=\"1\" class=\"dataframe\">\n",
       "  <thead>\n",
       "    <tr style=\"text-align: right;\">\n",
       "      <th>Name</th>\n",
       "      <th>booking_nr</th>\n",
       "      <th>line_nr</th>\n",
       "      <th>document_date</th>\n",
       "      <th>document_nr</th>\n",
       "      <th>debit_account</th>\n",
       "      <th>debit_amount</th>\n",
       "      <th>credit_account</th>\n",
       "      <th>credit_amount</th>\n",
       "      <th>description</th>\n",
       "      <th>currency</th>\n",
       "      <th>user</th>\n",
       "      <th>booking_date</th>\n",
       "      <th>document_source</th>\n",
       "    </tr>\n",
       "  </thead>\n",
       "  <tbody>\n",
       "    <tr>\n",
       "      <th>0</th>\n",
       "      <td>510376</td>\n",
       "      <td>3</td>\n",
       "      <td>2022-08-25</td>\n",
       "      <td>2208355</td>\n",
       "      <td>NaN</td>\n",
       "      <td>NaN</td>\n",
       "      <td>8125</td>\n",
       "      <td>9372.70</td>\n",
       "      <td>Model - Berka (DE)</td>\n",
       "      <td>EUR</td>\n",
       "      <td>hess</td>\n",
       "      <td>29/06/2246</td>\n",
       "      <td>fibu</td>\n",
       "    </tr>\n",
       "    <tr>\n",
       "      <th>1</th>\n",
       "      <td>510377</td>\n",
       "      <td>1</td>\n",
       "      <td>2022-08-25</td>\n",
       "      <td>2208354</td>\n",
       "      <td>10122</td>\n",
       "      <td>3335.50</td>\n",
       "      <td>NaN</td>\n",
       "      <td>NaN</td>\n",
       "      <td>Brohl - Mayen (DE)</td>\n",
       "      <td>EUR</td>\n",
       "      <td>hess</td>\n",
       "      <td>30/06/2246</td>\n",
       "      <td>fibu</td>\n",
       "    </tr>\n",
       "    <tr>\n",
       "      <th>2</th>\n",
       "      <td>510377</td>\n",
       "      <td>2</td>\n",
       "      <td>2022-08-25</td>\n",
       "      <td>2208354</td>\n",
       "      <td>1400</td>\n",
       "      <td>3335.50</td>\n",
       "      <td>NaN</td>\n",
       "      <td>NaN</td>\n",
       "      <td>Brohl - Mayen (DE)</td>\n",
       "      <td>EUR</td>\n",
       "      <td>hess</td>\n",
       "      <td>01/07/2246</td>\n",
       "      <td>fibu</td>\n",
       "    </tr>\n",
       "    <tr>\n",
       "      <th>3</th>\n",
       "      <td>510377</td>\n",
       "      <td>3</td>\n",
       "      <td>2022-08-25</td>\n",
       "      <td>2208354</td>\n",
       "      <td>NaN</td>\n",
       "      <td>NaN</td>\n",
       "      <td>8125</td>\n",
       "      <td>3335.50</td>\n",
       "      <td>Brohl - Mayen (DE)</td>\n",
       "      <td>EUR</td>\n",
       "      <td>hess</td>\n",
       "      <td>02/07/2246</td>\n",
       "      <td>fibu</td>\n",
       "    </tr>\n",
       "    <tr>\n",
       "      <th>4</th>\n",
       "      <td>510378</td>\n",
       "      <td>1</td>\n",
       "      <td>2022-08-25</td>\n",
       "      <td>2208353</td>\n",
       "      <td>11810</td>\n",
       "      <td>8137.60</td>\n",
       "      <td>NaN</td>\n",
       "      <td>NaN</td>\n",
       "      <td>Bong BDT - Torgau (DE)</td>\n",
       "      <td>EUR</td>\n",
       "      <td>hess</td>\n",
       "      <td>03/07/2246</td>\n",
       "      <td>fibu</td>\n",
       "    </tr>\n",
       "    <tr>\n",
       "      <th>...</th>\n",
       "      <td>...</td>\n",
       "      <td>...</td>\n",
       "      <td>...</td>\n",
       "      <td>...</td>\n",
       "      <td>...</td>\n",
       "      <td>...</td>\n",
       "      <td>...</td>\n",
       "      <td>...</td>\n",
       "      <td>...</td>\n",
       "      <td>...</td>\n",
       "      <td>...</td>\n",
       "      <td>...</td>\n",
       "      <td>...</td>\n",
       "    </tr>\n",
       "    <tr>\n",
       "      <th>37998</th>\n",
       "      <td>521827</td>\n",
       "      <td>1</td>\n",
       "      <td>2022-12-20</td>\n",
       "      <td>244</td>\n",
       "      <td>1210</td>\n",
       "      <td>5329.73</td>\n",
       "      <td>NaN</td>\n",
       "      <td>NaN</td>\n",
       "      <td>Marco Emballages - Saint-Python (FR)</td>\n",
       "      <td>EUR</td>\n",
       "      <td>lohnsdorf</td>\n",
       "      <td>12/07/2350</td>\n",
       "      <td>fibu</td>\n",
       "    </tr>\n",
       "    <tr>\n",
       "      <th>37999</th>\n",
       "      <td>521827</td>\n",
       "      <td>2</td>\n",
       "      <td>2022-12-20</td>\n",
       "      <td>244</td>\n",
       "      <td>NaN</td>\n",
       "      <td>NaN</td>\n",
       "      <td>21259</td>\n",
       "      <td>5329.73</td>\n",
       "      <td>Marco Emballages - Saint-Python (FR)</td>\n",
       "      <td>EUR</td>\n",
       "      <td>lohnsdorf</td>\n",
       "      <td>13/07/2350</td>\n",
       "      <td>fibu</td>\n",
       "    </tr>\n",
       "    <tr>\n",
       "      <th>38000</th>\n",
       "      <td>521827</td>\n",
       "      <td>3</td>\n",
       "      <td>2022-12-20</td>\n",
       "      <td>244</td>\n",
       "      <td>NaN</td>\n",
       "      <td>NaN</td>\n",
       "      <td>1400</td>\n",
       "      <td>5329.73</td>\n",
       "      <td>Marco Emballages - Saint-Python (FR)</td>\n",
       "      <td>EUR</td>\n",
       "      <td>lohnsdorf</td>\n",
       "      <td>14/07/2350</td>\n",
       "      <td>fibu</td>\n",
       "    </tr>\n",
       "    <tr>\n",
       "      <th>38001</th>\n",
       "      <td>521828</td>\n",
       "      <td>1</td>\n",
       "      <td>2022-12-20</td>\n",
       "      <td>244</td>\n",
       "      <td>1210</td>\n",
       "      <td>7145.15</td>\n",
       "      <td>NaN</td>\n",
       "      <td>NaN</td>\n",
       "      <td>FLO Europe Sas - Ruitz (FR)</td>\n",
       "      <td>EUR</td>\n",
       "      <td>lohnsdorf</td>\n",
       "      <td>15/07/2350</td>\n",
       "      <td>fibu</td>\n",
       "    </tr>\n",
       "    <tr>\n",
       "      <th>38002</th>\n",
       "      <td>521828</td>\n",
       "      <td>2</td>\n",
       "      <td>2022-12-20</td>\n",
       "      <td>244</td>\n",
       "      <td>NaN</td>\n",
       "      <td>NaN</td>\n",
       "      <td>20524</td>\n",
       "      <td>7145.15</td>\n",
       "      <td>FLO Europe Sas - Ruitz (FR)</td>\n",
       "      <td>EUR</td>\n",
       "      <td>lohnsdorf</td>\n",
       "      <td>16/07/2350</td>\n",
       "      <td>fibu</td>\n",
       "    </tr>\n",
       "  </tbody>\n",
       "</table>\n",
       "<p>38003 rows × 13 columns</p>\n",
       "</div>"
      ],
      "text/plain": [
       "Name  booking_nr  line_nr document_date document_nr debit_account  \\\n",
       "0         510376        3    2022-08-25     2208355           NaN   \n",
       "1         510377        1    2022-08-25     2208354         10122   \n",
       "2         510377        2    2022-08-25     2208354          1400   \n",
       "3         510377        3    2022-08-25     2208354           NaN   \n",
       "4         510378        1    2022-08-25     2208353         11810   \n",
       "...          ...      ...           ...         ...           ...   \n",
       "37998     521827        1    2022-12-20         244          1210   \n",
       "37999     521827        2    2022-12-20         244           NaN   \n",
       "38000     521827        3    2022-12-20         244           NaN   \n",
       "38001     521828        1    2022-12-20         244          1210   \n",
       "38002     521828        2    2022-12-20         244           NaN   \n",
       "\n",
       "Name   debit_amount credit_account  credit_amount  \\\n",
       "0               NaN           8125        9372.70   \n",
       "1           3335.50            NaN            NaN   \n",
       "2           3335.50            NaN            NaN   \n",
       "3               NaN           8125        3335.50   \n",
       "4           8137.60            NaN            NaN   \n",
       "...             ...            ...            ...   \n",
       "37998       5329.73            NaN            NaN   \n",
       "37999           NaN          21259        5329.73   \n",
       "38000           NaN           1400        5329.73   \n",
       "38001       7145.15            NaN            NaN   \n",
       "38002           NaN          20524        7145.15   \n",
       "\n",
       "Name                            description currency       user booking_date  \\\n",
       "0                        Model - Berka (DE)      EUR       hess   29/06/2246   \n",
       "1                        Brohl - Mayen (DE)      EUR       hess   30/06/2246   \n",
       "2                        Brohl - Mayen (DE)      EUR       hess   01/07/2246   \n",
       "3                        Brohl - Mayen (DE)      EUR       hess   02/07/2246   \n",
       "4                    Bong BDT - Torgau (DE)      EUR       hess   03/07/2246   \n",
       "...                                     ...      ...        ...          ...   \n",
       "37998  Marco Emballages - Saint-Python (FR)      EUR  lohnsdorf   12/07/2350   \n",
       "37999  Marco Emballages - Saint-Python (FR)      EUR  lohnsdorf   13/07/2350   \n",
       "38000  Marco Emballages - Saint-Python (FR)      EUR  lohnsdorf   14/07/2350   \n",
       "38001           FLO Europe Sas - Ruitz (FR)      EUR  lohnsdorf   15/07/2350   \n",
       "38002           FLO Europe Sas - Ruitz (FR)      EUR  lohnsdorf   16/07/2350   \n",
       "\n",
       "Name  document_source  \n",
       "0                fibu  \n",
       "1                fibu  \n",
       "2                fibu  \n",
       "3                fibu  \n",
       "4                fibu  \n",
       "...               ...  \n",
       "37998            fibu  \n",
       "37999            fibu  \n",
       "38000            fibu  \n",
       "38001            fibu  \n",
       "38002            fibu  \n",
       "\n",
       "[38003 rows x 13 columns]"
      ]
     },
     "execution_count": 162,
     "metadata": {},
     "output_type": "execute_result"
    }
   ],
   "source": [
    "\n",
    "df_manual_booking_entries\n"
   ]
  }
 ],
 "metadata": {
  "kernelspec": {
   "display_name": "Python 3 (ipykernel)",
   "language": "python",
   "name": "python3"
  },
  "language_info": {
   "codemirror_mode": {
    "name": "ipython",
    "version": 3
   },
   "file_extension": ".py",
   "mimetype": "text/x-python",
   "name": "python",
   "nbconvert_exporter": "python",
   "pygments_lexer": "ipython3",
   "version": "3.10.7"
  }
 },
 "nbformat": 4,
 "nbformat_minor": 5
}
